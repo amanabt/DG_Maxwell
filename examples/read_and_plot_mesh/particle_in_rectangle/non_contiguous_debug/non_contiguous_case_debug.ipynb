{
 "cells": [
  {
   "cell_type": "code",
   "execution_count": 1,
   "metadata": {},
   "outputs": [
    {
     "name": "stdout",
     "output_type": "stream",
     "text": [
      "gmshtranslator friendly reminder: rules and actions prototypes\n",
      "\n",
      "\n",
      "def node_condition(tag,x,y,z,physgroups): \n",
      "def node_action(tag,x,y,z):\n",
      "def element_condition(eletag,eletype,physgrp,nodes):\n",
      "def element_action(eletag,eletype,physgrp,nodes):\n"
     ]
    }
   ],
   "source": [
    "import os\n",
    "import sys\n",
    "sys.path.insert(0, os.path.abspath('../../../'))\n",
    "\n",
    "import numpy as np\n",
    "import arrayfire as af\n",
    "from matplotlib import pyplot as plt\n",
    "\n",
    "from dg_maxwell import params\n",
    "from dg_maxwell import msh_parser\n",
    "from dg_maxwell import advection_2d\n",
    "from dg_maxwell import global_variables as gvar\n",
    "from dg_maxwell import utils\n",
    "from dg_maxwell import wave_equation_2d as w2d\n",
    "from dg_maxwell import isoparam\n",
    "from dg_maxwell import lagrange\n",
    "from dg_maxwell import advection_2d_arbit_mesh as a2d_arbit_mesh\n",
    "\n",
    "af.set_backend(params.backend)\n",
    "af.set_device(params.device)\n",
    "\n",
    "plt.rcParams['figure.figsize']     = 12, 7.5\n",
    "plt.rcParams['lines.linewidth']    = 1.5\n",
    "plt.rcParams['font.family']        = 'serif'\n",
    "plt.rcParams['font.weight']        = 'bold'\n",
    "plt.rcParams['font.size']          = 20  \n",
    "plt.rcParams['font.sans-serif']    = 'serif'\n",
    "plt.rcParams['text.usetex']        = True\n",
    "plt.rcParams['axes.linewidth']     = 1.5\n",
    "plt.rcParams['axes.titlesize']     = 'medium'\n",
    "plt.rcParams['axes.labelsize']     = 'medium'\n",
    "\n",
    "plt.rcParams['xtick.major.size']   = 8\n",
    "plt.rcParams['xtick.minor.size']   = 4\n",
    "plt.rcParams['xtick.major.pad']    = 8\n",
    "plt.rcParams['xtick.minor.pad']    = 8\n",
    "plt.rcParams['xtick.color']        = 'k'\n",
    "plt.rcParams['xtick.labelsize']    = 'medium'\n",
    "plt.rcParams['xtick.direction']    = 'in'    \n",
    "\n",
    "plt.rcParams['ytick.major.size']   = 8\n",
    "plt.rcParams['ytick.minor.size']   = 4\n",
    "plt.rcParams['ytick.major.pad']    = 8\n",
    "plt.rcParams['ytick.minor.pad']    = 8\n",
    "plt.rcParams['ytick.color']        = 'k'\n",
    "plt.rcParams['ytick.labelsize']    = 'medium'\n",
    "plt.rcParams['ytick.direction']    = 'in'\n",
    "plt.rcParams['text.usetex']        = True\n",
    "plt.rcParams['text.latex.unicode'] = True"
   ]
  },
  {
   "cell_type": "code",
   "execution_count": 2,
   "metadata": {},
   "outputs": [
    {
     "name": "stderr",
     "output_type": "stream",
     "text": [
      "/home/ubermensch/.local/anaconda3/lib/python3.6/site-packages/numpy/lib/polynomial.py:1193: FutureWarning: In the future extra properties will not be copied across when constructing one poly1d from another\n",
      "  other = poly1d(other)\n",
      "/home/ubermensch/.local/anaconda3/lib/python3.6/site-packages/numpy/lib/polynomial.py:1220: FutureWarning: In the future extra properties will not be copied across when constructing one poly1d from another\n",
      "  other = poly1d(other)\n"
     ]
    },
    {
     "name": "stdout",
     "output_type": "stream",
     "text": [
      "gmshTranslator: Initializing...\n",
      "gmshTranslator: Mesh has 81 nodes.\n",
      "gmshTranslator: Mesh has 36 elements.\n",
      "gmshTranslator: Processed 121 lines.\n",
      "gmshTranslator: There are 1 physical groups available: \n",
      "gmshTranslator:      > 0\n",
      "gmshTranslator: Parsing nodes\n",
      "gmshTranslator: Parsing elements\n",
      "gmshTranslator: No rules for elements... skipping elements.\n",
      "gmshTranslator: Parsing nodes\n",
      "gmshTranslator: No rules for nodes... skipping nodes.\n",
      "gmshTranslator: Parsing elements\n",
      "0 6\n",
      "1 7\n",
      "14 8\n",
      "15 10\n",
      "advection_variables __init__ completed\n"
     ]
    }
   ],
   "source": [
    "params.mesh_file = '../../read_and_plot_mesh/mesh/square_contiguous_4_4.msh'\n",
    "advec_var = gvar.advection_variables(params.N_LGL, params.N_quad,\n",
    "                                     params.x_nodes, params.N_Elements,\n",
    "                                     params.c, params.total_time, params.wave,\n",
    "                                     params.c_x, params.c_y, params.courant,\n",
    "                                     params.mesh_file, params.total_time_2d)"
   ]
  },
  {
   "cell_type": "code",
   "execution_count": 3,
   "metadata": {},
   "outputs": [
    {
     "name": "stdout",
     "output_type": "stream",
     "text": [
      "arrayfire.Array()\n",
      "Type: int\n",
      "\n",
      "[16 4 1 1]\n",
      "        15          4          1          6 \n",
      "         0          5          2          7 \n",
      "        13          6          3         -1 \n",
      "         2          7         -1         -1 \n",
      "        11          8          5          0 \n",
      "         4          9          6          1 \n",
      "        10          0          7          2 \n",
      "         6          1         -1          3 \n",
      "        14         12          9          4 \n",
      "         8         13         10          5 \n",
      "        15          6         11          6 \n",
      "        10          4         -1          7 \n",
      "        -1         -1         13          8 \n",
      "        12         -1          2          9 \n",
      "        13          8         15         10 \n",
      "        14         10          0         11 \n",
      "\n",
      "\n"
     ]
    }
   ],
   "source": [
    "print(advec_var.interelement_relations)"
   ]
  },
  {
   "cell_type": "code",
   "execution_count": 4,
   "metadata": {},
   "outputs": [
    {
     "name": "stdout",
     "output_type": "stream",
     "text": [
      "gmshTranslator: Ending\n"
     ]
    },
    {
     "name": "stderr",
     "output_type": "stream",
     "text": [
      "/home/ubermensch/.local/anaconda3/lib/python3.6/site-packages/matplotlib/cbook/deprecation.py:106: MatplotlibDeprecationWarning: Adding an axes using the same arguments as a previous axes currently reuses the earlier instance.  In a future version, a new instance will always be created and returned.  Meanwhile, this warning can be suppressed, and the future behavior ensured, by passing a unique label to each axes instance.\n",
      "  warnings.warn(message, mplDeprecation, stacklevel=1)\n"
     ]
    },
    {
     "data": {
      "image/png": "[encoded data removed]",
      "text/plain": [
       "<matplotlib.figure.Figure at 0x7facedd94860>"
      ]
     },
     "metadata": {},
     "output_type": "display_data"
    }
   ],
   "source": [
    "axes_handler = plt.axes()\n",
    "\n",
    "\n",
    "msh_parser.plot_mesh_grid(advec_var.nodes, advec_var.elements,\n",
    "                          advec_var.xi_LGL, advec_var.eta_LGL,\n",
    "                          axes_handler, plot_LGL_grid = False,\n",
    "                          print_element_tag = True)\n",
    "\n",
    "# plt.title(r'Grid plot of a mesh for $N_{LGL} = 8$.'\n",
    "#           '\\n Red lines are mesh grid, and \\n'\n",
    "#           'blue lines are element boundaries.')\n",
    "plt.title(r'Plot of Mesh. The element tag is shown in red')\n",
    "plt.xlabel(r'$x$')\n",
    "plt.ylabel(r'$y$')\n",
    "\n",
    "plt.xlim(-1.1, 1.1)\n",
    "plt.ylim(-1.1, 1.1)\n",
    "plt.axes().set_aspect('equal')\n",
    "\n",
    "plt.savefig('square.png')\n",
    "plt.show()"
   ]
  },
  {
   "cell_type": "code",
   "execution_count": 4,
   "metadata": {},
   "outputs": [
    {
     "name": "stdout",
     "output_type": "stream",
     "text": [
      "0 \t [15  2  1  6]\n",
      "1 \t [ 0  3 14  7]\n",
      "2 \t [13  4  3  0]\n",
      "3 \t [ 2  5 12  1]\n",
      "4 \t [11  6  5  2]\n",
      "5 \t [4 7 9 3]\n",
      "6 \t [10  0  7  4]\n",
      "7 \t [6 1 8 5]\n",
      "8 \t [14 10  9  7]\n",
      "9 \t [ 8 11 12  5]\n",
      "10 \t [15  6 11  8]\n",
      "11 \t [10  4 13  9]\n",
      "12 \t [ 3 14 13  9]\n",
      "13 \t [12 15  2 11]\n",
      "14 \t [ 1  8 15 12]\n",
      "15 \t [14 10  0 13]\n"
     ]
    }
   ],
   "source": [
    "for element_tag, interelement_relation in enumerate(advec_var.interelement_relations):\n",
    "    print(element_tag, '\\t', np.array(interelement_relation)[0])"
   ]
  },
  {
   "cell_type": "code",
   "execution_count": 13,
   "metadata": {},
   "outputs": [
    {
     "name": "stdout",
     "output_type": "stream",
     "text": [
      "0 \t [ True  True  True  True]\n",
      "1 \t [ True  True  True  True]\n",
      "2 \t [ True  True  True  True]\n",
      "3 \t [ True  True  True  True]\n",
      "4 \t [ True  True  True  True]\n",
      "5 \t [ True  True  True  True]\n",
      "6 \t [ True  True  True  True]\n",
      "7 \t [ True  True  True  True]\n",
      "8 \t [ True  True  True  True]\n",
      "9 \t [ True  True  True  True]\n",
      "10 \t [ True  True  True  True]\n",
      "11 \t [ True  True  True  True]\n",
      "12 \t [ True  True  True  True]\n",
      "13 \t [ True  True  True  True]\n",
      "14 \t [ True  True  True  True]\n",
      "15 \t [ True  True  True  True]\n"
     ]
    }
   ],
   "source": [
    "# Code to apply periodic BC in the 4x4 non-contiguous mesh.\n",
    "\n",
    "interelement_relations = advec_var.interelement_relations\n",
    "\n",
    "interelement_relations[0, 0] = 15\n",
    "interelement_relations[15, 2] = 0\n",
    "\n",
    "interelement_relations[2, 0] = 13\n",
    "interelement_relations[13, 2] = 2\n",
    "\n",
    "interelement_relations[4, 0] = 11\n",
    "interelement_relations[11, 1] = 4\n",
    "\n",
    "interelement_relations[6, 0] = 10\n",
    "interelement_relations[10, 1] = 6\n",
    "\n",
    "interelement_relations[0, 3] = 6\n",
    "interelement_relations[6, 1] = 0\n",
    "\n",
    "interelement_relations[1, 3] = 7\n",
    "interelement_relations[7, 1] = 1\n",
    "\n",
    "interelement_relations[14, 1] = 8\n",
    "interelement_relations[8, 0] = 14\n",
    "\n",
    "interelement_relations[15, 1] = 10\n",
    "interelement_relations[10, 0] = 15\n",
    "\n",
    "\n",
    "for element_tag, interelement_relation in enumerate(interelement_relations):\n",
    "    print(element_tag, '\\t', np.array(interelement_relation)[0] != -1)"
   ]
  },
  {
   "cell_type": "code",
   "execution_count": 4,
   "metadata": {},
   "outputs": [],
   "source": [
    "#####################################################################\n",
    "## Periodic boundary conditions for square 10x10 non-contiguous mesh\n",
    "#####################################################################\n",
    "\n",
    "vertical_boundary_elements_pbc = [[ 0,  99],\n",
    "                                  [ 5,  94],\n",
    "                                  [10,  89],\n",
    "                                  [15,  84],\n",
    "                                  [20,  79],\n",
    "                                  [25,  74],\n",
    "                                  [30,  73],\n",
    "                                  [35,  72],\n",
    "                                  [40,  71],\n",
    "                                  [45,  70]]\n",
    "\n",
    "vertical_boundary_elements_pbc = np.array(vertical_boundary_elements_pbc)\n",
    "\n",
    "\n",
    "horizontal_boundary_elements_pbc = [[ 0,  45],\n",
    "                                    [ 1,  46],\n",
    "                                    [ 2,  47],\n",
    "                                    [ 3,  48],\n",
    "                                    [ 4,  49],\n",
    "                                    [95,  50],\n",
    "                                    [96,  55],\n",
    "                                    [97,  60],\n",
    "                                    [98,  65],\n",
    "                                    [99,  70]]\n",
    "\n",
    "horizontal_boundary_elements_pbc = np.array(horizontal_boundary_elements_pbc)"
   ]
  },
  {
   "cell_type": "code",
   "execution_count": 5,
   "metadata": {},
   "outputs": [],
   "source": [
    "element_lf_flux = a2d_arbit_mesh.lf_flux_all_edges_vectorized(advec_var.u_e_ij, advec_var = advec_var)"
   ]
  },
  {
   "cell_type": "code",
   "execution_count": 7,
   "metadata": {},
   "outputs": [
    {
     "name": "stdout",
     "output_type": "stream",
     "text": [
      "arrayfire.Array()\n",
      "Type: double\n",
      "\n",
      "[100 4 1 1]\n",
      "    0.0000     0.0000     0.0003    -0.0000 \n",
      "    0.0003     0.0000     0.0019     0.0000 \n",
      "    0.0019     0.0000     0.0067     0.0000 \n",
      "    0.0067     0.0000     0.0143     0.0000 \n",
      "    0.0143     0.0000     0.0183     0.0000 \n",
      "    0.0000     0.0000     0.0019     0.0000 \n",
      "    0.0019     0.0000     0.0111     0.0000 \n",
      "    0.0111     0.0000     0.0388     0.0000 \n",
      "    0.0388     0.0000     0.0821     0.0000 \n",
      "    0.0821     0.0000     0.1054     0.0000 \n",
      "    0.0002     0.0000     0.0067     0.0000 \n",
      "    0.0067     0.0000     0.0388     0.0000 \n",
      "    0.0388     0.0000     0.1353     0.0000 \n",
      "    0.1353     0.0000     0.2865     0.0000 \n",
      "    0.2865     0.0000     0.3679     0.0000 \n",
      "    0.0007     0.0000     0.0143     0.0000 \n",
      "    0.0143     0.0000     0.0821     0.0000 \n",
      "    0.0821     0.0000     0.2865     0.0000 \n",
      "    0.2865     0.0000     0.6065     0.0000 \n",
      "    0.6065     0.0000     0.7788     0.0000 \n",
      "    0.0015    -0.0000     0.0183     0.0000 \n",
      "    0.0183     0.0000     0.1054     0.0000 \n",
      "    0.1054    -0.0000     0.3679     0.0000 \n",
      "    0.3679     0.0000     0.7788     0.0000 \n",
      "    0.7788     0.0000     1.0000     0.0000 \n",
      "    0.0019    -0.0000     0.0143    -0.0000 \n",
      "    0.0143    -0.0000     0.0821     0.0000 \n",
      "    0.0821    -0.0000     0.2865    -0.0000 \n",
      "    0.2865    -0.0000     0.6065     0.0000 \n",
      "    0.6065    -0.0000     0.7788     0.0000 \n",
      "    0.0015    -0.0000     0.0067    -0.0000 \n",
      "    0.0067    -0.0000     0.0388    -0.0000 \n",
      "    0.0388    -0.0000     0.1353    -0.0000 \n",
      "    0.1353    -0.0000     0.2865    -0.0000 \n",
      "    0.2865    -0.0000     0.3679    -0.0000 \n",
      "    0.0007    -0.0000     0.0019    -0.0000 \n",
      "    0.0019    -0.0000     0.0111    -0.0000 \n",
      "    0.0111    -0.0000     0.0388    -0.0000 \n",
      "    0.0388    -0.0000     0.0821    -0.0000 \n",
      "    0.0821    -0.0000     0.1054    -0.0000 \n",
      "    0.0002    -0.0000     0.0003    -0.0000 \n",
      "    0.0003    -0.0000     0.0019    -0.0000 \n",
      "    0.0019    -0.0000     0.0067    -0.0000 \n",
      "    0.0067    -0.0000     0.0143    -0.0000 \n",
      "    0.0143    -0.0000     0.0183    -0.0000 \n",
      "    0.0000    -0.0000     0.0000    -0.0000 \n",
      "    0.0000     0.0000     0.0002    -0.0000 \n",
      "    0.0002     0.0000     0.0007    -0.0000 \n",
      "    0.0007     0.0000     0.0015    -0.0000 \n",
      "    0.0015     0.0000     0.0019    -0.0000 \n",
      "    0.0000     0.0084     0.0143    -0.0000 \n",
      "    0.0143    -0.0000     0.0821     0.0000 \n",
      "    0.0821    -0.0000     0.2865     0.0000 \n",
      "    0.2865    -0.0000     0.6065     0.0000 \n",
      "    0.6065    -0.0000     0.7788     0.0000 \n",
      "    0.0000     0.0068     0.0067     0.0008 \n",
      "    0.0067    -0.0000     0.0388    -0.0000 \n",
      "    0.0388    -0.0000     0.1353    -0.0000 \n",
      "    0.1353    -0.0000     0.2865    -0.0000 \n",
      "    0.2865    -0.0000     0.3679    -0.0000 \n",
      "    0.0000     0.0033     0.0019     0.0004 \n",
      "    0.0019    -0.0000     0.0111    -0.0000 \n",
      "    0.0111    -0.0000     0.0388    -0.0000 \n",
      "    0.0388    -0.0000     0.0821    -0.0000 \n",
      "    0.0821    -0.0000     0.1054    -0.0000 \n",
      "    0.0000     0.0009     0.0003     0.0001 \n",
      "    0.0003    -0.0000     0.0019    -0.0000 \n",
      "    0.0019    -0.0000     0.0067    -0.0000 \n",
      "    0.0067    -0.0000     0.0143    -0.0000 \n",
      "    0.0143    -0.0000     0.0183    -0.0000 \n",
      "    0.0000     0.0002     0.0000     0.0000 \n",
      "    0.0000    -0.0000     0.0002    -0.0000 \n",
      "    0.0000    -0.0001     0.0007    -0.0000 \n",
      "    0.0000    -0.0004     0.0015    -0.0000 \n",
      "    0.0000    -0.0008     0.0019    -0.0000 \n",
      "    1.0000    -0.0000     0.6065     0.1106 \n",
      "    0.6065    -0.0000     0.2865     0.2055 \n",
      "    0.2865    -0.0000     0.0821     0.1312 \n",
      "    0.0821    -0.0000     0.0143     0.0435 \n",
      "    0.0143    -0.0000     0.0015     0.0092 \n",
      "    0.7788    -0.0000     0.2865    -0.0000 \n",
      "    0.2865    -0.0000     0.1353    -0.0000 \n",
      "    0.1353    -0.0000     0.0388    -0.0000 \n",
      "    0.0388    -0.0000     0.0067    -0.0000 \n",
      "    0.0067    -0.0000     0.0007    -0.0000 \n",
      "    0.3679    -0.0000     0.0821    -0.0000 \n",
      "    0.0821    -0.0000     0.0388    -0.0000 \n",
      "    0.0388    -0.0000     0.0111    -0.0000 \n",
      "    0.0111    -0.0000     0.0019    -0.0000 \n",
      "    0.0019    -0.0000     0.0002    -0.0000 \n",
      "    0.1054    -0.0092     0.0143    -0.0000 \n",
      "    0.0143    -0.0071     0.0067    -0.0000 \n",
      "    0.0067    -0.0034     0.0019    -0.0000 \n",
      "    0.0019    -0.0010     0.0003    -0.0000 \n",
      "    0.0003    -0.0002     0.0000    -0.0000 \n",
      "    0.0183    -0.0010     0.0015     0.0084 \n",
      "    0.0015    -0.0008     0.0007     0.0068 \n",
      "    0.0007    -0.0004     0.0002     0.0033 \n",
      "    0.0002    -0.0001     0.0000     0.0009 \n",
      "    0.0000    -0.0000     0.0000     0.0002 \n",
      "\n",
      "\n"
     ]
    }
   ],
   "source": [
    "print(element_lf_flux[:, :, 0])"
   ]
  },
  {
   "cell_type": "code",
   "execution_count": null,
   "metadata": {},
   "outputs": [],
   "source": []
  }
 ],
 "metadata": {
  "kernelspec": {
   "display_name": "Python 3",
   "language": "python",
   "name": "python3"
  },
  "language_info": {
   "codemirror_mode": {
    "name": "ipython",
    "version": 3
   },
   "file_extension": ".py",
   "mimetype": "text/x-python",
   "name": "python",
   "nbconvert_exporter": "python",
   "pygments_lexer": "ipython3",
   "version": "3.6.3"
  }
 },
 "nbformat": 4,
 "nbformat_minor": 2
}
