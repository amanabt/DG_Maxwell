{
 "cells": [
  {
   "cell_type": "code",
   "execution_count": 1,
   "metadata": {},
   "outputs": [
    {
     "name": "stdout",
     "output_type": "stream",
     "text": [
      "gmshtranslator friendly reminder: rules and actions prototypes\n",
      "\n",
      "\n",
      "def node_condition(tag,x,y,z,physgroups): \n",
      "def node_action(tag,x,y,z):\n",
      "def element_condition(eletag,eletype,physgrp,nodes):\n",
      "def element_action(eletag,eletype,physgrp,nodes):\n"
     ]
    },
    {
     "name": "stderr",
     "output_type": "stream",
     "text": [
      "/home/ubermensch/.local/anaconda3/lib/python3.6/site-packages/numpy/lib/polynomial.py:1193: FutureWarning: In the future extra properties will not be copied across when constructing one poly1d from another\n",
      "  other = poly1d(other)\n",
      "/home/ubermensch/.local/anaconda3/lib/python3.6/site-packages/numpy/lib/polynomial.py:1220: FutureWarning: In the future extra properties will not be copied across when constructing one poly1d from another\n",
      "  other = poly1d(other)\n"
     ]
    }
   ],
   "source": [
    "import os\n",
    "import sys\n",
    "import csv\n",
    "sys.path.insert(0, os.path.abspath('../'))\n",
    "\n",
    "import numpy as np\n",
    "from matplotlib import pyplot as plt\n",
    "from mpl_toolkits.mplot3d import Axes3D as ax\n",
    "import arrayfire as af\n",
    "\n",
    "from dg_maxwell import params\n",
    "from dg_maxwell import utils\n",
    "from dg_maxwell import lagrange\n",
    "from dg_maxwell import wave_equation_2d as w2d\n",
    "from dg_maxwell import msh_parser\n",
    "from dg_maxwell import isoparam\n",
    "\n",
    "af.set_backend(params.backend)\n",
    "af.set_device(params.device)\n",
    "af.info()"
   ]
  },
  {
   "cell_type": "code",
   "execution_count": 2,
   "metadata": {},
   "outputs": [
    {
     "name": "stdout",
     "output_type": "stream",
     "text": [
      "gmshTranslator: Initializing...\n",
      "gmshTranslator: Mesh has 441 nodes.\n",
      "gmshTranslator: Mesh has 144 elements.\n",
      "gmshTranslator: Processed 589 lines.\n",
      "gmshTranslator: There are 1 physical groups available: \n",
      "gmshTranslator:      > 0\n",
      "gmshTranslator: Parsing nodes\n",
      "gmshTranslator: Parsing elements\n",
      "gmshTranslator: No rules for elements... skipping elements.\n",
      "gmshTranslator: Parsing nodes\n",
      "gmshTranslator: No rules for nodes... skipping nodes.\n",
      "gmshTranslator: Parsing elements\n"
     ]
    }
   ],
   "source": [
    "nodes, elements = msh_parser.read_order_2_msh('read_and_plot_mesh/mesh/square_10_10.msh')"
   ]
  },
  {
   "cell_type": "code",
   "execution_count": 3,
   "metadata": {},
   "outputs": [],
   "source": [
    "def u_init(x, y):\n",
    "    return np.e**(-(x**2 + y**2) / 0.4**2)"
   ]
  },
  {
   "cell_type": "code",
   "execution_count": 4,
   "metadata": {},
   "outputs": [
    {
     "name": "stderr",
     "output_type": "stream",
     "text": [
      "/home/ubermensch/.local/anaconda3/lib/python3.6/site-packages/numpy/lib/polynomial.py:1193: FutureWarning: In the future extra properties will not be copied across when constructing one poly1d from another\n",
      "  other = poly1d(other)\n",
      "/home/ubermensch/.local/anaconda3/lib/python3.6/site-packages/numpy/lib/polynomial.py:1220: FutureWarning: In the future extra properties will not be copied across when constructing one poly1d from another\n",
      "  other = poly1d(other)\n"
     ]
    }
   ],
   "source": [
    "N_LGL   = 8\n",
    "N_Elements = 10\n",
    "\n",
    "x_e_ij  = af.np_to_af_array(np.zeros([N_LGL * N_LGL, len(elements)]))\n",
    "y_e_ij  = af.np_to_af_array(np.zeros([N_LGL * N_LGL, len(elements)]))\n",
    "\n",
    "xi_LGL  = lagrange.LGL_points(N_LGL)\n",
    "eta_LGL = lagrange.LGL_points(N_LGL)\n",
    "\n",
    "Xi_LGL, Eta_LGL = utils.af_meshgrid(xi_LGL, eta_LGL)\n",
    "xi_i  = af.flat(Xi_LGL)\n",
    "eta_j = af.flat(Eta_LGL)\n",
    "\n",
    "for element_tag, element in enumerate(elements):\n",
    "    x_e_ij[:, element_tag] = isoparam.isoparam_x_2D(nodes[element, 0], xi_i, eta_j)\n",
    "    y_e_ij[:, element_tag] = isoparam.isoparam_y_2D(nodes[element, 1], xi_i, eta_j)"
   ]
  },
  {
   "cell_type": "code",
   "execution_count": 5,
   "metadata": {},
   "outputs": [],
   "source": [
    "u_e_ij = u_init(x_e_ij, y_e_ij)"
   ]
  },
  {
   "cell_type": "code",
   "execution_count": 6,
   "metadata": {},
   "outputs": [],
   "source": [
    "_, Lp_xi  = lagrange.lagrange_polynomials(xi_LGL)\n",
    "_, Lq_eta = lagrange.lagrange_polynomials(eta_LGL)\n",
    "Lp_xi = af.np_to_af_array(Lp_xi)\n",
    "Lq_eta = af.np_to_af_array(Lq_eta)\n",
    "\n",
    "dLp_dxi_coeffs  = utils.polynomial_derivative(Lp_xi)\n",
    "dLq_deta_coeffs = utils.polynomial_derivative(Lq_eta)"
   ]
  },
  {
   "cell_type": "code",
   "execution_count": 7,
   "metadata": {},
   "outputs": [],
   "source": [
    "Lp_xi_tp = af.reorder(Lp_xi, d0 = 2, d1 = 0, d2 = 1)\n",
    "Lp_xi_tp = af.tile(Lp_xi_tp, d0 = N_LGL)\n",
    "Lp_xi_tp = af.moddims(Lp_xi_tp, d0 = N_LGL * N_LGL, d1 = 1, d2 = N_LGL)\n",
    "Lp_xi_tp = af.reorder(Lp_xi_tp, d0 = 0, d1 = 2, d2 = 1)\n",
    "\n",
    "Lq_eta_tp = af.reorder(Lq_eta, d0 = 0, d1 = 2, d2 = 1)\n",
    "Lq_eta_tp = af.tile(Lq_eta_tp, d0 = N_LGL)\n",
    "Lq_eta_tp = af.reorder(Lq_eta_tp, d0 = 0, d1 = 2, d2 = 1)"
   ]
  },
  {
   "cell_type": "code",
   "execution_count": 8,
   "metadata": {},
   "outputs": [],
   "source": [
    "dLp_dxi_tp = af.reorder(dLp_dxi_coeffs, d0 = 2, d1 = 0, d2 = 1)\n",
    "dLp_dxi_tp = af.tile(dLp_dxi_tp, d0 = N_LGL)\n",
    "dLp_dxi_tp = af.moddims(dLp_dxi_tp, d0 = N_LGL * N_LGL, d1 = 1, d2 = N_LGL - 1)\n",
    "dLp_dxi_tp = af.reorder(dLp_dxi_tp, d0 = 0, d1 = 2, d2 = 1)\n",
    "\n",
    "dLq_deta_tp = af.reorder(dLq_deta_coeffs, d0 = 0, d1 = 2, d2 = 1)\n",
    "dLq_deta_tp = af.tile(dLq_deta_tp, d0 = N_LGL)\n",
    "dLq_deta_tp = af.reorder(dLq_deta_tp, d0 = 0, d1 = 2, d2 = 1)"
   ]
  },
  {
   "cell_type": "code",
   "execution_count": 9,
   "metadata": {},
   "outputs": [],
   "source": [
    "dxi_dx  = af.constant(0, N_LGL**2, len(elements), dtype = af.Dtype.f64)\n",
    "dxi_dy  = af.constant(0, N_LGL**2, len(elements), dtype = af.Dtype.f64)\n",
    "deta_dx = af.constant(0, N_LGL**2, len(elements), dtype = af.Dtype.f64)\n",
    "deta_dy = af.constant(0, N_LGL**2, len(elements), dtype = af.Dtype.f64)\n",
    "\n",
    "for element_tag, element in enumerate(elements):\n",
    "    dxi_dx[:, element_tag]  = w2d.dxi_dx(nodes[element][:, 0], nodes[element][:, 1], xi_i, eta_j)\n",
    "    dxi_dy[:, element_tag]  = w2d.dxi_dy(nodes[element][:, 0], nodes[element][:, 1], xi_i, eta_j)\n",
    "    deta_dx[:, element_tag] = w2d.deta_dx(nodes[element][:, 0], nodes[element][:, 1], xi_i, eta_j)\n",
    "    deta_dy[:, element_tag] = w2d.deta_dy(nodes[element][:, 0], nodes[element][:, 1], xi_i, eta_j)"
   ]
  },
  {
   "cell_type": "code",
   "execution_count": 10,
   "metadata": {},
   "outputs": [],
   "source": [
    "def F_xi(u, dxi_dx, dxi_dy):\n",
    "    '''\n",
    "    '''\n",
    "    F_xi_u = w2d.F_x(u) * dxi_dx + w2d.F_y(u) * dxi_dy\n",
    "\n",
    "    return F_xi_u\n",
    "\n",
    "def F_eta(u, deta_dx, deta_dy):\n",
    "    '''\n",
    "    '''\n",
    "    F_eta_u = w2d.F_x(u) * deta_dx + w2d.F_y(u) * deta_dy\n",
    "    \n",
    "    return F_eta_u"
   ]
  },
  {
   "cell_type": "code",
   "execution_count": 11,
   "metadata": {},
   "outputs": [],
   "source": [
    "def g_dd(x_nodes, y_nodes, xi, eta):\n",
    "    '''\n",
    "    '''\n",
    "    ans00  =   (w2d.dx_dxi(x_nodes, xi, eta))**2 \\\n",
    "             + (w2d.dy_dxi(y_nodes, xi, eta))**2\n",
    "    ans11  =   (w2d.dx_deta(x_nodes, xi, eta))**2 \\\n",
    "             + (w2d.dy_deta(y_nodes, xi, eta))**2\n",
    "    \n",
    "    ans01  =  (w2d.dx_dxi(x_nodes, xi, eta))  \\\n",
    "            * (w2d.dx_deta(x_nodes, xi, eta)) \\\n",
    "            + (w2d.dy_dxi(y_nodes, xi, eta))  \\\n",
    "            * (w2d.dy_deta(y_nodes, xi, eta))\n",
    "    \n",
    "    ans =  [[ans00, ans01],\n",
    "            [ans01, ans11]\n",
    "           ]\n",
    "    \n",
    "    return ans\n",
    "\n",
    "\n",
    "def g_uu(x_nodes, y_nodes, xi, eta):\n",
    "    gCov = g_dd(x_nodes, y_nodes, xi, eta)\n",
    "    \n",
    "    \n",
    "    a = gCov[0][0]\n",
    "    b = gCov[0][1]\n",
    "    c = gCov[1][0]\n",
    "    d = gCov[1][1]\n",
    "    \n",
    "    det = (a*d - b*c)\n",
    "    \n",
    "    ans = [[d / det, -b / det],\n",
    "           [-c / det, a / det]]\n",
    "    \n",
    "    return ans"
   ]
  },
  {
   "cell_type": "code",
   "execution_count": 12,
   "metadata": {},
   "outputs": [],
   "source": [
    "G_ab = [[af.constant(0, N_LGL * N_LGL, len(elements), dtype = af.Dtype.f64),\n",
    "         af.constant(0, N_LGL * N_LGL, len(elements), dtype = af.Dtype.f64)],\n",
    "        [af.constant(0, N_LGL * N_LGL, len(elements), dtype = af.Dtype.f64),\n",
    "         af.constant(0, N_LGL * N_LGL, len(elements), dtype = af.Dtype.f64)]]\n",
    "\n",
    "for element_tag, element in enumerate(elements):\n",
    "    g_ab = g_uu(nodes[element][:, 0], nodes[element][:, 1], xi_i, eta_j)\n",
    "    G_ab[0][0][:, element_tag] = g_ab[0][0]\n",
    "    G_ab[0][1][:, element_tag] = g_ab[0][1]\n",
    "    G_ab[1][0][:, element_tag] = g_ab[1][0]\n",
    "    G_ab[1][1][:, element_tag] = g_ab[1][1]"
   ]
  },
  {
   "cell_type": "code",
   "execution_count": 13,
   "metadata": {},
   "outputs": [],
   "source": [
    "f_xi  = F_xi(u_e_ij, dxi_dx, dxi_dy)\n",
    "f_eta = F_eta(u_e_ij, deta_dx, deta_dy)"
   ]
  },
  {
   "cell_type": "code",
   "execution_count": 14,
   "metadata": {},
   "outputs": [],
   "source": [
    "def lax_friedrichs_flux(u):\n",
    "    '''\n",
    "    '''\n",
    "    params.N_LGL = 8\n",
    "    u = af.reorder(af.moddims(u, params.N_LGL ** 2, N_Elements, N_Elements), 2, 1, 0)\n",
    "\n",
    "    diff_u_boundary = af.np_to_af_array(np.zeros([N_Elements, N_Elements, params.N_LGL ** 2]))\n",
    "\n",
    "    u_xi_minus1_boundary_right   = u[:, :, :params.N_LGL]\n",
    "    u_xi_minus1_boundary_left    = af.shift(u[:, :, -params.N_LGL:], d0=0, d1 = 1)\n",
    "    u[:, :, :params.N_LGL] = (u_xi_minus1_boundary_right + u_xi_minus1_boundary_left) / 2\n",
    "    \n",
    "    diff_u_boundary[:, :, :params.N_LGL] = (u_xi_minus1_boundary_right - u_xi_minus1_boundary_left)\n",
    "\n",
    "    u_xi_1_boundary_left  = u[:, :, -params.N_LGL:]\n",
    "    u_xi_1_boundary_right = af.shift(u[:, :, :params.N_LGL], d0=0, d1=-1)\n",
    "    u[:, :, :params.N_LGL]     = (u_xi_minus1_boundary_left + u_xi_minus1_boundary_right) / 2\n",
    "    \n",
    "    diff_u_boundary[:, :, -params.N_LGL:] = (u_xi_minus1_boundary_left - u_xi_minus1_boundary_right)\n",
    "\n",
    "    u_eta_1_boundary_down = u[:, :, params.N_LGL - 1:params.N_LGL ** 2:params.N_LGL]\n",
    "    u_eta_1_boundary_up   = af.shift(u[:, :, 0:-params.N_LGL + 1:params.N_LGL], d0=1)\n",
    "    \n",
    "    u[:, :, params.N_LGL - 1:params.N_LGL ** 2:params.N_LGL] = (u_eta_1_boundary_up\\\n",
    "                                                              +u_eta_1_boundary_down) / 2\n",
    "\n",
    "    diff_u_boundary[:, :, params.N_LGL - 1:params.N_LGL ** 2:params.N_LGL] = (u_eta_1_boundary_up\\\n",
    "                                                                             -u_eta_1_boundary_down)\n",
    "\n",
    "\n",
    "    u_eta_minus1_boundary_down = af.shift(u[:, :, params.N_LGL - 1:params.N_LGL ** 2:params.N_LGL], d0=-1)\n",
    "    u_eta_minus1_boundary_up   = u[:, :, 0:-params.N_LGL + 1:params.N_LGL]\n",
    "    u[:, :, 0:-params.N_LGL + 1:params.N_LGL] = (u_eta_minus1_boundary_down\\\n",
    "                                               + u_eta_minus1_boundary_up) / 2\n",
    "\n",
    "    diff_u_boundary[:, :, 0:-params.N_LGL + 1:params.N_LGL] = (u_eta_minus1_boundary_down\\\n",
    "                                                             - u_eta_minus1_boundary_up)\n",
    "\n",
    "\n",
    "    u = af.moddims(af.reorder(u, 2, 1, 0), params.N_LGL ** 2, N_Elements ** 2)\n",
    "    diff_u_boundary = af.moddims(af.reorder(diff_u_boundary, 2, 1, 0), params.N_LGL ** 2, N_Elements ** 2)\n",
    "    F_xi_e_ij  = F_xi(u, dxi_dx, deta_dy) - params.c_lax * diff_u_boundary\n",
    "    F_eta_e_ij = F_eta(u, deta_dx, deta_dy) - params.c_lax * diff_u_boundary\n",
    "\n",
    "    return F_xi_e_ij, F_eta_e_ij"
   ]
  },
  {
   "cell_type": "code",
   "execution_count": 17,
   "metadata": {},
   "outputs": [],
   "source": [
    "lagrange_coeffs = af.np_to_af_array(lagrange.lagrange_polynomials(xi_LGL)[1])\n",
    "\n",
    "def surface_term(u):\n",
    "    '''\n",
    "    '''\n",
    "    surface_term_e_ij = af.constant(0., d0 = N_LGL * N_LGL, d1 = len(elements), dtype = af.Dtype.f64)\n",
    "    for p in range(params.N_LGL):\n",
    "        for q in range(params.N_LGL):\n",
    "            index = p * N_LGL + q\n",
    "            f_xi_surface_term  = lax_friedrichs_flux(u)[0]\n",
    "            f_eta_surface_term = lax_friedrichs_flux(u)[1]\n",
    "\n",
    "            Lp_coeffs = lagrange_coeffs[p]\n",
    "            Lq_coeffs = lagrange_coeffs[q]\n",
    "            Lq_eta    = af.transpose(utils.polyval_1d(Lq_coeffs, eta_LGL))\n",
    "            Lp_xi     = af.transpose(utils.polyval_1d(Lp_coeffs, xi_LGL))\n",
    "            Lp_1      = utils.polyval_1d(lagrange_coeffs[p], xi_LGL[-1])\n",
    "            Lq_1      = utils.polyval_1d(lagrange_coeffs[q], eta_LGL[-1])\n",
    "            Lp_minus1 = utils.polyval_1d(lagrange_coeffs[p], xi_LGL[0])\n",
    "            Lq_minus1 = utils.polyval_1d(lagrange_coeffs[q], eta_LGL[0])\n",
    "\n",
    "            # xi = 1 boundary\n",
    "            Lq_eta_F = af.broadcast(utils.multiply, \\\n",
    "                                    Lq_eta, G_ab[0][0][-params.N_LGL:, :] * f_xi_surface_term[-params.N_LGL:, :]\\\n",
    "                                           + G_ab[1][0][-params.N_LGL:, :] * f_eta_surface_term[-params.N_LGL:, :])\n",
    "            Lq_eta_F = af.reorder(Lq_eta_F, 0, 2, 1)\n",
    "\n",
    "            lag_interpolation_1 = af.reorder(\\\n",
    "                                             af.sum(af.broadcast(utils.multiply, lagrange_coeffs, Lq_eta_F), 0),\\\n",
    "                                             2, 1, 0)\n",
    "\n",
    "            surface_term_pq_xi_1 = af.sum(Lp_1) * lagrange.integrate(lag_interpolation_1)\n",
    "\n",
    "            # eta = 1 boundary\n",
    "            Lp_xi_F = af.broadcast(utils.multiply,\\\n",
    "                                  Lp_xi, G_ab[1][0][params.N_LGL - 1:params.N_LGL ** 2:params.N_LGL]\\\n",
    "                                       * f_xi_surface_term[params.N_LGL - 1:params.N_LGL ** 2:params.N_LGL]\\\n",
    "                                       + G_ab[1][1][params.N_LGL - 1:params.N_LGL ** 2:params.N_LGL]\\\n",
    "                                       * f_eta_surface_term[params.N_LGL - 1:params.N_LGL ** 2:params.N_LGL])\n",
    "            Lp_xi_F = af.reorder(Lp_xi_F, 0, 2, 1)\n",
    "\n",
    "            lag_interpolation_2 = af.reorder(\\\n",
    "                                  af.sum(af.broadcast(utils.multiply, lagrange_coeffs, Lp_xi_F), 0),\\\n",
    "                                             2, 1, 0)\n",
    "            surface_term_pq_eta_1 = af.sum(Lq_1) * lagrange.integrate(lag_interpolation_2)\n",
    "\n",
    "            # xi = -1 boundary\n",
    "            Lq_eta_F = af.broadcast(utils.multiply,\\\n",
    "                                   Lq_eta, G_ab[0][0][:params.N_LGL] * f_xi_surface_term[:params.N_LGL]\\\n",
    "                                         + G_ab[1][0][:params.N_LGL] * f_eta_surface_term[:params.N_LGL])\n",
    "            Lq_eta_F = af.reorder(Lq_eta_F, 0, 2, 1)\n",
    "\n",
    "            lag_interpolation_3 = af.reorder(\\\n",
    "                                  af.sum(af.broadcast(utils.multiply, lagrange_coeffs, Lq_eta_F), 0),\\\n",
    "                                             2, 1, 0)\n",
    "            surface_term_pq_xi_minus1 = af.sum(Lp_minus1) * lagrange.integrate(lag_interpolation_3)\n",
    "\n",
    "            # eta = -1 boundary\n",
    "            Lp_xi_F = af.broadcast(utils.multiply,\\\n",
    "                                  Lp_xi, G_ab[1][0][0:-params.N_LGL + 1:params.N_LGL]\\\n",
    "                                * f_xi_surface_term[0:-params.N_LGL + 1:params.N_LGL]\\\n",
    "                                + G_ab[1][1][0:-params.N_LGL + 1:params.N_LGL]\\\n",
    "                                * f_eta_surface_term[0:-params.N_LGL + 1:params.N_LGL])\n",
    "            Lp_xi_F = af.reorder(Lp_xi_F, 0, 2, 1)\n",
    "\n",
    "            lag_interpolation_4 = af.reorder(\\\n",
    "                                  af.sum(af.broadcast(utils.multiply, lagrange_coeffs, Lp_xi_F), 0),\\\n",
    "                                             2, 1, 0)\n",
    "            surface_term_pq_eta_minus1 = af.sum(Lp_minus1) * lagrange.integrate(lag_interpolation_4)\n",
    "\n",
    "           # print(surface_term_pq_xi_1, surface_term_pq_eta_1, surface_term_pq_eta_minus1, surface_term_pq_xi_minus1)\n",
    "\n",
    "            surface_term_e_ij[index] = af.transpose(surface_term_pq_xi_1 + surface_term_pq_eta_1\n",
    "                                                    + surface_term_pq_xi_minus1 + surface_term_pq_eta_minus1)\n",
    "                \n",
    "    \n",
    "    return surface_term_e_ij"
   ]
  },
  {
   "cell_type": "code",
   "execution_count": 18,
   "metadata": {},
   "outputs": [],
   "source": [
    "# Surface Term\n",
    "surface_term_e_ij = surface_term(u_e_ij)"
   ]
  },
  {
   "cell_type": "code",
   "execution_count": 19,
   "metadata": {},
   "outputs": [
    {
     "name": "stdout",
     "output_type": "stream",
     "text": [
      "0\n"
     ]
    },
    {
     "name": "stderr",
     "output_type": "stream",
     "text": [
      "/home/ubermensch/.local/anaconda3/lib/python3.6/site-packages/numpy/lib/polynomial.py:1193: FutureWarning: In the future extra properties will not be copied across when constructing one poly1d from another\n",
      "  other = poly1d(other)\n",
      "/home/ubermensch/.local/anaconda3/lib/python3.6/site-packages/numpy/lib/polynomial.py:1220: FutureWarning: In the future extra properties will not be copied across when constructing one poly1d from another\n",
      "  other = poly1d(other)\n"
     ]
    },
    {
     "name": "stdout",
     "output_type": "stream",
     "text": [
      "1\n",
      "2\n",
      "3\n",
      "4\n",
      "5\n",
      "6\n",
      "7\n",
      "8\n",
      "9\n",
      "10\n",
      "11\n",
      "12\n",
      "13\n",
      "14\n",
      "15\n",
      "16\n",
      "17\n",
      "18\n",
      "19\n",
      "20\n",
      "21\n",
      "22\n",
      "23\n",
      "24\n",
      "25\n",
      "26\n",
      "27\n",
      "28\n",
      "29\n",
      "30\n",
      "31\n",
      "32\n",
      "33\n",
      "34\n",
      "35\n",
      "36\n",
      "37\n",
      "38\n",
      "39\n",
      "40\n",
      "41\n",
      "42\n",
      "43\n",
      "44\n",
      "45\n",
      "46\n",
      "47\n",
      "48\n",
      "49\n",
      "50\n",
      "51\n",
      "52\n",
      "53\n",
      "54\n",
      "55\n",
      "56\n",
      "57\n",
      "58\n",
      "59\n",
      "60\n",
      "61\n",
      "62\n",
      "63\n"
     ]
    }
   ],
   "source": [
    "volume_integral_e_ij = af.constant(0, N_LGL * N_LGL, len(elements), dtype = af.Dtype.f64)\n",
    "\n",
    "for p in np.arange(N_LGL):\n",
    "    for q in np.arange(N_LGL):\n",
    "#         p = 2\n",
    "#         q = 6\n",
    "        index = p * N_LGL + q\n",
    "\n",
    "        print(index)\n",
    "        dLp_dxi_tp_ij = utils.polyval_1d(dLp_dxi_tp[index], af.np_to_af_array(np.array(xi_i)))\n",
    "        dLp_dxi_tp_ij = af.tile(af.transpose(dLp_dxi_tp_ij), d0 = 1, d1 = len(elements))\n",
    "\n",
    "        Lq_eta_tp_ij = utils.polyval_1d(Lq_eta_tp[index], af.np_to_af_array(np.array(eta_j)))\n",
    "        Lq_eta_tp_ij = af.tile(af.transpose(Lq_eta_tp_ij), d0 = 1, d1 = len(elements))\n",
    "\n",
    "        Lp_xi_tp_ij = utils.polyval_1d(Lp_xi_tp[index], af.np_to_af_array(np.array(xi_i)))\n",
    "        Lp_xi_tp_ij = af.tile(af.transpose(Lp_xi_tp_ij), d0 = 1, d1 = len(elements))\n",
    "\n",
    "        dLq_deta_tp_ij = utils.polyval_1d(dLq_deta_tp[index], af.np_to_af_array(np.array(eta_j)))\n",
    "        dLq_deta_tp_ij = af.tile(af.transpose(dLq_deta_tp_ij), d0 = 1, d1 = len(elements))\n",
    "\n",
    "\n",
    "        volume_integral_pq_ij = G_ab[0][0] * f_xi  * Lq_eta_tp_ij * dLp_dxi_tp_ij \\\n",
    "                              + G_ab[0][1] * f_eta * Lp_xi_tp_ij * dLq_deta_tp_ij \\\n",
    "                              + G_ab[1][0] * f_xi  * Lq_eta_tp_ij * dLp_dxi_tp_ij \\\n",
    "                              + G_ab[1][1] * f_eta * Lp_xi_tp_ij * dLq_deta_tp_ij\n",
    "\n",
    "        volume_integrand_interpolate = w2d.lag_interpolation_2d(volume_integral_pq_ij,\n",
    "                                                                N_LGL)\n",
    "        volume_integral_e_ij[index] = af.transpose(utils.integrate_2d_multivar_poly(volume_integrand_interpolate,\n",
    "                                                                                N_quad = 9, scheme = 'gauss'))"
   ]
  },
  {
   "cell_type": "code",
   "execution_count": 20,
   "metadata": {},
   "outputs": [
    {
     "name": "stderr",
     "output_type": "stream",
     "text": [
      "/home/ubermensch/.local/anaconda3/lib/python3.6/site-packages/numpy/lib/polynomial.py:1193: FutureWarning: In the future extra properties will not be copied across when constructing one poly1d from another\n",
      "  other = poly1d(other)\n",
      "/home/ubermensch/.local/anaconda3/lib/python3.6/site-packages/numpy/lib/polynomial.py:1220: FutureWarning: In the future extra properties will not be copied across when constructing one poly1d from another\n",
      "  other = poly1d(other)\n"
     ]
    }
   ],
   "source": [
    "A = w2d.A_matrix(8)"
   ]
  },
  {
   "cell_type": "code",
   "execution_count": 21,
   "metadata": {},
   "outputs": [],
   "source": [
    "A_inverse = af.inverse(A)"
   ]
  },
  {
   "cell_type": "code",
   "execution_count": 22,
   "metadata": {},
   "outputs": [
    {
     "name": "stdout",
     "output_type": "stream",
     "text": [
      "(64, 100)\n"
     ]
    }
   ],
   "source": [
    "b = volume_integral_e_ij - surface_term_e_ij\n",
    "print(b.shape)"
   ]
  },
  {
   "cell_type": "code",
   "execution_count": 23,
   "metadata": {},
   "outputs": [
    {
     "name": "stdout",
     "output_type": "stream",
     "text": [
      "(64, 100)\n"
     ]
    }
   ],
   "source": [
    "u_e_ij_n_plus_1 = u_e_ij + 1e-4 * af.matmul(A_inverse, b)\n",
    "print(u_e_ij_n_plus_1.shape)"
   ]
  },
  {
   "cell_type": "code",
   "execution_count": 24,
   "metadata": {},
   "outputs": [
    {
     "name": "stdout",
     "output_type": "stream",
     "text": [
      "0\n",
      "1\n",
      "2\n",
      "3\n",
      "4\n",
      "5\n",
      "6\n",
      "7\n",
      "8\n",
      "9\n",
      "gmshTranslator: Ending\n",
      "10\n",
      "11\n",
      "12\n",
      "13\n",
      "14\n",
      "15\n",
      "16\n",
      "17\n",
      "18\n",
      "19\n",
      "20\n",
      "21\n",
      "22\n",
      "23\n",
      "24\n",
      "25\n",
      "26\n",
      "27\n",
      "28\n",
      "29\n",
      "30\n",
      "31\n",
      "32\n",
      "33\n",
      "34\n",
      "35\n",
      "36\n",
      "37\n",
      "38\n",
      "39\n",
      "40\n",
      "41\n",
      "42\n",
      "43\n",
      "44\n",
      "45\n",
      "46\n",
      "47\n",
      "48\n",
      "49\n",
      "50\n",
      "51\n",
      "52\n",
      "53\n",
      "54\n",
      "55\n",
      "56\n",
      "57\n",
      "58\n",
      "59\n",
      "60\n",
      "61\n",
      "62\n",
      "63\n",
      "64\n",
      "65\n",
      "66\n",
      "67\n",
      "68\n",
      "69\n",
      "70\n",
      "71\n",
      "72\n",
      "73\n",
      "74\n",
      "75\n",
      "76\n",
      "77\n",
      "78\n",
      "79\n",
      "80\n",
      "81\n",
      "82\n",
      "83\n",
      "84\n",
      "85\n",
      "86\n",
      "87\n",
      "88\n",
      "89\n",
      "90\n",
      "91\n",
      "92\n",
      "93\n",
      "94\n",
      "95\n",
      "96\n",
      "97\n",
      "98\n",
      "99\n"
     ]
    },
    {
     "name": "stderr",
     "output_type": "stream",
     "text": [
      "/home/ubermensch/.local/anaconda3/lib/python3.6/site-packages/matplotlib/cbook/deprecation.py:106: MatplotlibDeprecationWarning: Adding an axes using the same arguments as a previous axes currently reuses the earlier instance.  In a future version, a new instance will always be created and returned.  Meanwhile, this warning can be suppressed, and the future behavior ensured, by passing a unique label to each axes instance.\n",
      "  warnings.warn(message, mplDeprecation, stacklevel=1)\n"
     ]
    },
    {
     "data": {
      "image/png": "[encoded data removed]",
      "text/plain": [
       "<matplotlib.figure.Figure at 0x7f5955fe5da0>"
      ]
     },
     "metadata": {},
     "output_type": "display_data"
    }
   ],
   "source": [
    "color_levels = np.linspace(0., 1., 100)\n",
    "\n",
    "for element_tag in np.arange(len(elements)):\n",
    "    print(element_tag)\n",
    "    plt.contourf(np.array(af.moddims(x_e_ij[:, element_tag], d0 = N_LGL, d1 = N_LGL)),\n",
    "                 np.array(af.moddims(y_e_ij[:, element_tag], d0 = N_LGL, d1 = N_LGL)),\n",
    "                 np.array(af.moddims(u_e_ij_n_plus_1[:, element_tag], d0 = N_LGL, d1 = N_LGL)),\n",
    "                 200, levels = color_levels, cmap = 'jet')\n",
    "\n",
    "plt.axes().set_aspect('equal')\n",
    "plt.xlabel(r\"$x$\")\n",
    "plt.ylabel(r\"$y$\")\n",
    "plt.title(r'$u_{init}$ plotted using $u^e_{ij}$')\n",
    "plt.colorbar()\n",
    "\n",
    "plt.savefig('u_e_ij.png')\n",
    "plt.show()"
   ]
  },
  {
   "cell_type": "code",
   "execution_count": null,
   "metadata": {},
   "outputs": [],
   "source": []
  }
 ],
 "metadata": {
  "kernelspec": {
   "display_name": "Python 3",
   "language": "python",
   "name": "python3"
  },
  "language_info": {
   "codemirror_mode": {
    "name": "ipython",
    "version": 3
   },
   "file_extension": ".py",
   "mimetype": "text/x-python",
   "name": "python",
   "nbconvert_exporter": "python",
   "pygments_lexer": "ipython3",
   "version": "3.6.3"
  }
 },
 "nbformat": 4,
 "nbformat_minor": 2
}
