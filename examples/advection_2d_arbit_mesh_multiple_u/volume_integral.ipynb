{
 "cells": [
  {
   "cell_type": "code",
   "execution_count": 1,
   "metadata": {},
   "outputs": [
    {
     "name": "stdout",
     "output_type": "stream",
     "text": [
      "gmshtranslator friendly reminder: rules and actions prototypes\n",
      "\n",
      "\n",
      "def node_condition(tag,x,y,z,physgroups): \n",
      "def node_action(tag,x,y,z):\n",
      "def element_condition(eletag,eletype,physgrp,nodes):\n",
      "def element_action(eletag,eletype,physgrp,nodes):\n"
     ]
    }
   ],
   "source": [
    "import os\n",
    "import sys\n",
    "sys.path.insert(0, os.path.abspath('../../'))\n",
    "\n",
    "import numpy as np\n",
    "import arrayfire as af\n",
    "\n",
    "from dg_maxwell import params\n",
    "from dg_maxwell import msh_parser\n",
    "from dg_maxwell import advection_2d\n",
    "from dg_maxwell import global_variables as gvar\n",
    "from dg_maxwell import utils\n",
    "from dg_maxwell import advection_2d_arbit_mesh as a2d_arbit_mesh\n",
    "from dg_maxwell import wave_equation_2d\n",
    "\n",
    "af.set_backend(params.backend)\n",
    "af.set_device(params.device)"
   ]
  },
  {
   "cell_type": "code",
   "execution_count": 2,
   "metadata": {},
   "outputs": [
    {
     "name": "stderr",
     "output_type": "stream",
     "text": [
      "/home/ubermensch/.local/anaconda3/lib/python3.6/site-packages/numpy/lib/polynomial.py:1193: FutureWarning: In the future extra properties will not be copied across when constructing one poly1d from another\n",
      "  other = poly1d(other)\n",
      "/home/ubermensch/.local/anaconda3/lib/python3.6/site-packages/numpy/lib/polynomial.py:1220: FutureWarning: In the future extra properties will not be copied across when constructing one poly1d from another\n",
      "  other = poly1d(other)\n"
     ]
    },
    {
     "name": "stdout",
     "output_type": "stream",
     "text": [
      "gmshTranslator: Initializing...\n",
      "gmshTranslator: Mesh has 441 nodes.\n",
      "gmshTranslator: Mesh has 144 elements.\n",
      "gmshTranslator: Processed 589 lines.\n",
      "gmshTranslator: There are 1 physical groups available: \n",
      "gmshTranslator:      > 0\n",
      "gmshTranslator: Parsing nodes\n",
      "gmshTranslator: Parsing elements\n",
      "gmshTranslator: No rules for elements... skipping elements.\n",
      "gmshTranslator: Parsing nodes\n",
      "gmshTranslator: No rules for nodes... skipping nodes.\n",
      "gmshTranslator: Parsing elements\n",
      "advection_variables __init__ completed\n"
     ]
    }
   ],
   "source": [
    "params.mesh_file = '../read_and_plot_mesh/mesh/square_10_10.msh'\n",
    "advec_var = gvar.advection_variables(params.N_LGL, params.N_quad,\n",
    "                                     params.x_nodes, params.N_Elements,\n",
    "                                     params.c, params.total_time, params.wave,\n",
    "                                     params.c_x, params.c_y, params.courant,\n",
    "                                     params.mesh_file, params.total_time_2d)\n",
    "new_elements = msh_parser.rearrange_element_edges(advec_var.elements, advec_var)\n",
    "advec_var.reassign_2d_elements(new_elements)"
   ]
  },
  {
   "cell_type": "code",
   "execution_count": 3,
   "metadata": {},
   "outputs": [],
   "source": [
    "u = af.tile(advec_var.u_e_ij, d0 = 1, d1 = 1, d2 = 2)"
   ]
  },
  {
   "cell_type": "code",
   "execution_count": 102,
   "metadata": {},
   "outputs": [],
   "source": [
    "# Volume integral term\n",
    "## Common variables for both\n",
    "shape_u_n = utils.shape(u)\n",
    "\n",
    "dLp_xi_ij_Lq_eta_ij = advec_var.dLp_Lq\n",
    "dLq_eta_ij_Lp_xi_ij = advec_var.dLq_Lp\n",
    "dxi_dx   = 10.\n",
    "deta_dy  = 10.\n",
    "jacobian = 100.\n",
    "c_x = params.c_x\n",
    "c_y = params.c_y\n"
   ]
  },
  {
   "cell_type": "code",
   "execution_count": 49,
   "metadata": {},
   "outputs": [
    {
     "name": "stdout",
     "output_type": "stream",
     "text": [
      "(64, 100, 2)\n"
     ]
    }
   ],
   "source": [
    "# if (params.volume_integrand_scheme_2d == 'Lobatto' and params.N_LGL == params.N_quad):\n",
    "w_i = af.flat(af.transpose(af.tile(advec_var.lobatto_weights_quadrature,\n",
    "                                   1, params.N_LGL)))\n",
    "w_j = af.tile(advec_var.lobatto_weights_quadrature,\n",
    "              params.N_LGL)\n",
    "wi_wj = w_i * w_j\n",
    "\n",
    "wi_wj_dLp_xi = af.tile(af.broadcast(utils.multiply, wi_wj, advec_var.dLp_Lq),\n",
    "                       d0 = 1, d1 = 1, d2 = 1, d3 = shape_u_n[2])\n",
    "\n",
    "# print(wi_wj_dLp_xi.shape)\n",
    "volume_integrand_ij_1_sp = c_x * dxi_dx \\\n",
    "                         * af.broadcast(utils.multiply,\n",
    "                                        wi_wj_dLp_xi,\n",
    "                                        af.reorder(u, d0 = 0, d1 = 1, d2 = 3, d3 = 2)) \\\n",
    "                                        / jacobian\n",
    "\n",
    "wi_wj_dLq_eta = af.tile(af.broadcast(utils.multiply, w_i * w_j, advec_var.dLq_Lp),\n",
    "                        d0 = 1, d1 = 1, d2 = 1, d3 = shape_u_n[2])\n",
    "\n",
    "volume_integrand_ij_2_sp = c_y * deta_dy \\\n",
    "                         * af.broadcast(utils.multiply,\n",
    "                                        wi_wj_dLq_eta,\n",
    "                                        af.reorder(u, d0 = 0, d1 = 1, d2 = 3, d3 = 2)) \\\n",
    "                                        / jacobian\n",
    "# print(af.sum(volume_integrand_ij_1_sp + volume_integrand_ij_2_sp, dim = 0).shape)\n",
    "volume_integral = af.reorder(af.sum(volume_integrand_ij_1_sp + volume_integrand_ij_2_sp,\n",
    "                                    dim = 0), d0 = 2, d1 = 1, d2 = 3, d3 = 0)\n",
    "print(volume_integral.shape)"
   ]
  },
  {
   "cell_type": "markdown",
   "metadata": {},
   "source": [
    "# Testing the new volume integral function (Part 1)"
   ]
  },
  {
   "cell_type": "code",
   "execution_count": 5,
   "metadata": {},
   "outputs": [],
   "source": [
    "volume_integral_ref = a2d_arbit_mesh.volume_integral_old(u[:, :, 0], advec_var = advec_var)"
   ]
  },
  {
   "cell_type": "code",
   "execution_count": 116,
   "metadata": {},
   "outputs": [
    {
     "name": "stdout",
     "output_type": "stream",
     "text": [
      "1.0\n"
     ]
    }
   ],
   "source": [
    "print(af.all_true(af.abs(ref_volume_integral - volume_integral[:, :, 1]) < 1e-14))\n",
    "# [It's working]"
   ]
  },
  {
   "cell_type": "code",
   "execution_count": 32,
   "metadata": {},
   "outputs": [
    {
     "name": "stdout",
     "output_type": "stream",
     "text": [
      "(64, 100, 1, 2)\n"
     ]
    }
   ],
   "source": [
    "print(af.reorder(u, d0 = 0, d1 = 1, d2 = 3, d3 = 2).shape)"
   ]
  },
  {
   "cell_type": "code",
   "execution_count": 110,
   "metadata": {},
   "outputs": [
    {
     "name": "stdout",
     "output_type": "stream",
     "text": [
      "(64, 12800)\n",
      "(8, 8, 12800)\n",
      "(12800,)\n",
      "(6400, 2)\n"
     ]
    }
   ],
   "source": [
    "volume_integrand_ij_1 = c_x * dxi_dx * af.broadcast(utils.multiply,\n",
    "                                                    af.tile(dLp_xi_ij_Lq_eta_ij, d0 = 1, d1 = 1, d2 = 1, d3 = shape_u_n[2]),\n",
    "                                                    af.reorder(u, d0 = 0, d1 = 1, d2 = 3, d3 = 2)) / jacobian\n",
    "\n",
    "volume_integrand_ij_2 = c_y * deta_dy * af.broadcast(utils.multiply,\n",
    "                                                     af.tile(dLq_eta_ij_Lp_xi_ij, d0 = 1, d1 = 1, d2 = 1, d3 = shape_u_n[2]),\n",
    "                                                     af.reorder(u, d0 = 0, d1 = 1, d2 = 3, d3 = 2)) / jacobian\n",
    "\n",
    "volume_integrand_ij = af.moddims(volume_integrand_ij_1 + volume_integrand_ij_2,\n",
    "                                 d0 = params.N_LGL ** 2,\n",
    "                                 d1 = (params.N_LGL ** 2) * 100,\n",
    "                                 d2 = 1,\n",
    "                                 d3 = shape_u_n[2])\n",
    "\n",
    "# [FINE TILL HERE]\n",
    "\n",
    "volume_integrand_ij = af.moddims(af.reorder(volume_integrand_ij, d0 = 0,\n",
    "                                            d1 = 1, d2 = 3, d3 = 2),\n",
    "                                 d0 = params.N_LGL * params.N_LGL,\n",
    "                                 d1 = params.N_LGL * params.N_LGL * advec_var.elements.shape[0] * shape_u_n[2],\n",
    "                                 d2 = 1)\n",
    "\n",
    "print(volume_integrand_ij.shape)\n",
    "lagrange_interpolation = wave_equation_2d.lag_interpolation_2d(volume_integrand_ij,\n",
    "                                                               advec_var.Li_Lj_coeffs)\n",
    "#                                     d0 = params.N_LGL, d1 = params.N_LGL,\n",
    "#                                     d2 = params.N_LGL * params.N_LGL * advec_var.elements.shape[0],\n",
    "#                                     d3 = shape_u_n[2])\n",
    "\n",
    "# print(lagrange_interpolation.shape)\n",
    "# [FINE TILL NOW]\n",
    "\n",
    "print(lagrange_interpolation[:, :, :, 0].shape)\n",
    "\n",
    "volume_integrand_total = utils.integrate_2d_multivar_poly(lagrange_interpolation,\n",
    "                                                          params.N_quad,'gauss', advec_var)\n",
    "print(volume_integrand_total.shape)\n",
    "volume_integral = af.moddims(volume_integrand_total,\n",
    "                             d0 = params.N_LGL * params.N_LGL * advec_var.elements.shape[0],\n",
    "                             d1 = shape_u_n[2])\n",
    "print(volume_integral[:, :, 0].shape)\n",
    "\n",
    "volume_integral        = af.transpose(af.moddims(volume_integral,\n",
    "                                                 d0 = advec_var.elements.shape[0],\n",
    "                                                 d1 = params.N_LGL ** 2,\n",
    "                                                 d2 = shape_u_n[2]))\n",
    "\n",
    "# # print(volume_integral)\n"
   ]
  },
  {
   "cell_type": "markdown",
   "metadata": {},
   "source": [
    "# Formal implementation of the function"
   ]
  },
  {
   "cell_type": "code",
   "execution_count": 6,
   "metadata": {},
   "outputs": [],
   "source": [
    "def volume_integral(u, advec_var):\n",
    "    '''\n",
    "    Vectorize, p, q, moddims.\n",
    "    '''\n",
    "    shape_u_n = utils.shape(u)\n",
    "    dLp_xi_ij_Lq_eta_ij = advec_var.dLp_Lq\n",
    "    dLq_eta_ij_Lp_xi_ij = advec_var.dLq_Lp\n",
    "    dxi_dx   = 10.\n",
    "    deta_dy  = 10.\n",
    "    jacobian = 100.\n",
    "    c_x = params.c_x\n",
    "    c_y = params.c_y\n",
    "\n",
    "    if (params.volume_integrand_scheme_2d == 'Lobatto' and params.N_LGL == params.N_quad):\n",
    "        w_i = af.flat(af.transpose(af.tile(advec_var.lobatto_weights_quadrature,\n",
    "                                           1, params.N_LGL)))\n",
    "        w_j = af.tile(advec_var.lobatto_weights_quadrature,\n",
    "                      params.N_LGL)\n",
    "        wi_wj = w_i * w_j\n",
    "\n",
    "        wi_wj_dLp_xi = af.tile(af.broadcast(utils.multiply, wi_wj,\n",
    "                                            advec_var.dLp_Lq),\n",
    "                               d0 = 1, d1 = 1, d2 = 1, d3 = shape_u_n[2])\n",
    "\n",
    "        volume_integrand_ij_1_sp = c_x * dxi_dx \\\n",
    "                                 * af.broadcast(utils.multiply,\n",
    "                                                wi_wj_dLp_xi,\n",
    "                                                af.reorder(u, d0 = 0, d1 = 1,\n",
    "                                                           d2 = 3, d3 = 2)) \\\n",
    "                                                / jacobian\n",
    "\n",
    "        wi_wj_dLq_eta = af.tile(af.broadcast(utils.multiply,\n",
    "                                             w_i * w_j,\n",
    "                                             advec_var.dLq_Lp),\n",
    "                                d0 = 1, d1 = 1, d2 = 1, d3 = shape_u_n[2])\n",
    "\n",
    "        volume_integrand_ij_2_sp = c_y * deta_dy \\\n",
    "                                 * af.broadcast(utils.multiply,\n",
    "                                                wi_wj_dLq_eta,\n",
    "                                                af.reorder(u, d0 = 0, d1 = 1,\n",
    "                                                           d2 = 3, d3 = 2)) \\\n",
    "                                                / jacobian\n",
    "\n",
    "        volume_integral = af.reorder(af.sum(\n",
    "            volume_integrand_ij_1_sp + volume_integrand_ij_2_sp, dim = 0), \\\n",
    "                d0 = 2, d1 = 1, d2 = 3, d3 = 0)\n",
    "\n",
    "    else:\n",
    "        volume_integrand_ij_1 = c_x * dxi_dx * af.broadcast(utils.multiply,\n",
    "                                                            af.tile(dLp_xi_ij_Lq_eta_ij,\n",
    "                                                                    d0 = 1, d1 = 1, d2 = 1,\n",
    "                                                                    d3 = shape_u_n[2]),\n",
    "                                                            af.reorder(u, d0 = 0, d1 = 1,\n",
    "                                                                       d2 = 3, d3 = 2)) \\\n",
    "                                                            / jacobian\n",
    "\n",
    "        volume_integrand_ij_2 = c_y * deta_dy * af.broadcast(utils.multiply,\n",
    "                                                             af.tile(dLq_eta_ij_Lp_xi_ij,\n",
    "                                                                     d0 = 1, d1 = 1, d2 = 1,\n",
    "                                                                     d3 = shape_u_n[2]),\n",
    "                                                             af.reorder(u, d0 = 0, d1 = 1,\n",
    "                                                                        d2 = 3, d3 = 2)) \\\n",
    "                                                             / jacobian\n",
    "\n",
    "        volume_integrand_ij = af.moddims(volume_integrand_ij_1 + volume_integrand_ij_2,\n",
    "                                         d0 = params.N_LGL ** 2,\n",
    "                                         d1 = (params.N_LGL ** 2) * 100,\n",
    "                                         d2 = 1,\n",
    "                                         d3 = shape_u_n[2])\n",
    "\n",
    "        volume_integrand_ij = af.moddims(af.reorder(volume_integrand_ij, d0 = 0,\n",
    "                                                    d1 = 1, d2 = 3, d3 = 2),\n",
    "                                         d0 = params.N_LGL * params.N_LGL,\n",
    "                                         d1 = params.N_LGL * params.N_LGL \\\n",
    "                                            * advec_var.elements.shape[0] \\\n",
    "                                            * shape_u_n[2],\n",
    "                                         d2 = 1)\n",
    "\n",
    "        lagrange_interpolation = wave_equation_2d.lag_interpolation_2d(volume_integrand_ij,\n",
    "                                                                       advec_var.Li_Lj_coeffs)\n",
    "\n",
    "        volume_integrand_total = utils.integrate_2d_multivar_poly(lagrange_interpolation,\n",
    "                                                                  params.N_quad,'gauss',\n",
    "                                                                  advec_var)\n",
    "\n",
    "        volume_integral = af.moddims(volume_integrand_total,\n",
    "                                     d0 = params.N_LGL \\\n",
    "                                        * params.N_LGL \\\n",
    "                                        * advec_var.elements.shape[0],\n",
    "                                     d1 = shape_u_n[2])\n",
    "\n",
    "        volume_integral = af.transpose(af.moddims(volume_integral,\n",
    "                                                  d0 = advec_var.elements.shape[0],\n",
    "                                                  d1 = params.N_LGL ** 2,\n",
    "                                                  d2 = shape_u_n[2]))\n",
    "\n",
    "    return volume_integral\n"
   ]
  },
  {
   "cell_type": "code",
   "execution_count": 6,
   "metadata": {},
   "outputs": [],
   "source": [
    "volume_integral_test = a2d_arbit_mesh.volume_integral(u, advec_var)"
   ]
  },
  {
   "cell_type": "code",
   "execution_count": 7,
   "metadata": {},
   "outputs": [
    {
     "data": {
      "text/plain": [
       "1.0"
      ]
     },
     "execution_count": 7,
     "metadata": {},
     "output_type": "execute_result"
    }
   ],
   "source": [
    "af.all_true(af.abs(volume_integral_ref - volume_integral_test[:, :, 1]) < 1e-14)"
   ]
  },
  {
   "cell_type": "code",
   "execution_count": null,
   "metadata": {},
   "outputs": [],
   "source": []
  }
 ],
 "metadata": {
  "kernelspec": {
   "display_name": "Python 3",
   "language": "python",
   "name": "python3"
  },
  "language_info": {
   "codemirror_mode": {
    "name": "ipython",
    "version": 3
   },
   "file_extension": ".py",
   "mimetype": "text/x-python",
   "name": "python",
   "nbconvert_exporter": "python",
   "pygments_lexer": "ipython3",
   "version": "3.6.3"
  }
 },
 "nbformat": 4,
 "nbformat_minor": 2
}
