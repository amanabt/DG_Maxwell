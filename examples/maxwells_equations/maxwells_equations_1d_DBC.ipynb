{
 "cells": [
  {
   "cell_type": "code",
   "execution_count": 4,
   "metadata": {},
   "outputs": [],
   "source": [
    "import os\n",
    "import sys\n",
    "sys.path.insert(0, os.path.abspath('../../'))\n",
    "\n",
    "import numpy as np\n",
    "from matplotlib import pyplot as plt\n",
    "import arrayfire as af\n",
    "\n",
    "from dg_maxwell import params\n",
    "from dg_maxwell import lagrange\n",
    "from dg_maxwell import wave_equation as w1d\n",
    "\n",
    "af.set_backend('cpu')\n",
    "af.set_device(0)\n",
    "af.info()\n",
    "\n",
    "plt.rcParams['figure.figsize']     = 12, 7.5\n",
    "plt.rcParams['lines.linewidth']    = 1.5\n",
    "plt.rcParams['font.family']        = 'serif'\n",
    "plt.rcParams['font.weight']        = 'bold'\n",
    "plt.rcParams['font.size']          = 20  \n",
    "plt.rcParams['font.sans-serif']    = 'serif'\n",
    "plt.rcParams['text.usetex']        = True\n",
    "plt.rcParams['axes.linewidth']     = 1.5\n",
    "plt.rcParams['axes.titlesize']     = 'medium'\n",
    "plt.rcParams['axes.labelsize']     = 'medium'\n",
    "\n",
    "plt.rcParams['xtick.major.size']   = 8\n",
    "plt.rcParams['xtick.minor.size']   = 4\n",
    "plt.rcParams['xtick.major.pad']    = 8\n",
    "plt.rcParams['xtick.minor.pad']    = 8\n",
    "plt.rcParams['xtick.color']        = 'k'\n",
    "plt.rcParams['xtick.labelsize']    = 'medium'\n",
    "plt.rcParams['xtick.direction']    = 'in'    \n",
    "\n",
    "plt.rcParams['ytick.major.size']   = 8\n",
    "plt.rcParams['ytick.minor.size']   = 4\n",
    "plt.rcParams['ytick.major.pad']    = 8\n",
    "plt.rcParams['ytick.minor.pad']    = 8\n",
    "plt.rcParams['ytick.color']        = 'k'\n",
    "plt.rcParams['ytick.labelsize']    = 'medium'\n",
    "plt.rcParams['ytick.direction']    = 'in'\n",
    "plt.rcParams['text.usetex']        = True\n",
    "plt.rcParams['text.latex.unicode'] = True"
   ]
  },
  {
   "cell_type": "code",
   "execution_count": 14,
   "metadata": {},
   "outputs": [],
   "source": [
    "E_0 = 1.\n",
    "B_0 = 1.\n",
    "\n",
    "sigma = 0.1\n",
    "\n",
    "E_z_init = E_0 * np.e**(-(params.element_LGL)**2 / sigma**2)\n",
    "B_y_init = B_0 * np.e**(-(params.element_LGL)**2 / sigma**2)\n",
    "\n",
    "u_init = af.constant(0., d0 = params.N_LGL, d1 = params.N_Elements, d2 = 2)\n",
    "u_init[:, :, 0] = E_z_init\n",
    "u_init[:, :, 1] = B_y_init\n",
    "\n",
    "u_init[0, 0, 0] = -1\n",
    "u_init[-1, -1, 0] = -1\n",
    "\n",
    "u_init[0, 0, 1] = -2\n",
    "u_init[-1, -1, 1] = -2"
   ]
  },
  {
   "cell_type": "code",
   "execution_count": 15,
   "metadata": {},
   "outputs": [
    {
     "name": "stdout",
     "output_type": "stream",
     "text": [
      "arrayfire.Array()\n",
      "Type: float\n",
      "\n",
      "[8 10 2 1]\n",
      "   -1.0000     0.0000     0.0000     0.0000     0.0183     1.0000     0.0183     0.0000     0.0000     0.0000 \n",
      "    0.0000     0.0000     0.0000     0.0000     0.0301     0.9837     0.0108     0.0000     0.0000     0.0000 \n",
      "    0.0000     0.0000     0.0000     0.0000     0.0794     0.8464     0.0030     0.0000     0.0000     0.0000 \n",
      "    0.0000     0.0000     0.0000     0.0000     0.2317     0.5352     0.0004     0.0000     0.0000     0.0000 \n",
      "    0.0000     0.0000     0.0000     0.0004     0.5352     0.2317     0.0000     0.0000     0.0000     0.0000 \n",
      "    0.0000     0.0000     0.0000     0.0030     0.8464     0.0794     0.0000     0.0000     0.0000     0.0000 \n",
      "    0.0000     0.0000     0.0000     0.0108     0.9837     0.0301     0.0000     0.0000     0.0000     0.0000 \n",
      "    0.0000     0.0000     0.0000     0.0183     1.0000     0.0183     0.0000     0.0000     0.0000    -1.0000 \n",
      "\n",
      "   -2.0000     0.0000     0.0000     0.0000     0.0183     1.0000     0.0183     0.0000     0.0000     0.0000 \n",
      "    0.0000     0.0000     0.0000     0.0000     0.0301     0.9837     0.0108     0.0000     0.0000     0.0000 \n",
      "    0.0000     0.0000     0.0000     0.0000     0.0794     0.8464     0.0030     0.0000     0.0000     0.0000 \n",
      "    0.0000     0.0000     0.0000     0.0000     0.2317     0.5352     0.0004     0.0000     0.0000     0.0000 \n",
      "    0.0000     0.0000     0.0000     0.0004     0.5352     0.2317     0.0000     0.0000     0.0000     0.0000 \n",
      "    0.0000     0.0000     0.0000     0.0030     0.8464     0.0794     0.0000     0.0000     0.0000     0.0000 \n",
      "    0.0000     0.0000     0.0000     0.0108     0.9837     0.0301     0.0000     0.0000     0.0000     0.0000 \n",
      "    0.0000     0.0000     0.0000     0.0183     1.0000     0.0183     0.0000     0.0000     0.0000    -2.0000 \n",
      "\n",
      "\n",
      "\n"
     ]
    }
   ],
   "source": [
    "print(u_init)"
   ]
  },
  {
   "cell_type": "code",
   "execution_count": 11,
   "metadata": {},
   "outputs": [
    {
     "name": "stdout",
     "output_type": "stream",
     "text": [
      "arrayfire.Array()\n",
      "Type: double\n",
      "\n",
      "[1 1 1 1]\n",
      "    1.0000 \n",
      "\n"
     ]
    }
   ],
   "source": [
    "print(params.element_LGL[-1, -1])"
   ]
  },
  {
   "cell_type": "code",
   "execution_count": null,
   "metadata": {},
   "outputs": [],
   "source": []
  }
 ],
 "metadata": {
  "kernelspec": {
   "display_name": "Python 3",
   "language": "python",
   "name": "python3"
  },
  "language_info": {
   "codemirror_mode": {
    "name": "ipython",
    "version": 3
   },
   "file_extension": ".py",
   "mimetype": "text/x-python",
   "name": "python",
   "nbconvert_exporter": "python",
   "pygments_lexer": "ipython3",
   "version": "3.6.3"
  }
 },
 "nbformat": 4,
 "nbformat_minor": 2
}
