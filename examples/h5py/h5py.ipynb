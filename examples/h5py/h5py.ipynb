{
 "cells": [
  {
   "cell_type": "code",
   "execution_count": 12,
   "metadata": {},
   "outputs": [],
   "source": [
    "import os\n",
    "import sys\n",
    "sys.path.insert(0, os.path.abspath('../../'))\n",
    "\n",
    "import numpy as np\n",
    "from matplotlib import pyplot as plt\n",
    "import h5py\n",
    "import arrayfire as af\n",
    "\n",
    "from dg_maxwell import params\n",
    "from dg_maxwell import msh_parser\n",
    "from dg_maxwell import lagrange\n",
    "from dg_maxwell import global_variables as gvar\n",
    "\n",
    "af.set_backend(params.backend)\n",
    "af.set_device(params.device)\n",
    "\n",
    "plt.rcParams['figure.figsize']     = 12, 7.5\n",
    "plt.rcParams['lines.linewidth']    = 1.5\n",
    "plt.rcParams['font.family']        = 'serif'\n",
    "plt.rcParams['font.weight']        = 'bold'\n",
    "plt.rcParams['font.size']          = 20  \n",
    "plt.rcParams['font.sans-serif']    = 'serif'\n",
    "plt.rcParams['text.usetex']        = True\n",
    "plt.rcParams['axes.linewidth']     = 1.5\n",
    "plt.rcParams['axes.titlesize']     = 'medium'\n",
    "plt.rcParams['axes.labelsize']     = 'medium'\n",
    "\n",
    "plt.rcParams['xtick.major.size']   = 8\n",
    "plt.rcParams['xtick.minor.size']   = 4\n",
    "plt.rcParams['xtick.major.pad']    = 8\n",
    "plt.rcParams['xtick.minor.pad']    = 8\n",
    "plt.rcParams['xtick.color']        = 'k'\n",
    "plt.rcParams['xtick.labelsize']    = 'medium'\n",
    "plt.rcParams['xtick.direction']    = 'in'    \n",
    "\n",
    "plt.rcParams['ytick.major.size']   = 8\n",
    "plt.rcParams['ytick.minor.size']   = 4\n",
    "plt.rcParams['ytick.major.pad']    = 8\n",
    "plt.rcParams['ytick.minor.pad']    = 8\n",
    "plt.rcParams['ytick.color']        = 'k'\n",
    "plt.rcParams['ytick.labelsize']    = 'medium'\n",
    "plt.rcParams['ytick.direction']    = 'in'\n",
    "plt.rcParams['text.usetex']        = True\n",
    "plt.rcParams['text.latex.unicode'] = True"
   ]
  },
  {
   "cell_type": "code",
   "execution_count": 13,
   "metadata": {},
   "outputs": [
    {
     "name": "stderr",
     "output_type": "stream",
     "text": [
      "/home/ubermensch/.local/anaconda3/lib/python3.6/site-packages/numpy/lib/polynomial.py:1193: FutureWarning: In the future extra properties will not be copied across when constructing one poly1d from another\n",
      "  other = poly1d(other)\n",
      "/home/ubermensch/.local/anaconda3/lib/python3.6/site-packages/numpy/lib/polynomial.py:1220: FutureWarning: In the future extra properties will not be copied across when constructing one poly1d from another\n",
      "  other = poly1d(other)\n"
     ]
    },
    {
     "name": "stdout",
     "output_type": "stream",
     "text": [
      "gmshTranslator: Initializing...\n",
      "gmshTranslator: Mesh has 988 nodes.\n",
      "gmshTranslator: Mesh has 374 elements.\n",
      "gmshTranslator: Processed 1366 lines.\n",
      "gmshTranslator: There are 1 physical groups available: \n",
      "gmshTranslator:      > 0\n",
      "gmshTranslator: Parsing nodes\n",
      "gmshTranslator: Parsing elements\n",
      "gmshTranslator: No rules for elements... skipping elements.\n",
      "gmshTranslator: Parsing nodes\n",
      "gmshTranslator: No rules for nodes... skipping nodes.\n",
      "gmshTranslator: Parsing elements\n",
      "advection_variables __init__ completed\n"
     ]
    }
   ],
   "source": [
    "params.mesh_file = '../read_and_plot_mesh/mesh/particle_in_rectangle.msh'\n",
    "advec_var = gvar.advection_variables(params.N_LGL, params.N_quad,\n",
    "                                     params.x_nodes, params.N_Elements,\n",
    "                                     params.c, params.total_time, params.wave,\n",
    "                                     params.c_x, params.c_y, params.courant,\n",
    "                                     params.mesh_file, params.total_time_2d)"
   ]
  },
  {
   "cell_type": "code",
   "execution_count": 32,
   "metadata": {},
   "outputs": [],
   "source": [
    "file = h5py.File('../../results/2d_hdf5_08/dump_timestep_000001.hdf5', 'r')"
   ]
  },
  {
   "cell_type": "code",
   "execution_count": 20,
   "metadata": {},
   "outputs": [],
   "source": [
    "u_e_ij = af.np_to_af_array(file['u_i'][:])\n",
    "# u_e_ij = advec_var.u_e_ij"
   ]
  },
  {
   "cell_type": "code",
   "execution_count": 21,
   "metadata": {},
   "outputs": [],
   "source": [
    "def contour_x_y_u(element_tag, advec_var):\n",
    "    '''\n",
    "    Returns the x, y, and u mesh.\n",
    "    '''\n",
    "    u_mesh = af.moddims(u_e_ij[:, element_tag],\n",
    "                        d0 = params.N_LGL, d1 = params.N_LGL)\n",
    "    x_mesh = af.moddims(advec_var.x_e_ij[:, element_tag],\n",
    "                        d0 = params.N_LGL, d1 = params.N_LGL)\n",
    "    y_mesh = af.moddims(advec_var.y_e_ij[:, element_tag],\n",
    "                        params.N_LGL, params.N_LGL)\n",
    "    \n",
    "    return x_mesh, y_mesh, u_mesh\n"
   ]
  },
  {
   "cell_type": "code",
   "execution_count": 22,
   "metadata": {},
   "outputs": [
    {
     "name": "stdout",
     "output_type": "stream",
     "text": [
      "0,1,2,3,4,5,6,7,8,9,\n",
      "10,11,12,13,14,15,16,17,18,19,\n",
      "20,21,22,23,24,25,26,27,28,29,\n",
      "30,31,32,33,34,35,36,37,38,39,\n",
      "40,41,42,43,44,45,46,47,48,49,\n",
      "50,51,52,53,54,55,56,57,58,59,\n",
      "60,61,62,63,64,65,66,67,68,69,\n",
      "70,71,72,73,74,75,76,77,78,79,\n",
      "80,81,82,83,84,85,86,87,88,89,\n",
      "90,91,92,93,94,95,96,97,98,99,\n",
      "100,101,102,103,104,105,106,107,108,109,\n"
     ]
    }
   ],
   "source": [
    "u_left = np.zeros([11 * params.N_LGL, 10 * params.N_LGL])\n",
    "x_left = np.zeros([11 * params.N_LGL, 10 * params.N_LGL])\n",
    "y_left = np.zeros([11 * params.N_LGL, 10 * params.N_LGL])\n",
    "\n",
    "for i in np.arange(11):\n",
    "    for j in np.arange(10):\n",
    "        element_tag = i * 10 + j\n",
    "        x_mesh, y_mesh, u_mesh = contour_x_y_u(element_tag, advec_var)\n",
    "        u_left[i * params.N_LGL : (i + 1) * params.N_LGL, j * params.N_LGL : (j + 1) * params.N_LGL] = np.array(af.flip(u_mesh, dim = 0))\n",
    "        x_left[i * params.N_LGL : (i + 1) * params.N_LGL, j * params.N_LGL : (j + 1) * params.N_LGL] = np.array(x_mesh)\n",
    "        y_left[i * params.N_LGL : (i + 1) * params.N_LGL, j * params.N_LGL : (j + 1) * params.N_LGL] = np.array(af.flip(y_mesh, dim = 0))\n",
    "        \n",
    "        print(element_tag, end = ',')\n",
    "    print()\n"
   ]
  },
  {
   "cell_type": "code",
   "execution_count": 23,
   "metadata": {},
   "outputs": [
    {
     "name": "stdout",
     "output_type": "stream",
     "text": [
      "115,116,117,118,119,120,121,122,123,124,\n",
      "125,126,127,128,129,130,131,132,133,134,\n",
      "135,136,137,138,139,140,141,142,143,144,\n",
      "145,146,147,148,149,150,151,152,153,154,\n",
      "155,156,157,158,159,160,161,162,163,164,\n",
      "165,166,167,168,169,170,171,172,173,174,\n"
     ]
    }
   ],
   "source": [
    "u_bottom_right = np.zeros([6 * params.N_LGL, 10 * params.N_LGL])\n",
    "x_bottom_right = np.zeros([6 * params.N_LGL, 10 * params.N_LGL])\n",
    "y_bottom_right = np.zeros([6 * params.N_LGL, 10 * params.N_LGL])\n",
    "\n",
    "for i in np.arange(6):\n",
    "    for j in np.arange(10):\n",
    "        element_tag = i * 10 + j + 115\n",
    "        x_mesh, y_mesh, u_mesh = contour_x_y_u(element_tag, advec_var)\n",
    "        u_bottom_right[i * params.N_LGL : (i + 1) * params.N_LGL, j * params.N_LGL : (j + 1) * params.N_LGL] = np.array(af.flip(u_mesh, dim = 0))\n",
    "        x_bottom_right[i * params.N_LGL : (i + 1) * params.N_LGL, j * params.N_LGL : (j + 1) * params.N_LGL] = np.array(x_mesh)\n",
    "        y_bottom_right[i * params.N_LGL : (i + 1) * params.N_LGL, j * params.N_LGL : (j + 1) * params.N_LGL] = np.array(af.flip(y_mesh, dim = 0))\n",
    "\n",
    "        print(element_tag, end = ',')\n",
    "    print()\n"
   ]
  },
  {
   "cell_type": "code",
   "execution_count": 24,
   "metadata": {},
   "outputs": [
    {
     "name": "stdout",
     "output_type": "stream",
     "text": [
      "175,176,177,178,179,180,181,182,183,184,\n",
      "185,186,187,188,189,190,191,192,193,194,\n",
      "195,196,197,198,199,200,201,202,203,204,\n",
      "205,206,207,208,209,210,211,212,213,214,\n",
      "215,216,217,218,219,220,221,222,223,224,\n"
     ]
    }
   ],
   "source": [
    "u_top_right = np.zeros([5 * params.N_LGL, 10 * params.N_LGL])\n",
    "x_top_right = np.zeros([5 * params.N_LGL, 10 * params.N_LGL])\n",
    "y_top_right = np.zeros([5 * params.N_LGL, 10 * params.N_LGL])\n",
    "\n",
    "for i in np.arange(5):\n",
    "    for j in np.arange(10):\n",
    "        element_tag = i * 10 + j + 175\n",
    "        x_mesh, y_mesh, u_mesh = contour_x_y_u(element_tag, advec_var)\n",
    "        u_top_right[i * params.N_LGL : (i + 1) * params.N_LGL, j * params.N_LGL : (j + 1) * params.N_LGL] = np.array(af.flip(u_mesh, dim = 0))\n",
    "        x_top_right[i * params.N_LGL : (i + 1) * params.N_LGL, j * params.N_LGL : (j + 1) * params.N_LGL] = np.array(x_mesh)\n",
    "        y_top_right[i * params.N_LGL : (i + 1) * params.N_LGL, j * params.N_LGL : (j + 1) * params.N_LGL] = np.array(af.flip(y_mesh, dim = 0))\n",
    "\n",
    "        print(element_tag, end = ',')\n",
    "    print()\n"
   ]
  },
  {
   "cell_type": "code",
   "execution_count": 25,
   "metadata": {},
   "outputs": [
    {
     "name": "stdout",
     "output_type": "stream",
     "text": [
      "225,\n",
      "226,\n",
      "227,\n",
      "228,\n",
      "229,\n"
     ]
    }
   ],
   "source": [
    "u_top_center = np.zeros([5 * params.N_LGL, 1 * params.N_LGL])\n",
    "x_top_center = np.zeros([5 * params.N_LGL, 1 * params.N_LGL])\n",
    "y_top_center = np.zeros([5 * params.N_LGL, 1 * params.N_LGL])\n",
    "\n",
    "for i in np.arange(5):\n",
    "    for j in np.arange(1):\n",
    "        element_tag = i * 1 + j + 225\n",
    "        x_mesh, y_mesh, u_mesh = contour_x_y_u(element_tag, advec_var)\n",
    "        u_top_center[i * params.N_LGL : (i + 1) * params.N_LGL, j * params.N_LGL : (j + 1) * params.N_LGL] = np.array(af.flip(u_mesh, dim = 0))\n",
    "        x_top_center[i * params.N_LGL : (i + 1) * params.N_LGL, j * params.N_LGL : (j + 1) * params.N_LGL] = np.array(x_mesh)\n",
    "        y_top_center[i * params.N_LGL : (i + 1) * params.N_LGL, j * params.N_LGL : (j + 1) * params.N_LGL] = np.array(af.flip(y_mesh, dim = 0))\n",
    "\n",
    "        print(element_tag, end = ',')\n",
    "    print()\n"
   ]
  },
  {
   "cell_type": "code",
   "execution_count": 26,
   "metadata": {},
   "outputs": [
    {
     "name": "stdout",
     "output_type": "stream",
     "text": [
      "110,\n",
      "111,\n",
      "112,\n",
      "113,\n",
      "114,\n"
     ]
    }
   ],
   "source": [
    "u_bottom_center = np.zeros([5 * params.N_LGL, 1 * params.N_LGL])\n",
    "x_bottom_center = np.zeros([5 * params.N_LGL, 1 * params.N_LGL])\n",
    "y_bottom_center = np.zeros([5 * params.N_LGL, 1 * params.N_LGL])\n",
    "\n",
    "for i in np.arange(5):\n",
    "    for j in np.arange(1):\n",
    "        element_tag = i * 1 + j + 110\n",
    "        x_mesh, y_mesh, u_mesh = contour_x_y_u(element_tag, advec_var)\n",
    "        u_bottom_center[i * params.N_LGL : (i + 1) * params.N_LGL, j * params.N_LGL : (j + 1) * params.N_LGL] = np.array(af.flip(u_mesh, dim = 0))\n",
    "        x_bottom_center[i * params.N_LGL : (i + 1) * params.N_LGL, j * params.N_LGL : (j + 1) * params.N_LGL] = np.array(x_mesh)\n",
    "        y_bottom_center[i * params.N_LGL : (i + 1) * params.N_LGL, j * params.N_LGL : (j + 1) * params.N_LGL] = np.array(af.flip(y_mesh, dim = 0))\n",
    "\n",
    "        print(element_tag, end = ',')\n",
    "    print()\n"
   ]
  },
  {
   "cell_type": "code",
   "execution_count": 30,
   "metadata": {},
   "outputs": [
    {
     "name": "stderr",
     "output_type": "stream",
     "text": [
      "/home/ubermensch/.local/anaconda3/lib/python3.6/site-packages/matplotlib/cbook/deprecation.py:106: MatplotlibDeprecationWarning: Adding an axes using the same arguments as a previous axes currently reuses the earlier instance.  In a future version, a new instance will always be created and returned.  Meanwhile, this warning can be suppressed, and the future behavior ensured, by passing a unique label to each axes instance.\n",
      "  warnings.warn(message, mplDeprecation, stacklevel=1)\n"
     ]
    },
    {
     "data": {
      "image/png": "[encoded data removed]",
      "text/plain": [
       "<matplotlib.figure.Figure at 0x7f4a521a5780>"
      ]
     },
     "metadata": {},
     "output_type": "display_data"
    }
   ],
   "source": [
    "color_levels = np.linspace(-1, 1, 100)\n",
    "\n",
    "plt.contourf(np.array(x_left), np.array(y_left), np.array(u_left),\n",
    "             200, levels = color_levels, cmap = 'jet')\n",
    "\n",
    "plt.contourf(np.array(x_bottom_right), np.array(y_bottom_right), np.array(u_bottom_right),\n",
    "             200, levels = color_levels, cmap = 'jet')\n",
    "\n",
    "plt.contourf(np.array(x_top_right), np.array(y_top_right), np.array(u_top_right),\n",
    "             200, levels = color_levels, cmap = 'jet')\n",
    "\n",
    "plt.contourf(np.array(x_top_center), np.array(y_top_center), np.array(u_top_center),\n",
    "             200, levels = color_levels, cmap = 'jet')\n",
    "\n",
    "plt.contourf(np.array(x_bottom_center), np.array(y_bottom_center), np.array(u_bottom_center),\n",
    "             200, levels = color_levels, cmap = 'jet')\n",
    "\n",
    "plt.xlabel(r'$x$')\n",
    "plt.ylabel(r'$y$')\n",
    "plt.title(r'$u(x, y, t = 0)$')\n",
    "plt.axes().set_aspect('equal')\n",
    "plt.colorbar()\n",
    "\n",
    "plt.xlim(-2.2, 2.2)\n",
    "plt.ylim(-1.2, 1.2)\n",
    "plt.savefig('u_e_ij_t_0000.png')\n",
    "plt.show()"
   ]
  },
  {
   "cell_type": "code",
   "execution_count": 20,
   "metadata": {},
   "outputs": [
    {
     "name": "stdout",
     "output_type": "stream",
     "text": [
      "0\n",
      "1\n",
      "2\n",
      "3\n",
      "4\n",
      "5\n",
      "6\n",
      "7\n",
      "8\n",
      "9\n",
      "10\n",
      "11\n",
      "12\n",
      "13\n",
      "14\n",
      "15\n",
      "16\n",
      "17\n",
      "18\n",
      "19\n",
      "20\n",
      "21\n",
      "22\n",
      "23\n",
      "24\n",
      "25\n",
      "26\n",
      "27\n",
      "28\n"
     ]
    },
    {
     "ename": "KeyboardInterrupt",
     "evalue": "",
     "output_type": "error",
     "traceback": [
      "\u001b[0;31m---------------------------------------------------------------------------\u001b[0m",
      "\u001b[0;31mKeyboardInterrupt\u001b[0m                         Traceback (most recent call last)",
      "\u001b[0;32m<ipython-input-20-a9db2093e69e>\u001b[0m in \u001b[0;36m<module>\u001b[0;34m()\u001b[0m\n\u001b[1;32m      9\u001b[0m \u001b[0;34m\u001b[0m\u001b[0m\n\u001b[1;32m     10\u001b[0m     plt.contourf(np.array(x_mesh), np.array(y_mesh), np.array(u_mesh),\n\u001b[0;32m---> 11\u001b[0;31m                  200, levels = color_levels, cmap = 'jet')\n\u001b[0m\u001b[1;32m     12\u001b[0m \u001b[0;34m\u001b[0m\u001b[0m\n\u001b[1;32m     13\u001b[0m \u001b[0mplt\u001b[0m\u001b[0;34m.\u001b[0m\u001b[0maxes\u001b[0m\u001b[0;34m(\u001b[0m\u001b[0;34m)\u001b[0m\u001b[0;34m.\u001b[0m\u001b[0mset_aspect\u001b[0m\u001b[0;34m(\u001b[0m\u001b[0;34m'equal'\u001b[0m\u001b[0;34m)\u001b[0m\u001b[0;34m\u001b[0m\u001b[0m\n",
      "\u001b[0;32m~/.local/anaconda3/lib/python3.6/site-packages/matplotlib/pyplot.py\u001b[0m in \u001b[0;36mcontourf\u001b[0;34m(*args, **kwargs)\u001b[0m\n\u001b[1;32m   2795\u001b[0m                       mplDeprecation)\n\u001b[1;32m   2796\u001b[0m     \u001b[0;32mtry\u001b[0m\u001b[0;34m:\u001b[0m\u001b[0;34m\u001b[0m\u001b[0m\n\u001b[0;32m-> 2797\u001b[0;31m         \u001b[0mret\u001b[0m \u001b[0;34m=\u001b[0m \u001b[0max\u001b[0m\u001b[0;34m.\u001b[0m\u001b[0mcontourf\u001b[0m\u001b[0;34m(\u001b[0m\u001b[0;34m*\u001b[0m\u001b[0margs\u001b[0m\u001b[0;34m,\u001b[0m \u001b[0;34m**\u001b[0m\u001b[0mkwargs\u001b[0m\u001b[0;34m)\u001b[0m\u001b[0;34m\u001b[0m\u001b[0m\n\u001b[0m\u001b[1;32m   2798\u001b[0m     \u001b[0;32mfinally\u001b[0m\u001b[0;34m:\u001b[0m\u001b[0;34m\u001b[0m\u001b[0m\n\u001b[1;32m   2799\u001b[0m         \u001b[0max\u001b[0m\u001b[0;34m.\u001b[0m\u001b[0m_hold\u001b[0m \u001b[0;34m=\u001b[0m \u001b[0mwashold\u001b[0m\u001b[0;34m\u001b[0m\u001b[0m\n",
      "\u001b[0;32m~/.local/anaconda3/lib/python3.6/site-packages/matplotlib/__init__.py\u001b[0m in \u001b[0;36minner\u001b[0;34m(ax, *args, **kwargs)\u001b[0m\n\u001b[1;32m   1708\u001b[0m                     warnings.warn(msg % (label_namer, func.__name__),\n\u001b[1;32m   1709\u001b[0m                                   RuntimeWarning, stacklevel=2)\n\u001b[0;32m-> 1710\u001b[0;31m             \u001b[0;32mreturn\u001b[0m \u001b[0mfunc\u001b[0m\u001b[0;34m(\u001b[0m\u001b[0max\u001b[0m\u001b[0;34m,\u001b[0m \u001b[0;34m*\u001b[0m\u001b[0margs\u001b[0m\u001b[0;34m,\u001b[0m \u001b[0;34m**\u001b[0m\u001b[0mkwargs\u001b[0m\u001b[0;34m)\u001b[0m\u001b[0;34m\u001b[0m\u001b[0m\n\u001b[0m\u001b[1;32m   1711\u001b[0m         \u001b[0mpre_doc\u001b[0m \u001b[0;34m=\u001b[0m \u001b[0minner\u001b[0m\u001b[0;34m.\u001b[0m\u001b[0m__doc__\u001b[0m\u001b[0;34m\u001b[0m\u001b[0m\n\u001b[1;32m   1712\u001b[0m         \u001b[0;32mif\u001b[0m \u001b[0mpre_doc\u001b[0m \u001b[0;32mis\u001b[0m \u001b[0;32mNone\u001b[0m\u001b[0;34m:\u001b[0m\u001b[0;34m\u001b[0m\u001b[0m\n",
      "\u001b[0;32m~/.local/anaconda3/lib/python3.6/site-packages/matplotlib/axes/_axes.py\u001b[0m in \u001b[0;36mcontourf\u001b[0;34m(self, *args, **kwargs)\u001b[0m\n\u001b[1;32m   5874\u001b[0m             \u001b[0mself\u001b[0m\u001b[0;34m.\u001b[0m\u001b[0mcla\u001b[0m\u001b[0;34m(\u001b[0m\u001b[0;34m)\u001b[0m\u001b[0;34m\u001b[0m\u001b[0m\n\u001b[1;32m   5875\u001b[0m         \u001b[0mkwargs\u001b[0m\u001b[0;34m[\u001b[0m\u001b[0;34m'filled'\u001b[0m\u001b[0;34m]\u001b[0m \u001b[0;34m=\u001b[0m \u001b[0;32mTrue\u001b[0m\u001b[0;34m\u001b[0m\u001b[0m\n\u001b[0;32m-> 5876\u001b[0;31m         \u001b[0mcontours\u001b[0m \u001b[0;34m=\u001b[0m \u001b[0mmcontour\u001b[0m\u001b[0;34m.\u001b[0m\u001b[0mQuadContourSet\u001b[0m\u001b[0;34m(\u001b[0m\u001b[0mself\u001b[0m\u001b[0;34m,\u001b[0m \u001b[0;34m*\u001b[0m\u001b[0margs\u001b[0m\u001b[0;34m,\u001b[0m \u001b[0;34m**\u001b[0m\u001b[0mkwargs\u001b[0m\u001b[0;34m)\u001b[0m\u001b[0;34m\u001b[0m\u001b[0m\n\u001b[0m\u001b[1;32m   5877\u001b[0m         \u001b[0mself\u001b[0m\u001b[0;34m.\u001b[0m\u001b[0mautoscale_view\u001b[0m\u001b[0;34m(\u001b[0m\u001b[0;34m)\u001b[0m\u001b[0;34m\u001b[0m\u001b[0m\n\u001b[1;32m   5878\u001b[0m         \u001b[0;32mreturn\u001b[0m \u001b[0mcontours\u001b[0m\u001b[0;34m\u001b[0m\u001b[0m\n",
      "\u001b[0;32m~/.local/anaconda3/lib/python3.6/site-packages/matplotlib/contour.py\u001b[0m in \u001b[0;36m__init__\u001b[0;34m(self, ax, *args, **kwargs)\u001b[0m\n\u001b[1;32m    958\u001b[0m             \u001b[0mcol\u001b[0m\u001b[0;34m.\u001b[0m\u001b[0msticky_edges\u001b[0m\u001b[0;34m.\u001b[0m\u001b[0my\u001b[0m\u001b[0;34m[\u001b[0m\u001b[0;34m:\u001b[0m\u001b[0;34m]\u001b[0m \u001b[0;34m=\u001b[0m \u001b[0;34m[\u001b[0m\u001b[0mself\u001b[0m\u001b[0;34m.\u001b[0m\u001b[0m_mins\u001b[0m\u001b[0;34m[\u001b[0m\u001b[0;36m1\u001b[0m\u001b[0;34m]\u001b[0m\u001b[0;34m,\u001b[0m \u001b[0mself\u001b[0m\u001b[0;34m.\u001b[0m\u001b[0m_maxs\u001b[0m\u001b[0;34m[\u001b[0m\u001b[0;36m1\u001b[0m\u001b[0;34m]\u001b[0m\u001b[0;34m]\u001b[0m\u001b[0;34m\u001b[0m\u001b[0m\n\u001b[1;32m    959\u001b[0m         \u001b[0mself\u001b[0m\u001b[0;34m.\u001b[0m\u001b[0max\u001b[0m\u001b[0;34m.\u001b[0m\u001b[0mupdate_datalim\u001b[0m\u001b[0;34m(\u001b[0m\u001b[0;34m[\u001b[0m\u001b[0mself\u001b[0m\u001b[0;34m.\u001b[0m\u001b[0m_mins\u001b[0m\u001b[0;34m,\u001b[0m \u001b[0mself\u001b[0m\u001b[0;34m.\u001b[0m\u001b[0m_maxs\u001b[0m\u001b[0;34m]\u001b[0m\u001b[0;34m)\u001b[0m\u001b[0;34m\u001b[0m\u001b[0m\n\u001b[0;32m--> 960\u001b[0;31m         \u001b[0mself\u001b[0m\u001b[0;34m.\u001b[0m\u001b[0max\u001b[0m\u001b[0;34m.\u001b[0m\u001b[0mautoscale_view\u001b[0m\u001b[0;34m(\u001b[0m\u001b[0mtight\u001b[0m\u001b[0;34m=\u001b[0m\u001b[0;32mTrue\u001b[0m\u001b[0;34m)\u001b[0m\u001b[0;34m\u001b[0m\u001b[0m\n\u001b[0m\u001b[1;32m    961\u001b[0m \u001b[0;34m\u001b[0m\u001b[0m\n\u001b[1;32m    962\u001b[0m         \u001b[0mself\u001b[0m\u001b[0;34m.\u001b[0m\u001b[0mchanged\u001b[0m\u001b[0;34m(\u001b[0m\u001b[0;34m)\u001b[0m  \u001b[0;31m# set the colors\u001b[0m\u001b[0;34m\u001b[0m\u001b[0m\n",
      "\u001b[0;32m~/.local/anaconda3/lib/python3.6/site-packages/matplotlib/axes/_base.py\u001b[0m in \u001b[0;36mautoscale_view\u001b[0;34m(self, tight, scalex, scaley)\u001b[0m\n\u001b[1;32m   2241\u001b[0m             \u001b[0mx_stickies\u001b[0m \u001b[0;34m=\u001b[0m \u001b[0msum\u001b[0m\u001b[0;34m(\u001b[0m\u001b[0;34m[\u001b[0m\u001b[0msticky\u001b[0m\u001b[0;34m.\u001b[0m\u001b[0mx\u001b[0m \u001b[0;32mfor\u001b[0m \u001b[0msticky\u001b[0m \u001b[0;32min\u001b[0m \u001b[0mstickies\u001b[0m\u001b[0;34m]\u001b[0m\u001b[0;34m,\u001b[0m \u001b[0;34m[\u001b[0m\u001b[0;34m]\u001b[0m\u001b[0;34m)\u001b[0m\u001b[0;34m\u001b[0m\u001b[0m\n\u001b[1;32m   2242\u001b[0m             \u001b[0my_stickies\u001b[0m \u001b[0;34m=\u001b[0m \u001b[0msum\u001b[0m\u001b[0;34m(\u001b[0m\u001b[0;34m[\u001b[0m\u001b[0msticky\u001b[0m\u001b[0;34m.\u001b[0m\u001b[0my\u001b[0m \u001b[0;32mfor\u001b[0m \u001b[0msticky\u001b[0m \u001b[0;32min\u001b[0m \u001b[0mstickies\u001b[0m\u001b[0;34m]\u001b[0m\u001b[0;34m,\u001b[0m \u001b[0;34m[\u001b[0m\u001b[0;34m]\u001b[0m\u001b[0;34m)\u001b[0m\u001b[0;34m\u001b[0m\u001b[0m\n\u001b[0;32m-> 2243\u001b[0;31m             \u001b[0;32mif\u001b[0m \u001b[0mself\u001b[0m\u001b[0;34m.\u001b[0m\u001b[0mget_xscale\u001b[0m\u001b[0;34m(\u001b[0m\u001b[0;34m)\u001b[0m\u001b[0;34m.\u001b[0m\u001b[0mlower\u001b[0m\u001b[0;34m(\u001b[0m\u001b[0;34m)\u001b[0m \u001b[0;34m==\u001b[0m \u001b[0;34m'log'\u001b[0m\u001b[0;34m:\u001b[0m\u001b[0;34m\u001b[0m\u001b[0m\n\u001b[0m\u001b[1;32m   2244\u001b[0m                 \u001b[0mx_stickies\u001b[0m \u001b[0;34m=\u001b[0m \u001b[0;34m[\u001b[0m\u001b[0mxs\u001b[0m \u001b[0;32mfor\u001b[0m \u001b[0mxs\u001b[0m \u001b[0;32min\u001b[0m \u001b[0mx_stickies\u001b[0m \u001b[0;32mif\u001b[0m \u001b[0mxs\u001b[0m \u001b[0;34m>\u001b[0m \u001b[0;36m0\u001b[0m\u001b[0;34m]\u001b[0m\u001b[0;34m\u001b[0m\u001b[0m\n\u001b[1;32m   2245\u001b[0m             \u001b[0;32mif\u001b[0m \u001b[0mself\u001b[0m\u001b[0;34m.\u001b[0m\u001b[0mget_yscale\u001b[0m\u001b[0;34m(\u001b[0m\u001b[0;34m)\u001b[0m\u001b[0;34m.\u001b[0m\u001b[0mlower\u001b[0m\u001b[0;34m(\u001b[0m\u001b[0;34m)\u001b[0m \u001b[0;34m==\u001b[0m \u001b[0;34m'log'\u001b[0m\u001b[0;34m:\u001b[0m\u001b[0;34m\u001b[0m\u001b[0m\n",
      "\u001b[0;31mKeyboardInterrupt\u001b[0m: "
     ]
    }
   ],
   "source": [
    "color_levels = np.linspace(-1.1, 1.1, 100)\n",
    "\n",
    "\n",
    "element_tags = [44, 53, 62, 99, 140, 149, 158, 207]\n",
    "\n",
    "for element_tag in np.arange(advec_var.elements.shape[0]):\n",
    "    print(element_tag)\n",
    "    x_mesh, y_mesh, u_mesh = contour_x_y_u(element_tag, advec_var)\n",
    "    \n",
    "    plt.contourf(np.array(x_mesh), np.array(y_mesh), np.array(u_mesh),\n",
    "                 200, levels = color_levels, cmap = 'jet')\n",
    "\n",
    "plt.axes().set_aspect('equal')\n",
    "plt.colorbar()\n",
    "plt.show()"
   ]
  },
  {
   "cell_type": "code",
   "execution_count": null,
   "metadata": {},
   "outputs": [],
   "source": []
  }
 ],
 "metadata": {
  "kernelspec": {
   "display_name": "Python 3",
   "language": "python",
   "name": "python3"
  },
  "language_info": {
   "codemirror_mode": {
    "name": "ipython",
    "version": 3
   },
   "file_extension": ".py",
   "mimetype": "text/x-python",
   "name": "python",
   "nbconvert_exporter": "python",
   "pygments_lexer": "ipython3",
   "version": "3.6.3"
  }
 },
 "nbformat": 4,
 "nbformat_minor": 2
}
