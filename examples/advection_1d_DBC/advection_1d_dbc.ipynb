{
 "cells": [
  {
   "cell_type": "code",
   "execution_count": 1,
   "metadata": {},
   "outputs": [
    {
     "name": "stderr",
     "output_type": "stream",
     "text": [
      "/home/ubermensch/.local/anaconda3/lib/python3.6/site-packages/numpy/lib/polynomial.py:1193: FutureWarning: In the future extra properties will not be copied across when constructing one poly1d from another\n",
      "  other = poly1d(other)\n",
      "/home/ubermensch/.local/anaconda3/lib/python3.6/site-packages/numpy/lib/polynomial.py:1220: FutureWarning: In the future extra properties will not be copied across when constructing one poly1d from another\n",
      "  other = poly1d(other)\n"
     ]
    }
   ],
   "source": [
    "import os\n",
    "import sys\n",
    "sys.path.insert(0, os.path.abspath('../../'))\n",
    "\n",
    "import numpy as np\n",
    "from matplotlib import pyplot as plt\n",
    "import arrayfire as af\n",
    "\n",
    "from dg_maxwell import params\n",
    "from dg_maxwell import wave_equation as w1d\n",
    "from dg_maxwell import utils\n",
    "\n",
    "af.set_backend('cpu')"
   ]
  },
  {
   "cell_type": "code",
   "execution_count": 2,
   "metadata": {},
   "outputs": [
    {
     "name": "stdout",
     "output_type": "stream",
     "text": [
      "arrayfire.Array()\n",
      "Type: double\n",
      "\n",
      "[1 10 1 1]\n",
      "    0.0000     0.0001     0.0183     0.3679     1.0000     0.3679     0.0183     0.0001     0.0000     0.0000 \n",
      "\n"
     ]
    }
   ],
   "source": [
    "u_n = params.u_init\n",
    "\n",
    "L_p_minus1   = params.lagrange_basis_value[:, 0]\n",
    "L_p_1        = params.lagrange_basis_value[:, -1]\n",
    "f_i          = w1d.lax_friedrichs_flux(u_n)\n",
    "print(f_i)\n",
    "f_iminus1    = af.shift(f_i, 0, 1)\n",
    "surface_term = af.blas.matmul(L_p_1, f_i) - af.blas.matmul(L_p_minus1,\n",
    "                                                           f_iminus1)\n"
   ]
  },
  {
   "cell_type": "code",
   "execution_count": 3,
   "metadata": {},
   "outputs": [],
   "source": [
    "u = params.u_init\n",
    "b = w1d.b_vector(u)\n",
    "A_inverse = af.tile(af.inverse(w1d.A_matrix()), d0 = 1, d1 = 1, d2 = params.N_Elements)"
   ]
  },
  {
   "cell_type": "code",
   "execution_count": 4,
   "metadata": {},
   "outputs": [
    {
     "name": "stdout",
     "output_type": "stream",
     "text": [
      "arrayfire.Array()\n",
      "Type: double\n",
      "\n",
      "[8 10 1 1]\n",
      "    0.0000    -0.0000    -0.0000    -0.0013    -0.0131     0.0000     0.0131     0.0013     0.0000     0.0000 \n",
      "    0.0000    -0.0000    -0.0001    -0.0096    -0.0821     0.0135     0.0723     0.0061     0.0001     0.0000 \n",
      "   -0.0000    -0.0000    -0.0004    -0.0244    -0.1441     0.0668     0.0964     0.0058     0.0000     0.0000 \n",
      "   -0.0000    -0.0000    -0.0012    -0.0504    -0.1730     0.1395     0.0821     0.0032     0.0000     0.0000 \n",
      "   -0.0000    -0.0000    -0.0032    -0.0821    -0.1395     0.1730     0.0504     0.0012     0.0000     0.0000 \n",
      "   -0.0000    -0.0000    -0.0058    -0.0964    -0.0668     0.1441     0.0244     0.0004     0.0000     0.0000 \n",
      "   -0.0000    -0.0001    -0.0061    -0.0723    -0.0135     0.0821     0.0096     0.0001     0.0000    -0.0000 \n",
      "   -0.0000    -0.0000    -0.0013    -0.0131    -0.0000     0.0131     0.0013     0.0000     0.0000     0.0000 \n",
      "\n",
      "\n"
     ]
    }
   ],
   "source": [
    "b[0, 0] = 0.\n",
    "b[-1, -1] = 0.\n",
    "print(b)"
   ]
  },
  {
   "cell_type": "code",
   "execution_count": 5,
   "metadata": {},
   "outputs": [],
   "source": [
    "# Setting DBC for the first element\n",
    "I = af.constant(0., d0 = 1, d1 = params.N_LGL, dtype = af.Dtype.f64)\n",
    "I[0, 0] = 1\n",
    "A_inverse[0, :, 0] = I\n",
    "\n",
    "# Setting DBC for the last element\n",
    "I = af.constant(0., d0 = 1, d1 = params.N_LGL, dtype = af.Dtype.f64)\n",
    "I[0, -1] = 1\n",
    "\n",
    "A_inverse[-1, :, -1] = I\n",
    "\n",
    "# print(A_inverse)"
   ]
  },
  {
   "cell_type": "code",
   "execution_count": 6,
   "metadata": {},
   "outputs": [
    {
     "name": "stdout",
     "output_type": "stream",
     "text": [
      "arrayfire.Array()\n",
      "Type: double\n",
      "\n",
      "[8 10 1 1]\n",
      "    0.0000    -0.0000    -0.0037    -0.3664    -3.6786     0.0001     3.6787     0.3663     0.0037     0.0000 \n",
      "    0.0000    -0.0000    -0.0053    -0.4563    -3.8981     0.6386     3.4294     0.2913     0.0026     0.0000 \n",
      "   -0.0000    -0.0000    -0.0113    -0.7139    -4.2243     1.9582     2.8246     0.1711     0.0011     0.0000 \n",
      "   -0.0000    -0.0001    -0.0295    -1.2221    -4.1950     3.3814     1.9912     0.0772     0.0003     0.0000 \n",
      "   -0.0000    -0.0003    -0.0772    -1.9912    -3.3814     4.1950     1.2221     0.0295     0.0001     0.0000 \n",
      "   -0.0000    -0.0011    -0.1711    -2.8246    -1.9582     4.2243     0.7139     0.0113     0.0000     0.0000 \n",
      "   -0.0000    -0.0026    -0.2913    -3.4294    -0.6386     3.8981     0.4563     0.0053     0.0000    -0.0000 \n",
      "   -0.0000    -0.0037    -0.3663    -3.6787    -0.0001     3.6786     0.3664     0.0037     0.0000     0.0000 \n",
      "\n",
      "\n"
     ]
    }
   ],
   "source": [
    "print(af.reorder(utils.matmul_3D(A_inverse, af.reorder(b, d0 = 0, d1 = 2, d2 = 1)), d0 = 0, d1 = 2, d2 = 1))"
   ]
  },
  {
   "cell_type": "code",
   "execution_count": 5,
   "metadata": {},
   "outputs": [
    {
     "name": "stdout",
     "output_type": "stream",
     "text": [
      "arrayfire.Array()\n",
      "Type: double\n",
      "\n",
      "[8 10 1 1]\n",
      "    0.0000     0.0000     0.0001     0.0183     0.3679     1.0000     0.3679     0.0183     0.0001     0.0000 \n",
      "    0.0000     0.0000     0.0002     0.0236     0.4165     0.9959     0.3223     0.0141     0.0001     0.0000 \n",
      "    0.0000     0.0000     0.0004     0.0398     0.5308     0.9592     0.2346     0.0078     0.0000     0.0000 \n",
      "    0.0000     0.0000     0.0011     0.0762     0.6938     0.8553     0.1427     0.0032     0.0000     0.0000 \n",
      "    0.0000     0.0000     0.0032     0.1427     0.8553     0.6938     0.0762     0.0011     0.0000     0.0000 \n",
      "    0.0000     0.0000     0.0078     0.2346     0.9592     0.5308     0.0398     0.0004     0.0000     0.0000 \n",
      "    0.0000     0.0001     0.0141     0.3223     0.9959     0.4165     0.0236     0.0002     0.0000     0.0000 \n",
      "    0.0000     0.0001     0.0183     0.3679     1.0000     0.3679     0.0183     0.0001     0.0000     0.0000 \n",
      "\n",
      "\n",
      "arrayfire.Array()\n",
      "Type: double\n",
      "\n",
      "[8 10 1 1]\n",
      "    1.0000     0.0000     0.0001     0.0183     0.3679     1.0000     0.3679     0.0183     0.0001     0.0000 \n",
      "    0.0000     0.0000     0.0002     0.0236     0.4165     0.9959     0.3223     0.0141     0.0001     0.0000 \n",
      "    0.0000     0.0000     0.0004     0.0398     0.5308     0.9592     0.2346     0.0078     0.0000     0.0000 \n",
      "    0.0000     0.0000     0.0011     0.0762     0.6938     0.8553     0.1427     0.0032     0.0000     0.0000 \n",
      "    0.0000     0.0000     0.0032     0.1427     0.8553     0.6938     0.0762     0.0011     0.0000     0.0000 \n",
      "    0.0000     0.0000     0.0078     0.2346     0.9592     0.5308     0.0398     0.0004     0.0000     0.0000 \n",
      "    0.0000     0.0001     0.0141     0.3223     0.9959     0.4165     0.0236     0.0002     0.0000     0.0000 \n",
      "    0.0000     0.0001     0.0183     0.3679     1.0000     0.3679     0.0183     0.0001     0.0000     1.0000 \n",
      "\n",
      "\n"
     ]
    }
   ],
   "source": [
    "u = params.u_init.copy()\n",
    "print(u)\n",
    "\n",
    "u[0, 0] = 1\n",
    "u[-1, -1] = 1\n",
    "print(u)"
   ]
  },
  {
   "cell_type": "code",
   "execution_count": null,
   "metadata": {},
   "outputs": [],
   "source": []
  }
 ],
 "metadata": {
  "kernelspec": {
   "display_name": "Python 3",
   "language": "python",
   "name": "python3"
  },
  "language_info": {
   "codemirror_mode": {
    "name": "ipython",
    "version": 3
   },
   "file_extension": ".py",
   "mimetype": "text/x-python",
   "name": "python",
   "nbconvert_exporter": "python",
   "pygments_lexer": "ipython3",
   "version": "3.6.3"
  }
 },
 "nbformat": 4,
 "nbformat_minor": 2
}
