{
 "cells": [
  {
   "cell_type": "code",
   "execution_count": null,
   "metadata": {},
   "outputs": [],
   "source": []
  },
  {
   "cell_type": "code",
   "execution_count": 1,
   "metadata": {},
   "outputs": [
    {
     "name": "stdout",
     "output_type": "stream",
     "text": [
      "gmshtranslator friendly reminder: rules and actions prototypes\n",
      "\n",
      "\n",
      "def node_condition(tag,x,y,z,physgroups): \n",
      "def node_action(tag,x,y,z):\n",
      "def element_condition(eletag,eletype,physgrp,nodes):\n",
      "def element_action(eletag,eletype,physgrp,nodes):\n"
     ]
    }
   ],
   "source": [
    "import os\n",
    "import sys\n",
    "sys.path.insert(0, os.path.abspath('../../../'))\n",
    "\n",
    "import numpy as np\n",
    "import arrayfire as af\n",
    "from matplotlib import pyplot as plt\n",
    "\n",
    "from dg_maxwell import params\n",
    "from dg_maxwell import msh_parser\n",
    "from dg_maxwell import advection_2d\n",
    "from dg_maxwell import global_variables as gvar\n",
    "from dg_maxwell import utils\n",
    "from dg_maxwell import wave_equation_2d\n",
    "from dg_maxwell import isoparam\n",
    "from dg_maxwell import lagrange\n",
    "from dg_maxwell import advection_2d_arbit_mesh as a2d_arbit_mesh\n",
    "\n",
    "af.set_backend(params.backend)\n",
    "af.set_device(params.device)\n",
    "\n",
    "plt.rcParams['figure.figsize']     = 12, 7.5\n",
    "plt.rcParams['lines.linewidth']    = 1.5\n",
    "plt.rcParams['font.family']        = 'serif'\n",
    "plt.rcParams['font.weight']        = 'bold'\n",
    "plt.rcParams['font.size']          = 20  \n",
    "plt.rcParams['font.sans-serif']    = 'serif'\n",
    "plt.rcParams['text.usetex']        = True\n",
    "plt.rcParams['axes.linewidth']     = 1.5\n",
    "plt.rcParams['axes.titlesize']     = 'medium'\n",
    "plt.rcParams['axes.labelsize']     = 'medium'\n",
    "\n",
    "plt.rcParams['xtick.major.size']   = 8\n",
    "plt.rcParams['xtick.minor.size']   = 4\n",
    "plt.rcParams['xtick.major.pad']    = 8\n",
    "plt.rcParams['xtick.minor.pad']    = 8\n",
    "plt.rcParams['xtick.color']        = 'k'\n",
    "plt.rcParams['xtick.labelsize']    = 'medium'\n",
    "plt.rcParams['xtick.direction']    = 'in'    \n",
    "\n",
    "plt.rcParams['ytick.major.size']   = 8\n",
    "plt.rcParams['ytick.minor.size']   = 4\n",
    "plt.rcParams['ytick.major.pad']    = 8\n",
    "plt.rcParams['ytick.minor.pad']    = 8\n",
    "plt.rcParams['ytick.color']        = 'k'\n",
    "plt.rcParams['ytick.labelsize']    = 'medium'\n",
    "plt.rcParams['ytick.direction']    = 'in'\n",
    "plt.rcParams['text.usetex']        = True\n",
    "plt.rcParams['text.latex.unicode'] = True"
   ]
  },
  {
   "cell_type": "code",
   "execution_count": 2,
   "metadata": {},
   "outputs": [
    {
     "name": "stdout",
     "output_type": "stream",
     "text": [
      "gmshTranslator: Initializing...\n",
      "gmshTranslator: Mesh has 81 nodes.\n",
      "gmshTranslator: Mesh has 49 elements.\n",
      "gmshTranslator: Processed 134 lines.\n",
      "gmshTranslator: There are 1 physical groups available: \n",
      "gmshTranslator:      > 0\n",
      "gmshTranslator: Parsing nodes\n",
      "gmshTranslator: Parsing elements\n",
      "gmshTranslator: No rules for elements... skipping elements.\n",
      "gmshTranslator: Parsing nodes\n",
      "gmshTranslator: No rules for nodes... skipping nodes.\n",
      "gmshTranslator: Parsing elements\n",
      "0 6\n",
      "1 7\n",
      "14 8\n",
      "15 10\n",
      "advection_variables __init__ completed\n"
     ]
    },
    {
     "name": "stderr",
     "output_type": "stream",
     "text": [
      "/home/ubermensch/.local/anaconda3/lib/python3.6/site-packages/numpy/lib/polynomial.py:1193: FutureWarning: In the future extra properties will not be copied across when constructing one poly1d from another\n",
      "  other = poly1d(other)\n",
      "/home/ubermensch/.local/anaconda3/lib/python3.6/site-packages/numpy/lib/polynomial.py:1220: FutureWarning: In the future extra properties will not be copied across when constructing one poly1d from another\n",
      "  other = poly1d(other)\n"
     ]
    }
   ],
   "source": [
    "params.mesh_file = '../../read_and_plot_mesh/mesh/square_mesh_4_parts.msh'\n",
    "advec_var = gvar.advection_variables(params.N_LGL, params.N_quad,\n",
    "                                     params.x_nodes, params.N_Elements,\n",
    "                                     params.c, params.total_time, params.wave,\n",
    "                                     params.c_x, params.c_y, params.courant,\n",
    "                                     params.mesh_file, params.total_time_2d)"
   ]
  },
  {
   "cell_type": "code",
   "execution_count": 3,
   "metadata": {},
   "outputs": [
    {
     "name": "stdout",
     "output_type": "stream",
     "text": [
      "gmshTranslator: Ending\n"
     ]
    },
    {
     "name": "stderr",
     "output_type": "stream",
     "text": [
      "/home/ubermensch/.local/anaconda3/lib/python3.6/site-packages/matplotlib/cbook/deprecation.py:106: MatplotlibDeprecationWarning: Adding an axes using the same arguments as a previous axes currently reuses the earlier instance.  In a future version, a new instance will always be created and returned.  Meanwhile, this warning can be suppressed, and the future behavior ensured, by passing a unique label to each axes instance.\n",
      "  warnings.warn(message, mplDeprecation, stacklevel=1)\n"
     ]
    },
    {
     "data": {
      "image/png": "[encoded data removed]",
      "text/plain": [
       "<matplotlib.figure.Figure at 0x7f98842a2978>"
      ]
     },
     "metadata": {},
     "output_type": "display_data"
    }
   ],
   "source": [
    "axes_handler = plt.axes()\n",
    "\n",
    "\n",
    "msh_parser.plot_mesh_grid(advec_var.nodes, advec_var.elements,\n",
    "                          advec_var.xi_LGL, advec_var.eta_LGL,\n",
    "                          axes_handler, plot_LGL_grid = False,\n",
    "                          print_element_tag = True,\n",
    "                          print_node_tag = True)\n",
    "\n",
    "# plt.title(r'Grid plot of a mesh for $N_{LGL} = 8$.'\n",
    "#           '\\n Red lines are mesh grid, and \\n'\n",
    "#           'blue lines are element boundaries.')\n",
    "plt.title(r'Plot of Mesh. The element tag is shown in red')\n",
    "plt.xlabel(r'$x$')\n",
    "plt.ylabel(r'$y$')\n",
    "\n",
    "plt.xlim(-1.1, 1.1)\n",
    "plt.ylim(-1.1, 1.1)\n",
    "plt.axes().set_aspect('equal')\n",
    "\n",
    "plt.savefig('square.png')\n",
    "plt.show()"
   ]
  },
  {
   "cell_type": "code",
   "execution_count": 3,
   "metadata": {},
   "outputs": [],
   "source": [
    "####################################################################\n",
    "# Periodic boundary conditions for square 4x4 non-contiguous mesh\n",
    "####################################################################\n",
    "\n",
    "vertical_boundary_elements_pbc = [[ 0,  15],\n",
    "                                  [ 2,  13],\n",
    "                                  [ 4,  11],\n",
    "                                  [ 6,  10]]\n",
    "\n",
    "vertical_boundary_elements_pbc = np.array(vertical_boundary_elements_pbc)\n",
    "\n",
    "\n",
    "horizontal_boundary_elements_pbc = [[ 0,   6],\n",
    "                                    [ 1,   7],\n",
    "                                    [14,   8],\n",
    "                                    [15,  10]]\n",
    "\n",
    "horizontal_boundary_elements_pbc = np.array(horizontal_boundary_elements_pbc)"
   ]
  },
  {
   "cell_type": "code",
   "execution_count": 6,
   "metadata": {},
   "outputs": [
    {
     "name": "stdout",
     "output_type": "stream",
     "text": [
      "0 6\n",
      "1 7\n",
      "14 8\n",
      "15 10\n",
      "0 \t->\t15\t2\t1\t6\t\n",
      "1 \t->\t0\t3\t14\t7\t\n",
      "2 \t->\t13\t4\t3\t0\t\n",
      "3 \t->\t2\t5\t12\t1\t\n",
      "4 \t->\t11\t6\t5\t2\t\n",
      "5 \t->\t4\t7\t9\t3\t\n",
      "6 \t->\t10\t0\t7\t4\t\n",
      "7 \t->\t6\t1\t8\t5\t\n",
      "8 \t->\t7\t14\t10\t9\t\n",
      "9 \t->\t5\t8\t11\t12\t\n",
      "10 \t->\t8\t15\t6\t11\t\n",
      "11 \t->\t9\t10\t4\t13\t\n",
      "12 \t->\t3\t9\t13\t14\t\n",
      "13 \t->\t12\t11\t2\t15\t\n",
      "14 \t->\t1\t12\t15\t8\t\n",
      "15 \t->\t14\t13\t0\t10\t\n",
      "\n"
     ]
    }
   ],
   "source": [
    "interelement_relations = advec_var.interelement_relations.copy()\n",
    "\n",
    "for vertical_boundary in vertical_boundary_elements_pbc:\n",
    "    interelement_relations[vertical_boundary[0],\n",
    "                           0] = vertical_boundary[1]\n",
    "    interelement_relations[vertical_boundary[1],\n",
    "                           2] = vertical_boundary[0]\n",
    "\n",
    "\n",
    "for horizontal_boundary in horizontal_boundary_elements_pbc:\n",
    "    print(horizontal_boundary[0], horizontal_boundary[1])\n",
    "    interelement_relations[horizontal_boundary[0], 3] = horizontal_boundary[1]\n",
    "    interelement_relations[horizontal_boundary[1], 1] = horizontal_boundary[0]\n",
    "\n",
    "print_with_index(interelement_relations)"
   ]
  },
  {
   "cell_type": "code",
   "execution_count": 5,
   "metadata": {},
   "outputs": [],
   "source": [
    "def print_with_index(datas):\n",
    "    datas = np.array(datas)\n",
    "    for index, row in enumerate(datas):\n",
    "        print(index, '\\t->', end = '\\t')\n",
    "        for data in row:\n",
    "            print(np.round(data, 3), end = '\\t')\n",
    "        print()\n",
    "    print()"
   ]
  },
  {
   "cell_type": "code",
   "execution_count": 5,
   "metadata": {},
   "outputs": [
    {
     "name": "stdout",
     "output_type": "stream",
     "text": [
      "0 \t->\t15\t2\t1\t6\t\n",
      "1 \t->\t0\t3\t14\t7\t\n",
      "2 \t->\t13\t4\t3\t0\t\n",
      "3 \t->\t2\t5\t12\t1\t\n",
      "4 \t->\t11\t6\t5\t2\t\n",
      "5 \t->\t4\t7\t9\t3\t\n",
      "6 \t->\t10\t0\t7\t4\t\n",
      "7 \t->\t6\t1\t8\t5\t\n",
      "8 \t->\t14\t-1\t10\t9\t\n",
      "9 \t->\t5\t8\t11\t12\t\n",
      "10 \t->\t15\t6\t-1\t11\t\n",
      "11 \t->\t9\t4\t-1\t13\t\n",
      "12 \t->\t3\t9\t13\t14\t\n",
      "13 \t->\t12\t11\t2\t15\t\n",
      "14 \t->\t1\t8\t15\t-1\t\n",
      "15 \t->\t14\t10\t0\t-1\t\n",
      "\n"
     ]
    }
   ],
   "source": [
    "print_with_index(advec_var.interelement_relations)"
   ]
  },
  {
   "cell_type": "code",
   "execution_count": 9,
   "metadata": {},
   "outputs": [
    {
     "name": "stdout",
     "output_type": "stream",
     "text": [
      "1.0\n"
     ]
    }
   ],
   "source": [
    "print(af.all_true(af.abs(advec_var.interelement_relations - interelement_relations) < 1e-14))"
   ]
  },
  {
   "cell_type": "code",
   "execution_count": 49,
   "metadata": {},
   "outputs": [
    {
     "name": "stdout",
     "output_type": "stream",
     "text": [
      "0 \t->\t0\t10\t9\t46\t45\t47\t30\t32\t48\t\n",
      "1 \t->\t30\t47\t45\t49\t42\t44\t7\t31\t50\t\n",
      "2 \t->\t9\t11\t1\t34\t33\t51\t45\t46\t52\t\n",
      "3 \t->\t45\t51\t33\t35\t8\t43\t42\t49\t53\t\n",
      "4 \t->\t1\t13\t12\t55\t54\t56\t33\t34\t57\t\n",
      "5 \t->\t33\t56\t54\t58\t36\t37\t8\t35\t59\t\n",
      "6 \t->\t12\t14\t2\t16\t15\t60\t54\t55\t61\t\n",
      "7 \t->\t54\t60\t15\t17\t3\t38\t36\t58\t62\t\n",
      "8 \t->\t63\t65\t36\t38\t3\t19\t18\t64\t66\t\n",
      "9 \t->\t39\t40\t8\t37\t36\t65\t63\t67\t68\t\n",
      "10 \t->\t21\t69\t63\t64\t18\t20\t4\t22\t70\t\n",
      "11 \t->\t5\t41\t39\t67\t63\t69\t21\t23\t71\t\n",
      "12 \t->\t8\t43\t42\t73\t72\t74\t39\t40\t75\t\n",
      "13 \t->\t39\t74\t72\t76\t24\t25\t5\t41\t77\t\n",
      "14 \t->\t42\t44\t7\t29\t27\t78\t72\t73\t79\t\n",
      "15 \t->\t72\t78\t27\t28\t6\t26\t24\t76\t80\t\n",
      "\n"
     ]
    }
   ],
   "source": [
    "elements = advec_var.elements[:, :-1].copy()\n",
    "\n",
    "for element_tag in np.arange(8, 12):\n",
    "    elements[element_tag] = np.roll(elements[element_tag], 2)\n",
    "\n",
    "for element_tag in np.arange(12, 16):\n",
    "    elements[element_tag] = np.flip(elements[element_tag], axis = 0)\n",
    "#     print(elements[element_tag])\n",
    "    elements[element_tag] = np.roll(elements[element_tag], 3)\n",
    "\n",
    "advec_var.elements[:, :-1] = elements\n",
    "print_with_index(advec_var.elements)\n"
   ]
  },
  {
   "cell_type": "code",
   "execution_count": null,
   "metadata": {},
   "outputs": [],
   "source": []
  },
  {
   "cell_type": "code",
   "execution_count": null,
   "metadata": {},
   "outputs": [],
   "source": []
  }
 ],
 "metadata": {
  "kernelspec": {
   "display_name": "Python 3",
   "language": "python",
   "name": "python3"
  },
  "language_info": {
   "codemirror_mode": {
    "name": "ipython",
    "version": 3
   },
   "file_extension": ".py",
   "mimetype": "text/x-python",
   "name": "python",
   "nbconvert_exporter": "python",
   "pygments_lexer": "ipython3",
   "version": "3.6.3"
  }
 },
 "nbformat": 4,
 "nbformat_minor": 2
}
