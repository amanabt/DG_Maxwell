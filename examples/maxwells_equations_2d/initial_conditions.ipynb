{
 "cells": [
  {
   "cell_type": "code",
   "execution_count": 1,
   "metadata": {},
   "outputs": [
    {
     "name": "stdout",
     "output_type": "stream",
     "text": [
      "[[ 0  9]\n",
      " [10 19]\n",
      " [20 29]\n",
      " [30 39]\n",
      " [40 49]\n",
      " [50 59]\n",
      " [60 69]\n",
      " [70 79]\n",
      " [80 89]\n",
      " [90 99]]\n",
      "[[ 0 90]\n",
      " [ 1 91]\n",
      " [ 2 92]\n",
      " [ 3 93]\n",
      " [ 4 94]\n",
      " [ 5 95]\n",
      " [ 6 96]\n",
      " [ 7 97]\n",
      " [ 8 98]\n",
      " [ 9 99]]\n",
      "gmshtranslator friendly reminder: rules and actions prototypes\n",
      "\n",
      "\n",
      "def node_condition(tag,x,y,z,physgroups): \n",
      "def node_action(tag,x,y,z):\n",
      "def element_condition(eletag,eletype,physgrp,nodes):\n",
      "def element_action(eletag,eletype,physgrp,nodes):\n"
     ]
    }
   ],
   "source": [
    "import os\n",
    "import sys\n",
    "sys.path.insert(0, os.path.abspath('../../'))\n",
    "\n",
    "from matplotlib import pyplot as plt\n",
    "import numpy as np\n",
    "import arrayfire as af\n",
    "\n",
    "from dg_maxwell import params\n",
    "from dg_maxwell import msh_parser\n",
    "from dg_maxwell import advection_2d\n",
    "from dg_maxwell import global_variables as gvar\n",
    "from dg_maxwell import utils\n",
    "from dg_maxwell import advection_2d_arbit_mesh as a2d_arbit_mesh\n",
    "from dg_maxwell import wave_equation_2d\n",
    "from dg_maxwell import lagrange\n",
    "\n",
    "af.set_backend(params.backend)\n",
    "af.set_device(params.device)\n",
    "\n",
    "plt.rcParams['figure.figsize']     = 12, 7.5\n",
    "plt.rcParams['lines.linewidth']    = 1.5\n",
    "plt.rcParams['font.family']        = 'serif'\n",
    "plt.rcParams['font.weight']        = 'bold'\n",
    "plt.rcParams['font.size']          = 20  \n",
    "plt.rcParams['font.sans-serif']    = 'serif'\n",
    "plt.rcParams['text.usetex']        = True\n",
    "plt.rcParams['axes.linewidth']     = 1.5\n",
    "plt.rcParams['axes.titlesize']     = 'medium'\n",
    "plt.rcParams['axes.labelsize']     = 'medium'\n",
    "\n",
    "plt.rcParams['xtick.major.size']   = 8\n",
    "plt.rcParams['xtick.minor.size']   = 4\n",
    "plt.rcParams['xtick.major.pad']    = 8\n",
    "plt.rcParams['xtick.minor.pad']    = 8\n",
    "plt.rcParams['xtick.color']        = 'k'\n",
    "plt.rcParams['xtick.labelsize']    = 'medium'\n",
    "plt.rcParams['xtick.direction']    = 'in'    \n",
    "\n",
    "plt.rcParams['ytick.major.size']   = 8\n",
    "plt.rcParams['ytick.minor.size']   = 4\n",
    "plt.rcParams['ytick.major.pad']    = 8\n",
    "plt.rcParams['ytick.minor.pad']    = 8\n",
    "plt.rcParams['ytick.color']        = 'k'\n",
    "plt.rcParams['ytick.labelsize']    = 'medium'\n",
    "plt.rcParams['ytick.direction']    = 'in'\n",
    "plt.rcParams['text.usetex']        = True\n",
    "plt.rcParams['text.latex.unicode'] = True"
   ]
  },
  {
   "cell_type": "code",
   "execution_count": 2,
   "metadata": {},
   "outputs": [
    {
     "name": "stderr",
     "output_type": "stream",
     "text": [
      "/home/ubermensch/.local/anaconda3/lib/python3.6/site-packages/numpy/lib/polynomial.py:1193: FutureWarning: In the future extra properties will not be copied across when constructing one poly1d from another\n",
      "  other = poly1d(other)\n",
      "/home/ubermensch/.local/anaconda3/lib/python3.6/site-packages/numpy/lib/polynomial.py:1220: FutureWarning: In the future extra properties will not be copied across when constructing one poly1d from another\n",
      "  other = poly1d(other)\n"
     ]
    },
    {
     "name": "stdout",
     "output_type": "stream",
     "text": [
      "gmshTranslator: Initializing...\n",
      "gmshTranslator: Mesh has 441 nodes.\n",
      "gmshTranslator: Mesh has 144 elements.\n",
      "gmshTranslator: Processed 589 lines.\n",
      "gmshTranslator: There are 1 physical groups available: \n",
      "gmshTranslator:      > 0\n",
      "gmshTranslator: Parsing nodes\n",
      "gmshTranslator: Parsing elements\n",
      "gmshTranslator: No rules for elements... skipping elements.\n",
      "gmshTranslator: Parsing nodes\n",
      "gmshTranslator: No rules for nodes... skipping nodes.\n",
      "gmshTranslator: Parsing elements\n",
      "advection_variables __init__ completed\n"
     ]
    }
   ],
   "source": [
    "params.mesh_file = '../read_and_plot_mesh/mesh/square_10_10.msh'\n",
    "advec_var = gvar.advection_variables(params.N_LGL, params.N_quad,\n",
    "                                     params.x_nodes, params.N_Elements,\n",
    "                                     params.c, params.total_time, params.wave,\n",
    "                                     params.c_x, params.c_y, params.courant,\n",
    "                                     params.mesh_file, params.total_time_2d)\n",
    "new_elements = msh_parser.rearrange_element_edges(advec_var.elements, advec_var)\n",
    "advec_var.reassign_2d_elements(new_elements)"
   ]
  },
  {
   "cell_type": "code",
   "execution_count": 3,
   "metadata": {},
   "outputs": [
    {
     "name": "stdout",
     "output_type": "stream",
     "text": [
      "gmshTranslator: Ending\n"
     ]
    },
    {
     "name": "stderr",
     "output_type": "stream",
     "text": [
      "/home/ubermensch/.local/anaconda3/lib/python3.6/site-packages/matplotlib/cbook/deprecation.py:106: MatplotlibDeprecationWarning: Adding an axes using the same arguments as a previous axes currently reuses the earlier instance.  In a future version, a new instance will always be created and returned.  Meanwhile, this warning can be suppressed, and the future behavior ensured, by passing a unique label to each axes instance.\n",
      "  warnings.warn(message, mplDeprecation, stacklevel=1)\n"
     ]
    },
    {
     "data": {
      "image/png": "[encoded data removed]",
      "text/plain": [
       "<matplotlib.figure.Figure at 0x7fa58e869128>"
      ]
     },
     "metadata": {},
     "output_type": "display_data"
    }
   ],
   "source": [
    "axes_handler = plt.axes()\n",
    "\n",
    "\n",
    "msh_parser.plot_mesh_grid(advec_var.nodes, advec_var.elements,\n",
    "                          advec_var.xi_LGL, advec_var.eta_LGL,\n",
    "                          axes_handler, plot_LGL_grid = False,\n",
    "                          print_element_tag = True)\n",
    "\n",
    "plt.title(r'Plot of Mesh. The element tag is shown in red')\n",
    "plt.xlabel(r'$x$')\n",
    "plt.ylabel(r'$y$')\n",
    "\n",
    "plt.xlim(-1.1, 1.1)\n",
    "plt.ylim(-1.1, 1.1)\n",
    "plt.axes().set_aspect('equal')\n",
    "\n",
    "plt.savefig('square.png')\n",
    "plt.show()"
   ]
  },
  {
   "cell_type": "code",
   "execution_count": 17,
   "metadata": {},
   "outputs": [],
   "source": [
    "sigma = 0.4\n",
    "E_z_init = np.e**(- (advec_var.x_e_ij**2 + advec_var.y_e_ij**2) / sigma**2)\n",
    "B_x_init = np.e**(- (advec_var.y_e_ij**2) / sigma**2)\n",
    "B_y_init = np.e**(- (advec_var.x_e_ij**2) / sigma**2)\n",
    "\n",
    "u_init = af.join(dim = 2, first = E_z_init, second = B_x_init, third = B_y_init)"
   ]
  },
  {
   "cell_type": "code",
   "execution_count": 18,
   "metadata": {},
   "outputs": [
    {
     "name": "stdout",
     "output_type": "stream",
     "text": [
      "(64, 100, 3)\n"
     ]
    }
   ],
   "source": [
    "print(u_init.shape)"
   ]
  },
  {
   "cell_type": "code",
   "execution_count": 19,
   "metadata": {},
   "outputs": [],
   "source": [
    "gauss_points    = advec_var.gauss_points\n",
    "gauss_weights   = advec_var.gauss_weights\n",
    "dLp_Lq          = advec_var.dLp_Lq\n",
    "dLq_Lp          = advec_var.dLq_Lp\n",
    "xi_LGL          = advec_var.xi_LGL\n",
    "lagrange_coeffs = advec_var.lagrange_coeffs\n",
    "Li_Lj_coeffs    = advec_var.Li_Lj_coeffs\n",
    "u               = advec_var.u_e_ij\n",
    "lobatto_weights = advec_var.lobatto_weights_quadrature\n",
    "x_e_ij          = advec_var.x_e_ij\n",
    "y_e_ij          = advec_var.y_e_ij"
   ]
  },
  {
   "cell_type": "code",
   "execution_count": 22,
   "metadata": {},
   "outputs": [
    {
     "data": {
      "image/png": "[encoded data removed]",
      "text/plain": [
       "<matplotlib.figure.Figure at 0x7fa581b6a5c0>"
      ]
     },
     "metadata": {},
     "output_type": "display_data"
    }
   ],
   "source": [
    "u = u_init[:, :, 2]\n",
    "index = 0\n",
    "color_levels = np.linspace(0, 1.1, 100)\n",
    "u_plot = af.flip(af.moddims(u, params.N_LGL, params.N_LGL, 10, 10), 0)\n",
    "x_plot = af.flip(af.moddims(x_e_ij, params.N_LGL, params.N_LGL, 10, 10), 0)\n",
    "y_plot = af.flip(af.moddims(y_e_ij, params.N_LGL, params.N_LGL, 10, 10), 0)\n",
    "\n",
    "\n",
    "x_contour = af.np_to_af_array(np.zeros([params.N_LGL * 10, params.N_LGL * 10]))\n",
    "y_contour = af.np_to_af_array(np.zeros([params.N_LGL * 10, params.N_LGL * 10]))\n",
    "u_contour = af.np_to_af_array(np.zeros([params.N_LGL * 10, params.N_LGL * 10]))\n",
    "# fig = plt.figure()\n",
    "#\n",
    "for r in range(100):\n",
    "    p = int(r / 10)\n",
    "    q = r - p * 10\n",
    "    x_contour[p * params.N_LGL:params.N_LGL * (p + 1),\\\n",
    "              q * params.N_LGL:params.N_LGL * (q + 1)] = x_plot[:, :, q, p]\n",
    "\n",
    "    y_contour[p * params.N_LGL:params.N_LGL * (p + 1),\\\n",
    "              q * params.N_LGL:params.N_LGL * (q + 1)] = y_plot[:, :, q, p]\n",
    "\n",
    "    u_contour[p * params.N_LGL:params.N_LGL * (p + 1),\\\n",
    "              q * params.N_LGL:params.N_LGL * (q + 1)] = u_plot[:, :, q, p]\n",
    "\n",
    "x_contour = np.array(x_contour)\n",
    "y_contour = np.array(y_contour)\n",
    "u_contour = np.array(u_contour)\n",
    "plt.contourf(x_contour, y_contour, u_contour, 200, levels = color_levels, cmap = 'jet')\n",
    "plt.gca().set_aspect('equal')\n",
    "plt.colorbar()\n",
    "plt.title('Time = %.2f' %(index * 10 * advec_var.delta_t_2d))\n",
    "# fig.savefig('results/2D_Wave_images/%04d' %(index) + '.png')\n",
    "# plt.close('all')\n",
    "plt.show()"
   ]
  },
  {
   "cell_type": "code",
   "execution_count": null,
   "metadata": {},
   "outputs": [],
   "source": []
  },
  {
   "cell_type": "code",
   "execution_count": null,
   "metadata": {},
   "outputs": [],
   "source": []
  }
 ],
 "metadata": {
  "kernelspec": {
   "display_name": "Python 3",
   "language": "python",
   "name": "python3"
  },
  "language_info": {
   "codemirror_mode": {
    "name": "ipython",
    "version": 3
   },
   "file_extension": ".py",
   "mimetype": "text/x-python",
   "name": "python",
   "nbconvert_exporter": "python",
   "pygments_lexer": "ipython3",
   "version": "3.6.3"
  }
 },
 "nbformat": 4,
 "nbformat_minor": 2
}
