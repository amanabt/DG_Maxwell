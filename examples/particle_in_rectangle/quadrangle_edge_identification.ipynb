{
 "cells": [
  {
   "cell_type": "code",
   "execution_count": 1,
   "metadata": {},
   "outputs": [
    {
     "name": "stdout",
     "output_type": "stream",
     "text": [
      "gmshtranslator friendly reminder: rules and actions prototypes\n",
      "\n",
      "\n",
      "def node_condition(tag,x,y,z,physgroups): \n",
      "def node_action(tag,x,y,z):\n",
      "def element_condition(eletag,eletype,physgrp,nodes):\n",
      "def element_action(eletag,eletype,physgrp,nodes):\n"
     ]
    }
   ],
   "source": [
    "import os\n",
    "import sys\n",
    "sys.path.insert(0, os.path.abspath('../../'))\n",
    "\n",
    "import numpy as np\n",
    "from matplotlib import pyplot as plt\n",
    "import h5py\n",
    "import arrayfire as af\n",
    "\n",
    "from dg_maxwell import params\n",
    "from dg_maxwell import msh_parser\n",
    "from dg_maxwell import lagrange\n",
    "from dg_maxwell import global_variables as gvar\n",
    "from dg_maxwell import advection_2d_arbit_mesh as a2d_arbit_mesh\n",
    "from dg_maxwell import utils\n",
    "\n",
    "af.set_backend(params.backend)\n",
    "af.set_device(params.device)\n",
    "\n",
    "plt.rcParams['figure.figsize']     = 12, 7.5\n",
    "plt.rcParams['lines.linewidth']    = 1.5\n",
    "plt.rcParams['font.family']        = 'serif'\n",
    "plt.rcParams['font.weight']        = 'bold'\n",
    "plt.rcParams['font.size']          = 20  \n",
    "plt.rcParams['font.sans-serif']    = 'serif'\n",
    "plt.rcParams['text.usetex']        = True\n",
    "plt.rcParams['axes.linewidth']     = 1.5\n",
    "plt.rcParams['axes.titlesize']     = 'medium'\n",
    "plt.rcParams['axes.labelsize']     = 'medium'\n",
    "\n",
    "plt.rcParams['xtick.major.size']   = 8\n",
    "plt.rcParams['xtick.minor.size']   = 4\n",
    "plt.rcParams['xtick.major.pad']    = 8\n",
    "plt.rcParams['xtick.minor.pad']    = 8\n",
    "plt.rcParams['xtick.color']        = 'k'\n",
    "plt.rcParams['xtick.labelsize']    = 'medium'\n",
    "plt.rcParams['xtick.direction']    = 'in'    \n",
    "\n",
    "plt.rcParams['ytick.major.size']   = 8\n",
    "plt.rcParams['ytick.minor.size']   = 4\n",
    "plt.rcParams['ytick.major.pad']    = 8\n",
    "plt.rcParams['ytick.minor.pad']    = 8\n",
    "plt.rcParams['ytick.color']        = 'k'\n",
    "plt.rcParams['ytick.labelsize']    = 'medium'\n",
    "plt.rcParams['ytick.direction']    = 'in'\n",
    "plt.rcParams['text.usetex']        = True\n",
    "plt.rcParams['text.latex.unicode'] = True"
   ]
  },
  {
   "cell_type": "code",
   "execution_count": 2,
   "metadata": {},
   "outputs": [],
   "source": [
    "def print_with_index(datas):\n",
    "    datas = np.array(datas)\n",
    "    for index, row in enumerate(datas):\n",
    "        print(index, '\\t->', end = '\\t')\n",
    "        for data in row:\n",
    "            print(np.round(data, 3), end = '\\t')\n",
    "        print()\n",
    "    print()"
   ]
  },
  {
   "cell_type": "code",
   "execution_count": 3,
   "metadata": {},
   "outputs": [
    {
     "name": "stderr",
     "output_type": "stream",
     "text": [
      "/home/ubermensch/.local/anaconda3/lib/python3.6/site-packages/numpy/lib/polynomial.py:1193: FutureWarning: In the future extra properties will not be copied across when constructing one poly1d from another\n",
      "  other = poly1d(other)\n",
      "/home/ubermensch/.local/anaconda3/lib/python3.6/site-packages/numpy/lib/polynomial.py:1220: FutureWarning: In the future extra properties will not be copied across when constructing one poly1d from another\n",
      "  other = poly1d(other)\n"
     ]
    },
    {
     "name": "stdout",
     "output_type": "stream",
     "text": [
      "gmshTranslator: Initializing...\n",
      "gmshTranslator: Mesh has 81 nodes.\n",
      "gmshTranslator: Mesh has 49 elements.\n",
      "gmshTranslator: Processed 134 lines.\n",
      "gmshTranslator: There are 1 physical groups available: \n",
      "gmshTranslator:      > 0\n",
      "gmshTranslator: Parsing nodes\n",
      "gmshTranslator: Parsing elements\n",
      "gmshTranslator: No rules for elements... skipping elements.\n",
      "gmshTranslator: Parsing nodes\n",
      "gmshTranslator: No rules for nodes... skipping nodes.\n",
      "gmshTranslator: Parsing elements\n",
      "advection_variables __init__ completed\n"
     ]
    }
   ],
   "source": [
    "params.mesh_file = '../read_and_plot_mesh/mesh/square_mesh_4_parts.msh'\n",
    "advec_var = gvar.advection_variables(params.N_LGL, params.N_quad,\n",
    "                                     params.x_nodes, params.N_Elements,\n",
    "                                     params.c, params.total_time, params.wave,\n",
    "                                     params.c_x, params.c_y, params.courant,\n",
    "                                     params.mesh_file, params.total_time_2d)"
   ]
  },
  {
   "cell_type": "code",
   "execution_count": 138,
   "metadata": {},
   "outputs": [
    {
     "name": "stderr",
     "output_type": "stream",
     "text": [
      "/home/ubermensch/.local/anaconda3/lib/python3.6/site-packages/matplotlib/cbook/deprecation.py:106: MatplotlibDeprecationWarning: Adding an axes using the same arguments as a previous axes currently reuses the earlier instance.  In a future version, a new instance will always be created and returned.  Meanwhile, this warning can be suppressed, and the future behavior ensured, by passing a unique label to each axes instance.\n",
      "  warnings.warn(message, mplDeprecation, stacklevel=1)\n"
     ]
    },
    {
     "data": {
      "image/png": "[encoded data removed]",
      "text/plain": [
       "<matplotlib.figure.Figure at 0x7f0e7b349198>"
      ]
     },
     "metadata": {},
     "output_type": "display_data"
    }
   ],
   "source": [
    "axes_handler = plt.axes()\n",
    "\n",
    "\n",
    "msh_parser.plot_mesh_grid(advec_var.nodes, advec_var.elements,\n",
    "                          advec_var.xi_LGL, advec_var.eta_LGL,\n",
    "                          axes_handler, plot_LGL_grid = False,\n",
    "                          print_element_tag = True,\n",
    "                          print_node_tag = True)\n",
    "\n",
    "# plt.title(r'Grid plot of a mesh for $N_{LGL} = 8$.'\n",
    "#           '\\n Red lines are mesh grid, and \\n'\n",
    "#           'blue lines are element boundaries.')\n",
    "plt.title(r'Plot of Mesh. The element tag is shown in red')\n",
    "plt.xlabel(r'$x$')\n",
    "plt.ylabel(r'$y$')\n",
    "\n",
    "plt.xlim(-1.1, 1.1)\n",
    "plt.ylim(-1.1, 1.1)\n",
    "plt.axes().set_aspect('equal')\n",
    "\n",
    "# plt.savefig('square.png')\n",
    "plt.show()"
   ]
  },
  {
   "cell_type": "markdown",
   "metadata": {},
   "source": [
    "# Prototype to detect an edge of a quadrangle"
   ]
  },
  {
   "cell_type": "code",
   "execution_count": 4,
   "metadata": {},
   "outputs": [
    {
     "name": "stdout",
     "output_type": "stream",
     "text": [
      "gmshTranslator: Ending\n"
     ]
    }
   ],
   "source": [
    "elements = advec_var.elements\n",
    "\n",
    "element_tag = 0\n",
    "\n",
    "x_edge = af.constant(0., d0 = advec_var.elements.shape[0], d1 = params.N_LGL, d2 = 4, dtype = af.Dtype.f64)\n",
    "y_edge = af.constant(0., d0 = advec_var.elements.shape[0], d1 = params.N_LGL, d2 = 4, dtype = af.Dtype.f64)\n",
    "\n",
    "edge_id = 0\n",
    "x_edge[:, :, edge_id] = af.transpose(a2d_arbit_mesh.u_at_edge(advec_var.x_e_ij,\n",
    "                                                              edge_id, advec_var))\n",
    "y_edge[:, :, edge_id] = af.transpose(a2d_arbit_mesh.u_at_edge(advec_var.y_e_ij,\n",
    "                                                              edge_id, advec_var))\n",
    "\n",
    "edge_id = 1\n",
    "x_edge[:, :, edge_id] = af.transpose(a2d_arbit_mesh.u_at_edge(advec_var.x_e_ij,\n",
    "                                                              edge_id, advec_var))\n",
    "y_edge[:, :, edge_id] = af.transpose(a2d_arbit_mesh.u_at_edge(advec_var.y_e_ij,\n",
    "                                                              edge_id, advec_var))\n",
    "\n",
    "\n",
    "edge_id = 2\n",
    "x_edge[:, :, edge_id] = af.transpose(a2d_arbit_mesh.u_at_edge(advec_var.x_e_ij,\n",
    "                                                              edge_id, advec_var))\n",
    "y_edge[:, :, edge_id] = af.transpose(a2d_arbit_mesh.u_at_edge(advec_var.y_e_ij,\n",
    "                                                              edge_id, advec_var))\n",
    "\n",
    "edge_id = 3\n",
    "x_edge[:, :, edge_id] = af.transpose(a2d_arbit_mesh.u_at_edge(advec_var.x_e_ij,\n",
    "                                                              edge_id, advec_var))\n",
    "y_edge[:, :, edge_id] = af.transpose(a2d_arbit_mesh.u_at_edge(advec_var.y_e_ij,\n",
    "                                                              edge_id, advec_var))\n"
   ]
  },
  {
   "cell_type": "code",
   "execution_count": 5,
   "metadata": {},
   "outputs": [],
   "source": [
    "x_edge_c = af.mean(x_edge, dim = 1)\n",
    "y_edge_c = af.mean(y_edge, dim = 1)\n",
    "\n",
    "x_quad_c = af.mean(af.mean(x_edge, dim = 1), dim = 2)\n",
    "y_quad_c = af.mean(af.mean(y_edge, dim = 1), dim = 2)"
   ]
  },
  {
   "cell_type": "code",
   "execution_count": 7,
   "metadata": {},
   "outputs": [],
   "source": [
    "delta_x_edge_c = af.reorder(af.broadcast(utils.add, x_edge_c, -x_quad_c), d0 = 0, d1 = 2, d2 = 1)\n",
    "delta_y_edge_c = af.reorder(af.broadcast(utils.add, y_edge_c, -y_quad_c), d0 = 0, d1 = 2, d2 = 1)"
   ]
  },
  {
   "cell_type": "code",
   "execution_count": 8,
   "metadata": {},
   "outputs": [],
   "source": [
    "delta_xy_complex = np.array(delta_x_edge_c + 1j * delta_y_edge_c)"
   ]
  },
  {
   "cell_type": "code",
   "execution_count": 9,
   "metadata": {},
   "outputs": [
    {
     "name": "stdout",
     "output_type": "stream",
     "text": [
      "arrayfire.Array()\n",
      "Type: double\n",
      "\n",
      "[16 4 1 1]\n",
      "  180.0000   270.0000   360.0000    90.0000 \n",
      "  180.0000   270.0000   360.0000    90.0000 \n",
      "  180.0000   270.0000   360.0000    90.0000 \n",
      "  180.0000   270.0000   360.0000    90.0000 \n",
      "  180.0000   270.0000     0.0000    90.0000 \n",
      "  180.0000   270.0000   360.0000    90.0000 \n",
      "  180.0000   270.0000   360.0000    90.0000 \n",
      "  180.0000   270.0000   360.0000    90.0000 \n",
      "  270.0000   360.0000    90.0000   180.0000 \n",
      "  270.0000   360.0000    90.0000   180.0000 \n",
      "  270.0000   360.0000    90.0000   180.0000 \n",
      "  270.0000   360.0000    90.0000   180.0000 \n",
      "  180.0000    90.0000   360.0000   270.0000 \n",
      "  180.0000    90.0000     0.0000   270.0000 \n",
      "  180.0000    90.0000     0.0000   270.0000 \n",
      "  180.0000    90.0000     0.0000   270.0000 \n",
      "\n",
      "\n"
     ]
    }
   ],
   "source": [
    "edge_angle = af.np_to_af_array(np.angle(delta_xy_complex, deg = True))\n",
    "angle_less_than_zero = af.cast(edge_angle < 0, dtype = af.Dtype.f64)\n",
    "edge_angle = edge_angle + angle_less_than_zero * 360\n",
    "print(edge_angle)"
   ]
  },
  {
   "cell_type": "code",
   "execution_count": 11,
   "metadata": {},
   "outputs": [],
   "source": [
    "# Identifying physical right edges\n",
    "physical_right_edge = (edge_angle >= 315.) * (edge_angle <= 360) + (edge_angle >= 0.) * (edge_angle <= 45)\n",
    "\n",
    "# Identifying physical top edges\n",
    "physical_top_edge = (edge_angle >= 45) * (edge_angle <= 135)\n",
    "\n",
    "# Identifying physical left edges\n",
    "physical_left_edge = (edge_angle >= 135) * (edge_angle <= 225)\n",
    "\n",
    "# Identifying physical left edges\n",
    "physical_bottom_edge = (edge_angle >= 225) * (edge_angle < 315)"
   ]
  },
  {
   "cell_type": "code",
   "execution_count": 12,
   "metadata": {},
   "outputs": [
    {
     "name": "stdout",
     "output_type": "stream",
     "text": [
      "0 \t->\t0\t0\t0\t1\t\n",
      "1 \t->\t0\t0\t0\t1\t\n",
      "2 \t->\t0\t0\t0\t1\t\n",
      "3 \t->\t0\t0\t0\t1\t\n",
      "4 \t->\t0\t0\t0\t1\t\n",
      "5 \t->\t0\t0\t0\t1\t\n",
      "6 \t->\t0\t0\t0\t1\t\n",
      "7 \t->\t0\t0\t0\t1\t\n",
      "8 \t->\t0\t0\t1\t0\t\n",
      "9 \t->\t0\t0\t1\t0\t\n",
      "10 \t->\t0\t0\t1\t0\t\n",
      "11 \t->\t0\t0\t1\t0\t\n",
      "12 \t->\t0\t1\t0\t0\t\n",
      "13 \t->\t0\t1\t0\t0\t\n",
      "14 \t->\t0\t1\t0\t0\t\n",
      "15 \t->\t0\t1\t0\t0\t\n",
      "\n"
     ]
    }
   ],
   "source": [
    "print_with_index(physical_top_edge)"
   ]
  },
  {
   "cell_type": "code",
   "execution_count": 120,
   "metadata": {},
   "outputs": [
    {
     "name": "stdout",
     "output_type": "stream",
     "text": [
      "0 \t->\t0\t1\t2\t3\t\n",
      "1 \t->\t0\t1\t2\t3\t\n",
      "2 \t->\t0\t1\t2\t3\t\n",
      "3 \t->\t0\t1\t2\t3\t\n",
      "4 \t->\t0\t1\t2\t3\t\n",
      "5 \t->\t0\t1\t2\t3\t\n",
      "6 \t->\t0\t1\t2\t3\t\n",
      "7 \t->\t0\t1\t2\t3\t\n",
      "8 \t->\t1\t2\t3\t0\t\n",
      "9 \t->\t1\t2\t3\t0\t\n",
      "10 \t->\t1\t2\t3\t0\t\n",
      "11 \t->\t1\t2\t3\t0\t\n",
      "12 \t->\t0\t3\t2\t1\t\n",
      "13 \t->\t0\t3\t2\t1\t\n",
      "14 \t->\t0\t3\t2\t1\t\n",
      "15 \t->\t0\t3\t2\t1\t\n",
      "\n"
     ]
    }
   ],
   "source": [
    "edge_reorder = physical_left_edge * 1 + physical_bottom_edge * 2 + physical_right_edge * 3 + physical_top_edge * 4 - 1\n",
    "print_with_index(edge_reorder)"
   ]
  },
  {
   "cell_type": "markdown",
   "metadata": {},
   "source": [
    "# Writing the formal code to identify the edges of an element"
   ]
  },
  {
   "cell_type": "code",
   "execution_count": null,
   "metadata": {},
   "outputs": [],
   "source": [
    "elements = advec_var.elements\n",
    "\n",
    "element_tag = 0\n",
    "\n",
    "x_edge = af.constant(0., d0 = advec_var.elements.shape[0], d1 = params.N_LGL, d2 = 4, dtype = af.Dtype.f64)\n",
    "y_edge = af.constant(0., d0 = advec_var.elements.shape[0], d1 = params.N_LGL, d2 = 4, dtype = af.Dtype.f64)\n",
    "\n",
    "edge_id = 0\n",
    "x_edge[:, :, edge_id] = af.transpose(a2d_arbit_mesh.u_at_edge(advec_var.x_e_ij,\n",
    "                                                              edge_id, advec_var))\n",
    "y_edge[:, :, edge_id] = af.transpose(a2d_arbit_mesh.u_at_edge(advec_var.y_e_ij,\n",
    "                                                              edge_id, advec_var))\n",
    "\n",
    "edge_id = 1\n",
    "x_edge[:, :, edge_id] = af.transpose(a2d_arbit_mesh.u_at_edge(advec_var.x_e_ij,\n",
    "                                                              edge_id, advec_var))\n",
    "y_edge[:, :, edge_id] = af.transpose(a2d_arbit_mesh.u_at_edge(advec_var.y_e_ij,\n",
    "                                                              edge_id, advec_var))\n",
    "\n",
    "\n",
    "edge_id = 2\n",
    "x_edge[:, :, edge_id] = af.transpose(a2d_arbit_mesh.u_at_edge(advec_var.x_e_ij,\n",
    "                                                              edge_id, advec_var))\n",
    "y_edge[:, :, edge_id] = af.transpose(a2d_arbit_mesh.u_at_edge(advec_var.y_e_ij,\n",
    "                                                              edge_id, advec_var))\n",
    "\n",
    "edge_id = 3\n",
    "x_edge[:, :, edge_id] = af.transpose(a2d_arbit_mesh.u_at_edge(advec_var.x_e_ij,\n",
    "                                                              edge_id, advec_var))\n",
    "y_edge[:, :, edge_id] = af.transpose(a2d_arbit_mesh.u_at_edge(advec_var.y_e_ij,\n",
    "                                                              edge_id, advec_var))\n",
    "\n",
    "###################################################################################\n",
    "###################################################################################\n",
    "\n",
    "x_edge_c = af.mean(x_edge, dim = 1)\n",
    "y_edge_c = af.mean(y_edge, dim = 1)\n",
    "\n",
    "x_quad_c = af.mean(af.mean(x_edge, dim = 1), dim = 2)\n",
    "y_quad_c = af.mean(af.mean(y_edge, dim = 1), dim = 2)\n",
    "\n",
    "###################################################################################\n",
    "###################################################################################\n",
    "\n",
    "delta_x_edge_c = af.reorder(af.broadcast(utils.add, x_edge_c, -x_quad_c), d0 = 0, d1 = 2, d2 = 1)\n",
    "delta_y_edge_c = af.reorder(af.broadcast(utils.add, y_edge_c, -y_quad_c), d0 = 0, d1 = 2, d2 = 1)\n",
    "\n",
    "###################################################################################\n",
    "###################################################################################\n",
    "\n",
    "delta_xy_complex = np.array(delta_x_edge_c + 1j * delta_y_edge_c)\n",
    "\n",
    "###################################################################################\n",
    "###################################################################################\n",
    "\n",
    "edge_angle = af.np_to_af_array(np.angle(delta_xy_complex, deg = True))\n",
    "angle_less_than_zero = af.cast(edge_angle < 0, dtype = af.Dtype.f64)\n",
    "edge_angle = edge_angle + angle_less_than_zero * 360\n",
    "print(edge_angle)\n",
    "\n",
    "###################################################################################\n",
    "###################################################################################\n",
    "\n",
    "# Identifying physical right edges\n",
    "physical_right_edge = (edge_angle >= 315.) * (edge_angle <= 360) + (edge_angle >= 0.) * (edge_angle <= 45)\n",
    "\n",
    "# Identifying physical top edges\n",
    "physical_top_edge = (edge_angle >= 45) * (edge_angle <= 135)\n",
    "\n",
    "# Identifying physical left edges\n",
    "physical_left_edge = (edge_angle >= 135) * (edge_angle <= 225)\n",
    "\n",
    "# Identifying physical left edges\n",
    "physical_bottom_edge = (edge_angle >= 225) * (edge_angle < 315)\n",
    "\n",
    "###################################################################################\n",
    "###################################################################################\n",
    "\n",
    "edge_reorder = physical_left_edge * 1 + physical_bottom_edge * 2 + physical_right_edge * 3 + physical_top_edge * 4 - 1\n",
    "print_with_index(edge_reorder)"
   ]
  },
  {
   "cell_type": "code",
   "execution_count": null,
   "metadata": {},
   "outputs": [],
   "source": []
  },
  {
   "cell_type": "code",
   "execution_count": 119,
   "metadata": {},
   "outputs": [],
   "source": [
    "def get_edge_nodes(elements, element_tag, edge_id):\n",
    "    '''\n",
    "    '''\n",
    "    edge_nodes_tag = None\n",
    "    \n",
    "    if edge_id < 3:\n",
    "        edge_nodes_tag =  elements[element_tag, edge_id * 2:(edge_id * 2 + 3)]\n",
    "    else:\n",
    "#         print(elements[element_tag, edge_id * 2:(edge_id * 2 + 2)])\n",
    "        edge_nodes_tag = np.append(elements[element_tag, edge_id * 2:(edge_id * 2 + 2)],\n",
    "                                   elements[element_tag, 0])\n",
    "    \n",
    "    edge_nodes = advec_var.nodes[edge_nodes_tag]\n",
    "#     print(edge_nodes)\n",
    "    return edge_nodes_tag\n",
    "\n"
   ]
  },
  {
   "cell_type": "code",
   "execution_count": 15,
   "metadata": {},
   "outputs": [
    {
     "name": "stdout",
     "output_type": "stream",
     "text": [
      "[[ 0.5   0.5 ]\n",
      " [ 0.5   0.25]\n",
      " [ 0.5   0.  ]]\n"
     ]
    },
    {
     "data": {
      "text/plain": [
       "array([72, 74, 39])"
      ]
     },
     "execution_count": 15,
     "metadata": {},
     "output_type": "execute_result"
    }
   ],
   "source": [
    "edge_nodes(elements, 12, 2)"
   ]
  },
  {
   "cell_type": "code",
   "execution_count": 118,
   "metadata": {},
   "outputs": [
    {
     "ename": "TypeError",
     "evalue": "'numpy.ndarray' object is not callable",
     "output_type": "error",
     "traceback": [
      "\u001b[0;31m---------------------------------------------------------------------------\u001b[0m",
      "\u001b[0;31mTypeError\u001b[0m                                 Traceback (most recent call last)",
      "\u001b[0;32m<ipython-input-118-7d450a00b6ae>\u001b[0m in \u001b[0;36m<module>\u001b[0;34m()\u001b[0m\n\u001b[1;32m      8\u001b[0m                                       \u001b[0mint\u001b[0m\u001b[0;34m(\u001b[0m\u001b[0maf\u001b[0m\u001b[0;34m.\u001b[0m\u001b[0msum\u001b[0m\u001b[0;34m(\u001b[0m\u001b[0medge_reorder\u001b[0m\u001b[0;34m[\u001b[0m\u001b[0melement_tag\u001b[0m\u001b[0;34m,\u001b[0m \u001b[0medge_id\u001b[0m\u001b[0;34m]\u001b[0m\u001b[0;34m)\u001b[0m\u001b[0;34m)\u001b[0m\u001b[0;31m \u001b[0m\u001b[0;31m\\\u001b[0m\u001b[0;34m\u001b[0m\u001b[0m\n\u001b[1;32m      9\u001b[0m                                       * 2:(int(af.sum(edge_reorder[element_tag, edge_id])) \\\n\u001b[0;32m---> 10\u001b[0;31m                                            * 2 + 3)] = edge_nodes(elements, element_tag, edge_id)\n\u001b[0m\u001b[1;32m     11\u001b[0m         \u001b[0;32melse\u001b[0m\u001b[0;34m:\u001b[0m\u001b[0;34m\u001b[0m\u001b[0m\n\u001b[1;32m     12\u001b[0m \u001b[0;31m#             print(edge_nodes(elements, element_tag, edge_id), int(af.sum(edge_reorder[element_tag, edge_id])))\u001b[0m\u001b[0;34m\u001b[0m\u001b[0;34m\u001b[0m\u001b[0m\n",
      "\u001b[0;31mTypeError\u001b[0m: 'numpy.ndarray' object is not callable"
     ]
    }
   ],
   "source": [
    "new_element_edge_ordering = np.zeros(advec_var.elements.shape, dtype = np.int64)\n",
    "\n",
    "for element_tag in np.arange(advec_var.elements.shape[0]):\n",
    "# element_tag = 0\n",
    "    for edge_id in np.arange(4):\n",
    "        if edge_id < 3:\n",
    "            new_element_edge_ordering[element_tag,\n",
    "                                      int(af.sum(edge_reorder[element_tag, edge_id])) \\\n",
    "                                      * 2:(int(af.sum(edge_reorder[element_tag, edge_id])) \\\n",
    "                                           * 2 + 3)] = edge_nodes(elements, element_tag, edge_id)\n",
    "        else:\n",
    "            print(edge_nodes(elements, element_tag, edge_id), int(af.sum(edge_reorder[element_tag, edge_id])))\n",
    "            new_element_edge_ordering[element_tag,\n",
    "                                      int(af.sum(edge_reorder[element_tag, edge_id])) \\\n",
    "                                      * 2:(int(af.sum(edge_reorder[element_tag, edge_id])) \\\n",
    "                                           * 2 + 3)] = edge_nodes(elements, element_tag, edge_id)\n"
   ]
  },
  {
   "cell_type": "code",
   "execution_count": 157,
   "metadata": {},
   "outputs": [
    {
     "name": "stdout",
     "output_type": "stream",
     "text": [
      "0 \t->\t0\t10\t9\t46\t45\t47\t30\t32\t0\t\n",
      "1 \t->\t30\t47\t45\t49\t42\t44\t7\t31\t30\t\n",
      "2 \t->\t9\t11\t1\t34\t33\t51\t45\t46\t9\t\n",
      "3 \t->\t45\t51\t33\t35\t8\t43\t42\t49\t45\t\n",
      "4 \t->\t1\t13\t12\t55\t54\t56\t33\t34\t1\t\n",
      "5 \t->\t33\t56\t54\t58\t36\t37\t8\t35\t33\t\n",
      "6 \t->\t12\t14\t2\t16\t15\t60\t54\t55\t12\t\n",
      "7 \t->\t54\t60\t15\t17\t3\t38\t36\t58\t54\t\n",
      "8 \t->\t36\t38\t3\t19\t18\t64\t63\t65\t36\t\n",
      "9 \t->\t8\t37\t36\t65\t63\t67\t39\t40\t8\t\n",
      "10 \t->\t63\t64\t18\t20\t4\t22\t21\t69\t63\t\n",
      "11 \t->\t39\t67\t63\t69\t21\t23\t5\t41\t39\t\n",
      "12 \t->\t8\t43\t39\t40\t8\t74\t39\t73\t72\t\n",
      "13 \t->\t39\t74\t5\t41\t39\t25\t5\t76\t24\t\n",
      "14 \t->\t42\t44\t72\t73\t42\t78\t72\t29\t27\t\n",
      "15 \t->\t72\t78\t24\t76\t72\t26\t24\t28\t6\t\n",
      "\n"
     ]
    }
   ],
   "source": [
    "print_with_index(new_element_edge_ordering)"
   ]
  },
  {
   "cell_type": "markdown",
   "metadata": {},
   "source": [
    "# Prototype implementation for rearranging the edge nodes for each edge"
   ]
  },
  {
   "cell_type": "code",
   "execution_count": 67,
   "metadata": {},
   "outputs": [
    {
     "name": "stdout",
     "output_type": "stream",
     "text": [
      "[[  0.    42.  ]\n",
      " [  0.25  73.  ]\n",
      " [  0.5   72.  ]]\n",
      "[42 73 72]\n",
      "[39 74 72]\n",
      "[[  0.5   39.  ]\n",
      " [  0.25  40.  ]\n",
      " [  0.     8.  ]]\n",
      "[39 40  8]\n"
     ]
    }
   ],
   "source": [
    "# Rearrange the edge nodes\n",
    "\n",
    "# Rearrange the left edge nodes\n",
    "element_tag_left_edge = edge_nodes(elements,\n",
    "                                   element_tag = 12,\n",
    "                                   edge_id = 0)\n",
    "\n",
    "# Arrange the nodes for left nodes\n",
    "y_nodes = advec_var.nodes[element_tag_left_edge][:, 1]\n",
    "\n",
    "y_nodes_dic_node_tag = np.zeros([y_nodes.shape[0], 2])\n",
    "y_nodes_dic_node_tag[:, 0] = y_nodes\n",
    "y_nodes_dic_node_tag[:, 1] = element_tag_left_edge\n",
    "\n",
    "y_nodes_argsort = np.argsort(y_nodes_dic_node_tag, axis = 0)\n",
    "left_edge_nodes = np.flipud(element_tag_left_edge[y_nodes_argsort[:, 0]])\n",
    "\n",
    "# [LOOKS FINE]\n",
    "\n",
    "# Rearrange the bottom edge nodes.\n",
    "element_tag_bottom_edge = edge_nodes(elements,\n",
    "                                     element_tag = 12,\n",
    "                                     edge_id = 1)\n",
    "\n",
    "# Arrange the nodes for bottom nodes\n",
    "x_nodes = advec_var.nodes[element_tag_bottom_edge][:, 0]\n",
    "\n",
    "x_nodes_dic_node_tag = np.zeros([x_nodes.shape[0], 2])\n",
    "x_nodes_dic_node_tag[:, 0] = x_nodes\n",
    "x_nodes_dic_node_tag[:, 1] = element_tag_bottom_edge\n",
    "\n",
    "print(x_nodes_dic_node_tag)\n",
    "x_nodes_argsort = np.argsort(x_nodes_dic_node_tag, axis = 0)\n",
    "bottom_edge_nodes = element_tag_bottom_edge[x_nodes_argsort[:, 0]]\n",
    "print(bottom_edge_nodes)\n",
    "\n",
    "# [LOOKS FINE]\n",
    "\n",
    "# Rearrange the right edge nodes\n",
    "element_tag_right_edge = edge_nodes(elements,\n",
    "                                    element_tag = 12,\n",
    "                                    edge_id = 2)\n",
    "\n",
    "# Arrange the nodes for right nodes\n",
    "y_nodes = advec_var.nodes[element_tag_right_edge][:, 1]\n",
    "\n",
    "y_nodes_dic_node_tag = np.zeros([y_nodes.shape[0], 2])\n",
    "y_nodes_dic_node_tag[:, 0] = y_nodes\n",
    "y_nodes_dic_node_tag[:, 1] = element_tag_right_edge\n",
    "\n",
    "y_nodes_argsort = np.argsort(y_nodes_dic_node_tag, axis = 0)\n",
    "right_edge_nodes = element_tag_right_edge[y_nodes_argsort[:, 0]]\n",
    "\n",
    "print(right_edge_nodes)\n",
    "# [LOOKS FINE]\n",
    "\n",
    "\n",
    "# Rearrange the top edge nodes.\n",
    "element_tag_top_edge = edge_nodes(elements,\n",
    "                                  element_tag = 12,\n",
    "                                  edge_id = 3)\n",
    "\n",
    "# Arrange the nodes for top nodes\n",
    "x_nodes = advec_var.nodes[element_tag_top_edge][:, 0]\n",
    "\n",
    "x_nodes_dic_node_tag = np.zeros([x_nodes.shape[0], 2])\n",
    "x_nodes_dic_node_tag[:, 0] = x_nodes\n",
    "x_nodes_dic_node_tag[:, 1] = element_tag_top_edge\n",
    "\n",
    "print(x_nodes_dic_node_tag)\n",
    "x_nodes_argsort = np.argsort(x_nodes_dic_node_tag, axis = 0)\n",
    "top_edge_nodes = np.flipud(element_tag_top_edge[x_nodes_argsort[:, 0]])\n",
    "print(top_edge_nodes)\n",
    "\n",
    "# [LOOKS FINE]\n",
    "\n"
   ]
  },
  {
   "cell_type": "markdown",
   "metadata": {},
   "source": [
    "# Writing a formal code for the edge_nodes functions for formal ordering"
   ]
  },
  {
   "cell_type": "code",
   "execution_count": 156,
   "metadata": {},
   "outputs": [],
   "source": [
    "def edge_nodes_reordered(elements, element_tag, edge_id, return_as_edge):\n",
    "    '''\n",
    "    '''\n",
    "    edge_nodes_tag = get_edge_nodes(elements, element_tag, edge_id)\n",
    "    # Left edge case\n",
    "    if return_as_edge == 0:\n",
    "\n",
    "        # Rearrange the left edge nodes\n",
    "        element_tag_left_edge = edge_nodes_tag\n",
    "\n",
    "        # Arrange the nodes for left nodes\n",
    "        y_nodes = advec_var.nodes[element_tag_left_edge][:, 1]\n",
    "\n",
    "        y_nodes_dic_node_tag = np.zeros([y_nodes.shape[0], 2])\n",
    "        y_nodes_dic_node_tag[:, 0] = y_nodes\n",
    "        y_nodes_dic_node_tag[:, 1] = element_tag_left_edge\n",
    "\n",
    "        y_nodes_argsort = np.argsort(y_nodes_dic_node_tag, axis = 0)\n",
    "        left_edge_nodes = np.flipud(element_tag_left_edge[y_nodes_argsort[:, 0]])\n",
    "\n",
    "        edge_nodes_tag = left_edge_nodes\n",
    "    # [LOOKS FINE]\n",
    "\n",
    "    # Bottom edge case\n",
    "    # Bottom edge case\n",
    "    if return_as_edge == 1:\n",
    "        # Rearrange the bottom edge nodes.\n",
    "        element_tag_bottom_edge = edge_nodes_tag\n",
    "\n",
    "        # Arrange the nodes for bottom nodes\n",
    "        x_nodes = advec_var.nodes[element_tag_bottom_edge][:, 0]\n",
    "\n",
    "        x_nodes_dic_node_tag = np.zeros([x_nodes.shape[0], 2])\n",
    "        x_nodes_dic_node_tag[:, 0] = x_nodes\n",
    "        x_nodes_dic_node_tag[:, 1] = element_tag_bottom_edge\n",
    "\n",
    "        x_nodes_argsort = np.argsort(x_nodes_dic_node_tag, axis = 0)\n",
    "        bottom_edge_nodes = element_tag_bottom_edge[x_nodes_argsort[:, 0]]\n",
    "        \n",
    "        edge_nodes_tag = bottom_edge_nodes\n",
    "        # [LOOKS FINE]\n",
    "\n",
    "    # Right edge case\n",
    "    if return_as_edge == 2:\n",
    "        # Rearrange the right edge nodes\n",
    "        element_tag_right_edge = edge_nodes_tag\n",
    "\n",
    "        # Arrange the nodes for right nodes\n",
    "        y_nodes = advec_var.nodes[element_tag_right_edge][:, 1]\n",
    "\n",
    "        y_nodes_dic_node_tag = np.zeros([y_nodes.shape[0], 2])\n",
    "        y_nodes_dic_node_tag[:, 0] = y_nodes\n",
    "        y_nodes_dic_node_tag[:, 1] = element_tag_right_edge\n",
    "\n",
    "        y_nodes_argsort = np.argsort(y_nodes_dic_node_tag, axis = 0)\n",
    "        right_edge_nodes = element_tag_right_edge[y_nodes_argsort[:, 0]]\n",
    "\n",
    "        edge_nodes_tag = right_edge_nodes\n",
    "        # [LOOKS FINE]\n",
    "\n",
    "    # Top edge case\n",
    "    if return_as_edge == 3:\n",
    "        # Rearrange the right edge nodes\n",
    "        element_tag_top_edge = edge_nodes_tag\n",
    "\n",
    "        # Arrange the nodes for top nodes\n",
    "        x_nodes = advec_var.nodes[element_tag_top_edge][:, 0]\n",
    "\n",
    "        x_nodes_dic_node_tag = np.zeros([x_nodes.shape[0], 2])\n",
    "        x_nodes_dic_node_tag[:, 0] = x_nodes\n",
    "        x_nodes_dic_node_tag[:, 1] = element_tag_top_edge\n",
    "\n",
    "        x_nodes_argsort = np.argsort(x_nodes_dic_node_tag, axis = 0)\n",
    "        top_edge_nodes = np.flipud(element_tag_top_edge[x_nodes_argsort[:, 0]])\n",
    "        \n",
    "        edge_nodes_tag = top_edge_nodes\n",
    "        # [LOOKS FINE]\n",
    "\n",
    "    return edge_nodes_tag"
   ]
  },
  {
   "cell_type": "markdown",
   "metadata": {},
   "source": [
    "# Testing edge_nodes_reordered functions\n",
    "- Tested for an element in each of the four parts of the non-contiguous mesh. It works!"
   ]
  },
  {
   "cell_type": "code",
   "execution_count": 136,
   "metadata": {},
   "outputs": [
    {
     "name": "stdout",
     "output_type": "stream",
     "text": [
      "[39 40  8]\n",
      "-> [ 8 40 39]\n",
      "[ 8 40 39]\n"
     ]
    }
   ],
   "source": [
    "elements = advec_var.elements\n",
    "element_tag = 12\n",
    "edge_id = 3\n",
    "return_as_edge = 1\n",
    "\n",
    "print(edge_nodes_reordered(elements, element_tag, edge_id, return_as_edge))"
   ]
  },
  {
   "cell_type": "markdown",
   "metadata": {},
   "source": [
    "# Implement the function to rearrange the edges for every elements"
   ]
  },
  {
   "cell_type": "code",
   "execution_count": 121,
   "metadata": {},
   "outputs": [
    {
     "name": "stdout",
     "output_type": "stream",
     "text": [
      "0 \t->\t0\t1\t2\t3\t\n",
      "1 \t->\t0\t1\t2\t3\t\n",
      "2 \t->\t0\t1\t2\t3\t\n",
      "3 \t->\t0\t1\t2\t3\t\n",
      "4 \t->\t0\t1\t2\t3\t\n",
      "5 \t->\t0\t1\t2\t3\t\n",
      "6 \t->\t0\t1\t2\t3\t\n",
      "7 \t->\t0\t1\t2\t3\t\n",
      "8 \t->\t1\t2\t3\t0\t\n",
      "9 \t->\t1\t2\t3\t0\t\n",
      "10 \t->\t1\t2\t3\t0\t\n",
      "11 \t->\t1\t2\t3\t0\t\n",
      "12 \t->\t0\t3\t2\t1\t\n",
      "13 \t->\t0\t3\t2\t1\t\n",
      "14 \t->\t0\t3\t2\t1\t\n",
      "15 \t->\t0\t3\t2\t1\t\n",
      "\n"
     ]
    }
   ],
   "source": [
    "print_with_index(edge_reorder)"
   ]
  },
  {
   "cell_type": "code",
   "execution_count": 157,
   "metadata": {},
   "outputs": [
    {
     "name": "stdout",
     "output_type": "stream",
     "text": [
      "[[ 0 10  9 46 45 47 30 32  0]\n",
      " [30 47 45 49 42 44  7 31 30]\n",
      " [ 9 11  1 34 33 51 45 46  9]\n",
      " [45 51 33 35  8 43 42 49 45]\n",
      " [ 1 13 12 55 54 56 33 34  1]\n",
      " [33 56 54 58 36 37  8 35 33]\n",
      " [12 14  2 16 15 60 54 55 12]\n",
      " [54 60 15 17  3 38 36 58 54]\n",
      " [36 38  3 19 18 64 63 65 36]\n",
      " [ 8 37 36 65 63 67 39 40  8]\n",
      " [63 64 18 20  4 22 21 69 63]\n",
      " [39 67 63 69 21 23  5 41 39]\n",
      " [42 43  8 40 39 74 72 73 42]\n",
      " [72 74 39 41  5 25 24 76 72]\n",
      " [ 7 44 42 73 72 78 27 29  7]\n",
      " [27 78 72 76 24 26  6 28 27]]\n"
     ]
    }
   ],
   "source": [
    "new_element_edge_ordering = np.zeros(advec_var.elements.shape, dtype = np.int64)\n",
    "\n",
    "for element_tag in np.arange(advec_var.elements.shape[0]):\n",
    "    for edge_id in np.arange(4):\n",
    "        return_as_edge_id = int(af.sum(edge_reorder[element_tag, edge_id]))\n",
    "        new_element_edge_ordering[element_tag, return_as_edge_id * 2:(return_as_edge_id * 2 + 3)] = \\\n",
    "            edge_nodes_reordered(elements, element_tag, edge_id, return_as_edge = af.sum(edge_reorder[element_tag, edge_id]))\n",
    "\n",
    "print(new_element_edge_ordering)"
   ]
  },
  {
   "cell_type": "code",
   "execution_count": 158,
   "metadata": {},
   "outputs": [
    {
     "name": "stderr",
     "output_type": "stream",
     "text": [
      "/home/ubermensch/.local/anaconda3/lib/python3.6/site-packages/matplotlib/cbook/deprecation.py:106: MatplotlibDeprecationWarning: Adding an axes using the same arguments as a previous axes currently reuses the earlier instance.  In a future version, a new instance will always be created and returned.  Meanwhile, this warning can be suppressed, and the future behavior ensured, by passing a unique label to each axes instance.\n",
      "  warnings.warn(message, mplDeprecation, stacklevel=1)\n"
     ]
    },
    {
     "data": {
      "image/png": "[encoded data removed]",
      "text/plain": [
       "<matplotlib.figure.Figure at 0x7f1045c9ed68>"
      ]
     },
     "metadata": {},
     "output_type": "display_data"
    }
   ],
   "source": [
    "axes_handler = plt.axes()\n",
    "\n",
    "\n",
    "msh_parser.plot_mesh_grid(advec_var.nodes, new_element_edge_ordering,\n",
    "                          advec_var.xi_LGL, advec_var.eta_LGL,\n",
    "                          axes_handler, plot_LGL_grid = False,\n",
    "                          print_element_tag = True,\n",
    "                          print_node_tag = True)\n",
    "\n",
    "# plt.title(r'Grid plot of a mesh for $N_{LGL} = 8$.'\n",
    "#           '\\n Red lines are mesh grid, and \\n'\n",
    "#           'blue lines are element boundaries.')\n",
    "plt.title(r'Plot of Mesh. The element tag is shown in red')\n",
    "plt.xlabel(r'$x$')\n",
    "plt.ylabel(r'$y$')\n",
    "\n",
    "plt.xlim(-1.1, 1.1)\n",
    "plt.ylim(-1.1, 1.1)\n",
    "plt.axes().set_aspect('equal')\n",
    "\n",
    "# plt.savefig('square.png')\n",
    "plt.show()"
   ]
  },
  {
   "cell_type": "code",
   "execution_count": null,
   "metadata": {},
   "outputs": [],
   "source": []
  }
 ],
 "metadata": {
  "kernelspec": {
   "display_name": "Python 3",
   "language": "python",
   "name": "python3"
  },
  "language_info": {
   "codemirror_mode": {
    "name": "ipython",
    "version": 3
   },
   "file_extension": ".py",
   "mimetype": "text/x-python",
   "name": "python",
   "nbconvert_exporter": "python",
   "pygments_lexer": "ipython3",
   "version": "3.6.3"
  }
 },
 "nbformat": 4,
 "nbformat_minor": 2
}
