{
 "cells": [
  {
   "cell_type": "code",
   "execution_count": 1,
   "metadata": {},
   "outputs": [
    {
     "name": "stdout",
     "output_type": "stream",
     "text": [
      "gmshtranslator friendly reminder: rules and actions prototypes\n",
      "\n",
      "\n",
      "def node_condition(tag,x,y,z,physgroups): \n",
      "def node_action(tag,x,y,z):\n",
      "def element_condition(eletag,eletype,physgrp,nodes):\n",
      "def element_action(eletag,eletype,physgrp,nodes):\n"
     ]
    }
   ],
   "source": [
    "import os\n",
    "import sys\n",
    "sys.path.insert(0, os.path.abspath('../../'))\n",
    "\n",
    "import numpy as np\n",
    "from matplotlib import pyplot as plt\n",
    "import h5py\n",
    "import arrayfire as af\n",
    "\n",
    "from dg_maxwell import params\n",
    "from dg_maxwell import msh_parser\n",
    "from dg_maxwell import lagrange\n",
    "from dg_maxwell import global_variables as gvar\n",
    "from dg_maxwell import advection_2d_arbit_mesh as a2d_arbit_mesh\n",
    "from dg_maxwell import utils\n",
    "\n",
    "af.set_backend(params.backend)\n",
    "af.set_device(params.device)\n",
    "\n",
    "plt.rcParams['figure.figsize']     = 12, 7.5\n",
    "plt.rcParams['lines.linewidth']    = 1.5\n",
    "plt.rcParams['font.family']        = 'serif'\n",
    "plt.rcParams['font.weight']        = 'bold'\n",
    "plt.rcParams['font.size']          = 20  \n",
    "plt.rcParams['font.sans-serif']    = 'serif'\n",
    "plt.rcParams['text.usetex']        = True\n",
    "plt.rcParams['axes.linewidth']     = 1.5\n",
    "plt.rcParams['axes.titlesize']     = 'medium'\n",
    "plt.rcParams['axes.labelsize']     = 'medium'\n",
    "\n",
    "plt.rcParams['xtick.major.size']   = 8\n",
    "plt.rcParams['xtick.minor.size']   = 4\n",
    "plt.rcParams['xtick.major.pad']    = 8\n",
    "plt.rcParams['xtick.minor.pad']    = 8\n",
    "plt.rcParams['xtick.color']        = 'k'\n",
    "plt.rcParams['xtick.labelsize']    = 'medium'\n",
    "plt.rcParams['xtick.direction']    = 'in'    \n",
    "\n",
    "plt.rcParams['ytick.major.size']   = 8\n",
    "plt.rcParams['ytick.minor.size']   = 4\n",
    "plt.rcParams['ytick.major.pad']    = 8\n",
    "plt.rcParams['ytick.minor.pad']    = 8\n",
    "plt.rcParams['ytick.color']        = 'k'\n",
    "plt.rcParams['ytick.labelsize']    = 'medium'\n",
    "plt.rcParams['ytick.direction']    = 'in'\n",
    "plt.rcParams['text.usetex']        = True\n",
    "plt.rcParams['text.latex.unicode'] = True"
   ]
  },
  {
   "cell_type": "code",
   "execution_count": 2,
   "metadata": {},
   "outputs": [],
   "source": [
    "def print_with_index(datas):\n",
    "    datas = np.array(datas)\n",
    "    for index, row in enumerate(datas):\n",
    "        print(index, '\\t->', end = '\\t')\n",
    "        for data in row:\n",
    "            print(np.round(data, 3), end = '\\t')\n",
    "        print()\n",
    "    print()"
   ]
  },
  {
   "cell_type": "code",
   "execution_count": 3,
   "metadata": {},
   "outputs": [
    {
     "name": "stderr",
     "output_type": "stream",
     "text": [
      "/home/ubermensch/.local/anaconda3/lib/python3.6/site-packages/numpy/lib/polynomial.py:1193: FutureWarning: In the future extra properties will not be copied across when constructing one poly1d from another\n",
      "  other = poly1d(other)\n",
      "/home/ubermensch/.local/anaconda3/lib/python3.6/site-packages/numpy/lib/polynomial.py:1220: FutureWarning: In the future extra properties will not be copied across when constructing one poly1d from another\n",
      "  other = poly1d(other)\n"
     ]
    },
    {
     "name": "stdout",
     "output_type": "stream",
     "text": [
      "gmshTranslator: Initializing...\n",
      "gmshTranslator: Mesh has 441 nodes.\n",
      "gmshTranslator: Mesh has 144 elements.\n",
      "gmshTranslator: Processed 589 lines.\n",
      "gmshTranslator: There are 1 physical groups available: \n",
      "gmshTranslator:      > 0\n",
      "gmshTranslator: Parsing nodes\n",
      "gmshTranslator: Parsing elements\n",
      "gmshTranslator: No rules for elements... skipping elements.\n",
      "gmshTranslator: Parsing nodes\n",
      "gmshTranslator: No rules for nodes... skipping nodes.\n",
      "gmshTranslator: Parsing elements\n",
      "advection_variables __init__ completed\n"
     ]
    }
   ],
   "source": [
    "params.mesh_file = '../read_and_plot_mesh/mesh/square_10_10.msh'\n",
    "advec_var = gvar.advection_variables(params.N_LGL, params.N_quad,\n",
    "                                     params.x_nodes, params.N_Elements,\n",
    "                                     params.c, params.total_time, params.wave,\n",
    "                                     params.c_x, params.c_y, params.courant,\n",
    "                                     params.mesh_file, params.total_time_2d)"
   ]
  },
  {
   "cell_type": "code",
   "execution_count": 4,
   "metadata": {},
   "outputs": [
    {
     "name": "stdout",
     "output_type": "stream",
     "text": [
      "gmshTranslator: Ending\n"
     ]
    },
    {
     "name": "stderr",
     "output_type": "stream",
     "text": [
      "/home/ubermensch/.local/anaconda3/lib/python3.6/site-packages/matplotlib/cbook/deprecation.py:106: MatplotlibDeprecationWarning: Adding an axes using the same arguments as a previous axes currently reuses the earlier instance.  In a future version, a new instance will always be created and returned.  Meanwhile, this warning can be suppressed, and the future behavior ensured, by passing a unique label to each axes instance.\n",
      "  warnings.warn(message, mplDeprecation, stacklevel=1)\n"
     ]
    },
    {
     "data": {
      "image/png": "[encoded data removed]",
      "text/plain": [
       "<matplotlib.figure.Figure at 0x7ffb1810d278>"
      ]
     },
     "metadata": {},
     "output_type": "display_data"
    }
   ],
   "source": [
    "axes_handler = plt.axes()\n",
    "\n",
    "\n",
    "msh_parser.plot_mesh_grid(advec_var.nodes, advec_var.elements,\n",
    "                          advec_var.xi_LGL, advec_var.eta_LGL,\n",
    "                          axes_handler, plot_LGL_grid = False,\n",
    "                          print_element_tag = True,\n",
    "                          print_node_tag = True)\n",
    "\n",
    "# plt.title(r'Grid plot of a mesh for $N_{LGL} = 8$.'\n",
    "#           '\\n Red lines are mesh grid, and \\n'\n",
    "#           'blue lines are element boundaries.')\n",
    "plt.title(r'Plot of Mesh. The element tag is shown in red')\n",
    "plt.xlabel(r'$x$')\n",
    "plt.ylabel(r'$y$')\n",
    "\n",
    "plt.xlim(-1.1, 1.1)\n",
    "plt.ylim(-1.1, 1.1)\n",
    "plt.axes().set_aspect('equal')\n",
    "\n",
    "# plt.savefig('square.png')\n",
    "plt.show()"
   ]
  },
  {
   "cell_type": "markdown",
   "metadata": {},
   "source": [
    "# Prototype to detect an edge of a quadrangle"
   ]
  },
  {
   "cell_type": "code",
   "execution_count": 17,
   "metadata": {},
   "outputs": [],
   "source": [
    "elements = advec_var.elements\n",
    "\n",
    "element_tag = 0\n",
    "\n",
    "x_edge = af.constant(0., d0 = advec_var.elements.shape[0], d1 = params.N_LGL, d2 = 4, dtype = af.Dtype.f64)\n",
    "y_edge = af.constant(0., d0 = advec_var.elements.shape[0], d1 = params.N_LGL, d2 = 4, dtype = af.Dtype.f64)\n",
    "\n",
    "edge_id = 0\n",
    "x_edge[:, :, edge_id] = af.transpose(a2d_arbit_mesh.u_at_edge(advec_var.x_e_ij,\n",
    "                                                              edge_id, advec_var))\n",
    "y_edge[:, :, edge_id] = af.transpose(a2d_arbit_mesh.u_at_edge(advec_var.y_e_ij,\n",
    "                                                              edge_id, advec_var))\n",
    "\n",
    "edge_id = 1\n",
    "x_edge[:, :, edge_id] = af.transpose(a2d_arbit_mesh.u_at_edge(advec_var.x_e_ij,\n",
    "                                                              edge_id, advec_var))\n",
    "y_edge[:, :, edge_id] = af.transpose(a2d_arbit_mesh.u_at_edge(advec_var.y_e_ij,\n",
    "                                                              edge_id, advec_var))\n",
    "\n",
    "\n",
    "edge_id = 2\n",
    "x_edge[:, :, edge_id] = af.transpose(a2d_arbit_mesh.u_at_edge(advec_var.x_e_ij,\n",
    "                                                              edge_id, advec_var))\n",
    "y_edge[:, :, edge_id] = af.transpose(a2d_arbit_mesh.u_at_edge(advec_var.y_e_ij,\n",
    "                                                              edge_id, advec_var))\n",
    "\n",
    "edge_id = 3\n",
    "x_edge[:, :, edge_id] = af.transpose(a2d_arbit_mesh.u_at_edge(advec_var.x_e_ij,\n",
    "                                                              edge_id, advec_var))\n",
    "y_edge[:, :, edge_id] = af.transpose(a2d_arbit_mesh.u_at_edge(advec_var.y_e_ij,\n",
    "                                                              edge_id, advec_var))\n"
   ]
  },
  {
   "cell_type": "code",
   "execution_count": 18,
   "metadata": {},
   "outputs": [],
   "source": [
    "x_edge_c = af.mean(x_edge, dim = 1)\n",
    "y_edge_c = af.mean(y_edge, dim = 1)\n",
    "\n",
    "x_quad_c = af.mean(af.mean(x_edge, dim = 1), dim = 2)\n",
    "y_quad_c = af.mean(af.mean(y_edge, dim = 1), dim = 2)"
   ]
  },
  {
   "cell_type": "code",
   "execution_count": 19,
   "metadata": {},
   "outputs": [],
   "source": [
    "delta_x_edge_c = af.reorder(af.broadcast(utils.add, x_edge_c, -x_quad_c), d0 = 0, d1 = 2, d2 = 1)\n",
    "delta_y_edge_c = af.reorder(af.broadcast(utils.add, y_edge_c, -y_quad_c), d0 = 0, d1 = 2, d2 = 1)"
   ]
  },
  {
   "cell_type": "code",
   "execution_count": 20,
   "metadata": {},
   "outputs": [],
   "source": [
    "delta_xy_complex = np.array(delta_x_edge_c + 1j * delta_y_edge_c)"
   ]
  },
  {
   "cell_type": "code",
   "execution_count": 21,
   "metadata": {},
   "outputs": [
    {
     "name": "stdout",
     "output_type": "stream",
     "text": [
      "arrayfire.Array()\n",
      "Type: double\n",
      "\n",
      "[16 4 1 1]\n",
      "  180.0000   270.0000   360.0000    90.0000 \n",
      "  180.0000   270.0000   360.0000    90.0000 \n",
      "  180.0000   270.0000   360.0000    90.0000 \n",
      "  180.0000   270.0000   360.0000    90.0000 \n",
      "  180.0000   270.0000     0.0000    90.0000 \n",
      "  180.0000   270.0000   360.0000    90.0000 \n",
      "  180.0000   270.0000   360.0000    90.0000 \n",
      "  180.0000   270.0000   360.0000    90.0000 \n",
      "  270.0000   360.0000    90.0000   180.0000 \n",
      "  270.0000   360.0000    90.0000   180.0000 \n",
      "  270.0000   360.0000    90.0000   180.0000 \n",
      "  270.0000   360.0000    90.0000   180.0000 \n",
      "  180.0000    90.0000   360.0000   270.0000 \n",
      "  180.0000    90.0000     0.0000   270.0000 \n",
      "  180.0000    90.0000     0.0000   270.0000 \n",
      "  180.0000    90.0000     0.0000   270.0000 \n",
      "\n",
      "\n"
     ]
    }
   ],
   "source": [
    "edge_angle = af.np_to_af_array(np.angle(delta_xy_complex, deg = True))\n",
    "angle_less_than_zero = af.cast(edge_angle < 0, dtype = af.Dtype.f64)\n",
    "edge_angle = edge_angle + angle_less_than_zero * 360\n",
    "print(edge_angle)"
   ]
  },
  {
   "cell_type": "code",
   "execution_count": 22,
   "metadata": {},
   "outputs": [],
   "source": [
    "# Identifying physical right edges\n",
    "physical_right_edge = (edge_angle >= 315.) * (edge_angle <= 360) + (edge_angle >= 0.) * (edge_angle <= 45)\n",
    "\n",
    "# Identifying physical top edges\n",
    "physical_top_edge = (edge_angle >= 45) * (edge_angle <= 135)\n",
    "\n",
    "# Identifying physical left edges\n",
    "physical_left_edge = (edge_angle >= 135) * (edge_angle <= 225)\n",
    "\n",
    "# Identifying physical left edges\n",
    "physical_bottom_edge = (edge_angle >= 225) * (edge_angle < 315)"
   ]
  },
  {
   "cell_type": "code",
   "execution_count": 23,
   "metadata": {},
   "outputs": [
    {
     "name": "stdout",
     "output_type": "stream",
     "text": [
      "0 \t->\t0\t0\t0\t1\t\n",
      "1 \t->\t0\t0\t0\t1\t\n",
      "2 \t->\t0\t0\t0\t1\t\n",
      "3 \t->\t0\t0\t0\t1\t\n",
      "4 \t->\t0\t0\t0\t1\t\n",
      "5 \t->\t0\t0\t0\t1\t\n",
      "6 \t->\t0\t0\t0\t1\t\n",
      "7 \t->\t0\t0\t0\t1\t\n",
      "8 \t->\t0\t0\t1\t0\t\n",
      "9 \t->\t0\t0\t1\t0\t\n",
      "10 \t->\t0\t0\t1\t0\t\n",
      "11 \t->\t0\t0\t1\t0\t\n",
      "12 \t->\t0\t1\t0\t0\t\n",
      "13 \t->\t0\t1\t0\t0\t\n",
      "14 \t->\t0\t1\t0\t0\t\n",
      "15 \t->\t0\t1\t0\t0\t\n",
      "\n"
     ]
    }
   ],
   "source": [
    "print_with_index(physical_top_edge)"
   ]
  },
  {
   "cell_type": "code",
   "execution_count": 24,
   "metadata": {},
   "outputs": [
    {
     "name": "stdout",
     "output_type": "stream",
     "text": [
      "0 \t->\t0\t1\t2\t3\t\n",
      "1 \t->\t0\t1\t2\t3\t\n",
      "2 \t->\t0\t1\t2\t3\t\n",
      "3 \t->\t0\t1\t2\t3\t\n",
      "4 \t->\t0\t1\t2\t3\t\n",
      "5 \t->\t0\t1\t2\t3\t\n",
      "6 \t->\t0\t1\t2\t3\t\n",
      "7 \t->\t0\t1\t2\t3\t\n",
      "8 \t->\t1\t2\t3\t0\t\n",
      "9 \t->\t1\t2\t3\t0\t\n",
      "10 \t->\t1\t2\t3\t0\t\n",
      "11 \t->\t1\t2\t3\t0\t\n",
      "12 \t->\t0\t3\t2\t1\t\n",
      "13 \t->\t0\t3\t2\t1\t\n",
      "14 \t->\t0\t3\t2\t1\t\n",
      "15 \t->\t0\t3\t2\t1\t\n",
      "\n"
     ]
    }
   ],
   "source": [
    "edge_reorder = physical_left_edge * 1 + physical_bottom_edge * 2 + physical_right_edge * 3 + physical_top_edge * 4 - 1\n",
    "print_with_index(edge_reorder)"
   ]
  },
  {
   "cell_type": "markdown",
   "metadata": {},
   "source": [
    "# Writing the formal code to identify the edges of an element"
   ]
  },
  {
   "cell_type": "code",
   "execution_count": 11,
   "metadata": {},
   "outputs": [],
   "source": [
    "def identify_element_physical_edges(elements, advec_var):\n",
    "    '''\n",
    "    For an element it tdentifies the left, bottom, right,\n",
    "    and top edges physically. It assigns each edge of an\n",
    "    element an id depending on the table shown below.\n",
    "    +-------------+----------------------+\n",
    "    | **Edge**    | **Assigned Edge ID** |\n",
    "    +-------------+----------------------+\n",
    "    | Left Edge   | :math:`0`            |\n",
    "    +-------------+----------------------+\n",
    "    | Bottom Edge | :math:`1`            |\n",
    "    +-------------+----------------------+\n",
    "    | Right Edge  | :math:`2`            |\n",
    "    +-------------+----------------------+\n",
    "    | Top Edge    | :math:`3`            |\n",
    "    +-------------+----------------------+\n",
    "    \n",
    "    Parameters\n",
    "    ----------\n",
    "    elements : np.array([N_elements 9], dtype = np.int)\n",
    "               The element array returned by\n",
    "               :py:meth:`dg_maxwell.msh_parser.read_order_2_msh`.\n",
    "\n",
    "    advec_var : :py:meth:`dg_maxwell.global_variables.advection_variables`\n",
    "\n",
    "    Returns\n",
    "    -------\n",
    "    physical_edge_identity : af.Array([N_elements 4 1 1], dtype = af.Dtype.int64)\n",
    "                             The physical edge id for each edge of each elements.\n",
    "                             See table above.\n",
    "    '''\n",
    "    x_edge = af.constant(0., d0 = advec_var.elements.shape[0], d1 = params.N_LGL, d2 = 4, dtype = af.Dtype.f64)\n",
    "    y_edge = af.constant(0., d0 = advec_var.elements.shape[0], d1 = params.N_LGL, d2 = 4, dtype = af.Dtype.f64)\n",
    "\n",
    "    for edge_id in np.arange(4):\n",
    "        x_edge[:, :, edge_id] = af.transpose(a2d_arbit_mesh.u_at_edge(advec_var.x_e_ij,\n",
    "                                                                      edge_id, advec_var))\n",
    "        y_edge[:, :, edge_id] = af.transpose(a2d_arbit_mesh.u_at_edge(advec_var.y_e_ij,\n",
    "                                                                      edge_id, advec_var))\n",
    "\n",
    "    ###################################################################################\n",
    "    ###################################################################################\n",
    "\n",
    "    x_edge_c = af.mean(x_edge, dim = 1)\n",
    "    y_edge_c = af.mean(y_edge, dim = 1)\n",
    "\n",
    "    x_quad_c = af.mean(af.mean(x_edge, dim = 1), dim = 2)\n",
    "    y_quad_c = af.mean(af.mean(y_edge, dim = 1), dim = 2)\n",
    "\n",
    "    ###################################################################################\n",
    "    ###################################################################################\n",
    "\n",
    "    delta_x_edge_c = af.reorder(af.broadcast(utils.add, x_edge_c, -x_quad_c), d0 = 0, d1 = 2, d2 = 1)\n",
    "    delta_y_edge_c = af.reorder(af.broadcast(utils.add, y_edge_c, -y_quad_c), d0 = 0, d1 = 2, d2 = 1)\n",
    "\n",
    "    ###################################################################################\n",
    "    ###################################################################################\n",
    "\n",
    "    delta_xy_complex = np.array(delta_x_edge_c + 1j * delta_y_edge_c)\n",
    "\n",
    "    ###################################################################################\n",
    "    ###################################################################################\n",
    "\n",
    "    edge_angle = af.np_to_af_array(np.angle(delta_xy_complex, deg = True))\n",
    "    angle_less_than_zero = af.cast(edge_angle < 0, dtype = af.Dtype.f64)\n",
    "    edge_angle = edge_angle + angle_less_than_zero * 360\n",
    "#     print(edge_angle)\n",
    "\n",
    "    ###################################################################################\n",
    "    ###################################################################################\n",
    "\n",
    "    # Identifying physical right edges\n",
    "    physical_right_edge = (edge_angle >= 315.) * (edge_angle <= 360) + (edge_angle >= 0.) * (edge_angle <= 45)\n",
    "\n",
    "    # Identifying physical top edges\n",
    "    physical_top_edge = (edge_angle >= 45) * (edge_angle <= 135)\n",
    "\n",
    "    # Identifying physical left edges\n",
    "    physical_left_edge = (edge_angle >= 135) * (edge_angle <= 225)\n",
    "\n",
    "    # Identifying physical left edges\n",
    "    physical_bottom_edge = (edge_angle >= 225) * (edge_angle < 315)\n",
    "\n",
    "    ###################################################################################\n",
    "    ###################################################################################\n",
    "\n",
    "    physical_edge_identity = physical_left_edge * 1 + physical_bottom_edge * 2 + physical_right_edge * 3 + physical_top_edge * 4 - 1\n",
    "#     print(physical_edge_identity)\n",
    "    \n",
    "    return physical_edge_identity"
   ]
  },
  {
   "cell_type": "markdown",
   "metadata": {},
   "source": [
    "# Testing the identify_element_edge function"
   ]
  },
  {
   "cell_type": "code",
   "execution_count": 9,
   "metadata": {},
   "outputs": [
    {
     "data": {
      "text/plain": [
       "arrayfire.Array()\n",
       "Type: long int\n",
       "Dims: (16, 4)"
      ]
     },
     "execution_count": 9,
     "metadata": {},
     "output_type": "execute_result"
    }
   ],
   "source": [
    "elements = advec_var.elements\n",
    "identify_element_physical_edges(elements, advec_var)"
   ]
  },
  {
   "cell_type": "markdown",
   "metadata": {},
   "source": [
    "# Formal code to get the edge nodes"
   ]
  },
  {
   "cell_type": "code",
   "execution_count": 12,
   "metadata": {},
   "outputs": [],
   "source": [
    "def get_edge_nodes(elements, element_tag, edge_id):\n",
    "    '''\n",
    "    Gives the edge nodes of an element for an edge id.\n",
    "    To find what each edge id represents, see this\n",
    "    :py:meth:`dg_maxwell.msh_parser.edge_location`.\n",
    "    \n",
    "    Parameters\n",
    "    ----------\n",
    "    elements : np.array([N_elements 9], dtype = np.int)\n",
    "               The element array returned by\n",
    "               :py:meth:`dg_maxwell.msh_parser.read_order_2_msh`.\n",
    "\n",
    "    element_tag : unsigned int\n",
    "                  The element tag for which an edge has to be returned.\n",
    "\n",
    "    edge_id : unsigned int\n",
    "              The edge to look for in an element\n",
    "\n",
    "    Return\n",
    "    ------\n",
    "    edge_nodes_tag : np.Array([3], dtype= np.int64)\n",
    "                     The node tag which makes up an edge.\n",
    "    '''\n",
    "    edge_nodes_tag = None\n",
    "    \n",
    "    if edge_id < 3:\n",
    "        edge_nodes_tag =  elements[element_tag, edge_id * 2:(edge_id * 2 + 3)]\n",
    "    else:\n",
    "        edge_nodes_tag = np.append(elements[element_tag, edge_id * 2:(edge_id * 2 + 2)],\n",
    "                                   elements[element_tag, 0])\n",
    "    \n",
    "    return edge_nodes_tag\n",
    "\n"
   ]
  },
  {
   "cell_type": "markdown",
   "metadata": {},
   "source": [
    "# Prototype implementation for rearranging the edge nodes for each edge"
   ]
  },
  {
   "cell_type": "code",
   "execution_count": 6,
   "metadata": {},
   "outputs": [
    {
     "ename": "NameError",
     "evalue": "name 'elements' is not defined",
     "output_type": "error",
     "traceback": [
      "\u001b[0;31m---------------------------------------------------------------------------\u001b[0m",
      "\u001b[0;31mNameError\u001b[0m                                 Traceback (most recent call last)",
      "\u001b[0;32m<ipython-input-6-a013d8c6694a>\u001b[0m in \u001b[0;36m<module>\u001b[0;34m()\u001b[0m\n\u001b[1;32m      2\u001b[0m \u001b[0;34m\u001b[0m\u001b[0m\n\u001b[1;32m      3\u001b[0m \u001b[0;31m# Rearrange the left edge nodes\u001b[0m\u001b[0;34m\u001b[0m\u001b[0;34m\u001b[0m\u001b[0m\n\u001b[0;32m----> 4\u001b[0;31m element_tag_left_edge = get_edge_nodes(elements,\n\u001b[0m\u001b[1;32m      5\u001b[0m                                        \u001b[0melement_tag\u001b[0m \u001b[0;34m=\u001b[0m \u001b[0;36m12\u001b[0m\u001b[0;34m,\u001b[0m\u001b[0;34m\u001b[0m\u001b[0m\n\u001b[1;32m      6\u001b[0m                                        edge_id = 0)\n",
      "\u001b[0;31mNameError\u001b[0m: name 'elements' is not defined"
     ]
    }
   ],
   "source": [
    "# Rearrange the edge nodes\n",
    "\n",
    "# Rearrange the left edge nodes\n",
    "element_tag_left_edge = get_edge_nodes(elements,\n",
    "                                       element_tag = 12,\n",
    "                                       edge_id = 0)\n",
    "\n",
    "# Arrange the nodes for left nodes\n",
    "y_nodes = advec_var.nodes[element_tag_left_edge][:, 1]\n",
    "\n",
    "y_nodes_dic_node_tag = np.zeros([y_nodes.shape[0], 2])\n",
    "y_nodes_dic_node_tag[:, 0] = y_nodes\n",
    "y_nodes_dic_node_tag[:, 1] = element_tag_left_edge\n",
    "\n",
    "y_nodes_argsort = np.argsort(y_nodes_dic_node_tag, axis = 0)\n",
    "left_edge_nodes = np.flipud(element_tag_left_edge[y_nodes_argsort[:, 0]])\n",
    "\n",
    "# [LOOKS FINE]\n",
    "\n",
    "# Rearrange the bottom edge nodes.\n",
    "element_tag_bottom_edge = get_edge_nodes(elements,\n",
    "                                         element_tag = 12,\n",
    "                                         edge_id = 1)\n",
    "\n",
    "# Arrange the nodes for bottom nodes\n",
    "x_nodes = advec_var.nodes[element_tag_bottom_edge][:, 0]\n",
    "\n",
    "x_nodes_dic_node_tag = np.zeros([x_nodes.shape[0], 2])\n",
    "x_nodes_dic_node_tag[:, 0] = x_nodes\n",
    "x_nodes_dic_node_tag[:, 1] = element_tag_bottom_edge\n",
    "\n",
    "print(x_nodes_dic_node_tag)\n",
    "x_nodes_argsort = np.argsort(x_nodes_dic_node_tag, axis = 0)\n",
    "bottom_edge_nodes = element_tag_bottom_edge[x_nodes_argsort[:, 0]]\n",
    "print(bottom_edge_nodes)\n",
    "\n",
    "# [LOOKS FINE]\n",
    "\n",
    "# Rearrange the right edge nodes\n",
    "element_tag_right_edge = get_edge_nodes(elements,\n",
    "                                        element_tag = 12,\n",
    "                                        edge_id = 2)\n",
    "\n",
    "# Arrange the nodes for right nodes\n",
    "y_nodes = advec_var.nodes[element_tag_right_edge][:, 1]\n",
    "\n",
    "y_nodes_dic_node_tag = np.zeros([y_nodes.shape[0], 2])\n",
    "y_nodes_dic_node_tag[:, 0] = y_nodes\n",
    "y_nodes_dic_node_tag[:, 1] = element_tag_right_edge\n",
    "\n",
    "y_nodes_argsort = np.argsort(y_nodes_dic_node_tag, axis = 0)\n",
    "right_edge_nodes = element_tag_right_edge[y_nodes_argsort[:, 0]]\n",
    "\n",
    "print(right_edge_nodes)\n",
    "# [LOOKS FINE]\n",
    "\n",
    "\n",
    "# Rearrange the top edge nodes.\n",
    "element_tag_top_edge = get_edge_nodes(elements,\n",
    "                                      element_tag = 12,\n",
    "                                      edge_id = 3)\n",
    "\n",
    "# Arrange the nodes for top nodes\n",
    "x_nodes = advec_var.nodes[element_tag_top_edge][:, 0]\n",
    "\n",
    "x_nodes_dic_node_tag = np.zeros([x_nodes.shape[0], 2])\n",
    "x_nodes_dic_node_tag[:, 0] = x_nodes\n",
    "x_nodes_dic_node_tag[:, 1] = element_tag_top_edge\n",
    "\n",
    "print(x_nodes_dic_node_tag)\n",
    "x_nodes_argsort = np.argsort(x_nodes_dic_node_tag, axis = 0)\n",
    "top_edge_nodes = np.flipud(element_tag_top_edge[x_nodes_argsort[:, 0]])\n",
    "print(top_edge_nodes)\n",
    "\n",
    "# [LOOKS FINE]\n",
    "\n"
   ]
  },
  {
   "cell_type": "markdown",
   "metadata": {},
   "source": [
    "# Writing a formal code for the edge_nodes functions for formal ordering"
   ]
  },
  {
   "cell_type": "code",
   "execution_count": 13,
   "metadata": {},
   "outputs": [],
   "source": [
    "def edge_nodes_reordered(elements, element_tag, edge_id,\n",
    "                         return_as_edge, advec_var):\n",
    "    '''\n",
    "    Finds the edge nodes of an element and reorders the nodes of an edge\n",
    "    according to the requested ``return_as_edge`` variable.\n",
    "    \n",
    "    Parameters\n",
    "    ----------\n",
    "    elements : np.array([N_elements 9], dtype = np.int)\n",
    "               The element array returned by\n",
    "               :py:meth:`dg_maxwell.msh_parser.read_order_2_msh`.\n",
    "\n",
    "    element_tag : unsigned int\n",
    "                  The element tag for which an edge has to be returned.\n",
    "\n",
    "    edge_id : unsigned int\n",
    "              The edge to look for in an element\n",
    "\n",
    "    return_as_edge : unsigned int\n",
    "                     The edge as which the ``edge_id`` edge\n",
    "                     has to be returned.\n",
    "\n",
    "    advec_var : :py:meth:`dg_maxwell.global_variables.advection_variables`\n",
    "\n",
    "    Returns\n",
    "    -------\n",
    "    edge_nodes_tag : np.Array([3], dtype= np.int64)\n",
    "                     The edge with the rearranged node order.\n",
    "    '''\n",
    "    edge_nodes_tag = get_edge_nodes(elements, element_tag, edge_id)\n",
    "    # Left edge case\n",
    "    if return_as_edge == 0:\n",
    "\n",
    "        # Rearrange the left edge nodes\n",
    "        element_tag_left_edge = edge_nodes_tag\n",
    "\n",
    "        # Arrange the nodes for left nodes\n",
    "        y_nodes = advec_var.nodes[element_tag_left_edge][:, 1]\n",
    "\n",
    "        y_nodes_dic_node_tag = np.zeros([y_nodes.shape[0], 2])\n",
    "        y_nodes_dic_node_tag[:, 0] = y_nodes\n",
    "        y_nodes_dic_node_tag[:, 1] = element_tag_left_edge\n",
    "\n",
    "        y_nodes_argsort = np.argsort(y_nodes_dic_node_tag, axis = 0)\n",
    "        left_edge_nodes = np.flipud(element_tag_left_edge[y_nodes_argsort[:, 0]])\n",
    "\n",
    "        edge_nodes_tag = left_edge_nodes\n",
    "    # [LOOKS FINE]\n",
    "\n",
    "    # Bottom edge case\n",
    "    # Bottom edge case\n",
    "    if return_as_edge == 1:\n",
    "        # Rearrange the bottom edge nodes.\n",
    "        element_tag_bottom_edge = edge_nodes_tag\n",
    "\n",
    "        # Arrange the nodes for bottom nodes\n",
    "        x_nodes = advec_var.nodes[element_tag_bottom_edge][:, 0]\n",
    "\n",
    "        x_nodes_dic_node_tag = np.zeros([x_nodes.shape[0], 2])\n",
    "        x_nodes_dic_node_tag[:, 0] = x_nodes\n",
    "        x_nodes_dic_node_tag[:, 1] = element_tag_bottom_edge\n",
    "\n",
    "        x_nodes_argsort = np.argsort(x_nodes_dic_node_tag, axis = 0)\n",
    "        bottom_edge_nodes = element_tag_bottom_edge[x_nodes_argsort[:, 0]]\n",
    "        \n",
    "        edge_nodes_tag = bottom_edge_nodes\n",
    "        # [LOOKS FINE]\n",
    "\n",
    "    # Right edge case\n",
    "    if return_as_edge == 2:\n",
    "        # Rearrange the right edge nodes\n",
    "        element_tag_right_edge = edge_nodes_tag\n",
    "\n",
    "        # Arrange the nodes for right nodes\n",
    "        y_nodes = advec_var.nodes[element_tag_right_edge][:, 1]\n",
    "\n",
    "        y_nodes_dic_node_tag = np.zeros([y_nodes.shape[0], 2])\n",
    "        y_nodes_dic_node_tag[:, 0] = y_nodes\n",
    "        y_nodes_dic_node_tag[:, 1] = element_tag_right_edge\n",
    "\n",
    "        y_nodes_argsort = np.argsort(y_nodes_dic_node_tag, axis = 0)\n",
    "        right_edge_nodes = element_tag_right_edge[y_nodes_argsort[:, 0]]\n",
    "\n",
    "        edge_nodes_tag = right_edge_nodes\n",
    "        # [LOOKS FINE]\n",
    "\n",
    "    # Top edge case\n",
    "    if return_as_edge == 3:\n",
    "        # Rearrange the right edge nodes\n",
    "        element_tag_top_edge = edge_nodes_tag\n",
    "\n",
    "        # Arrange the nodes for top nodes\n",
    "        x_nodes = advec_var.nodes[element_tag_top_edge][:, 0]\n",
    "\n",
    "        x_nodes_dic_node_tag = np.zeros([x_nodes.shape[0], 2])\n",
    "        x_nodes_dic_node_tag[:, 0] = x_nodes\n",
    "        x_nodes_dic_node_tag[:, 1] = element_tag_top_edge\n",
    "\n",
    "        x_nodes_argsort = np.argsort(x_nodes_dic_node_tag, axis = 0)\n",
    "        top_edge_nodes = np.flipud(element_tag_top_edge[x_nodes_argsort[:, 0]])\n",
    "        \n",
    "        edge_nodes_tag = top_edge_nodes\n",
    "        # [LOOKS FINE]\n",
    "\n",
    "    return edge_nodes_tag"
   ]
  },
  {
   "cell_type": "markdown",
   "metadata": {},
   "source": [
    "# Testing edge_nodes_reordered functions\n",
    "- Tested for an element in each of the four parts of the non-contiguous mesh. It works!"
   ]
  },
  {
   "cell_type": "code",
   "execution_count": 15,
   "metadata": {},
   "outputs": [
    {
     "name": "stdout",
     "output_type": "stream",
     "text": [
      "[ 8 40 39]\n"
     ]
    }
   ],
   "source": [
    "elements = advec_var.elements\n",
    "element_tag = 12\n",
    "edge_id = 3\n",
    "return_as_edge = 1\n",
    "\n",
    "print(edge_nodes_reordered(elements, element_tag, edge_id, return_as_edge))"
   ]
  },
  {
   "cell_type": "markdown",
   "metadata": {},
   "source": [
    "# Implement the function to rearrange the edges for every elements"
   ]
  },
  {
   "cell_type": "code",
   "execution_count": 25,
   "metadata": {},
   "outputs": [
    {
     "name": "stdout",
     "output_type": "stream",
     "text": [
      "0 \t->\t0\t1\t2\t3\t\n",
      "1 \t->\t0\t1\t2\t3\t\n",
      "2 \t->\t0\t1\t2\t3\t\n",
      "3 \t->\t0\t1\t2\t3\t\n",
      "4 \t->\t0\t1\t2\t3\t\n",
      "5 \t->\t0\t1\t2\t3\t\n",
      "6 \t->\t0\t1\t2\t3\t\n",
      "7 \t->\t0\t1\t2\t3\t\n",
      "8 \t->\t1\t2\t3\t0\t\n",
      "9 \t->\t1\t2\t3\t0\t\n",
      "10 \t->\t1\t2\t3\t0\t\n",
      "11 \t->\t1\t2\t3\t0\t\n",
      "12 \t->\t0\t3\t2\t1\t\n",
      "13 \t->\t0\t3\t2\t1\t\n",
      "14 \t->\t0\t3\t2\t1\t\n",
      "15 \t->\t0\t3\t2\t1\t\n",
      "\n"
     ]
    }
   ],
   "source": [
    "print_with_index(edge_reorder)"
   ]
  },
  {
   "cell_type": "code",
   "execution_count": 26,
   "metadata": {},
   "outputs": [
    {
     "name": "stdout",
     "output_type": "stream",
     "text": [
      "0 \t->\t0\t10\t9\t46\t45\t47\t30\t32\t0\t\n",
      "1 \t->\t30\t47\t45\t49\t42\t44\t7\t31\t30\t\n",
      "2 \t->\t9\t11\t1\t34\t33\t51\t45\t46\t9\t\n",
      "3 \t->\t45\t51\t33\t35\t8\t43\t42\t49\t45\t\n",
      "4 \t->\t1\t13\t12\t55\t54\t56\t33\t34\t1\t\n",
      "5 \t->\t33\t56\t54\t58\t36\t37\t8\t35\t33\t\n",
      "6 \t->\t12\t14\t2\t16\t15\t60\t54\t55\t12\t\n",
      "7 \t->\t54\t60\t15\t17\t3\t38\t36\t58\t54\t\n",
      "8 \t->\t36\t38\t3\t19\t18\t64\t63\t65\t36\t\n",
      "9 \t->\t8\t37\t36\t65\t63\t67\t39\t40\t8\t\n",
      "10 \t->\t63\t64\t18\t20\t4\t22\t21\t69\t63\t\n",
      "11 \t->\t39\t67\t63\t69\t21\t23\t5\t41\t39\t\n",
      "12 \t->\t42\t43\t8\t40\t39\t74\t72\t73\t42\t\n",
      "13 \t->\t72\t74\t39\t41\t5\t25\t24\t76\t72\t\n",
      "14 \t->\t7\t44\t42\t73\t72\t78\t27\t29\t7\t\n",
      "15 \t->\t27\t78\t72\t76\t24\t26\t6\t28\t27\t\n",
      "\n"
     ]
    }
   ],
   "source": [
    "new_element_edge_ordering = np.zeros(advec_var.elements.shape, dtype = np.int64)\n",
    "edge_reorder = identify_element_physical_edges(elements, advec_var)\n",
    "\n",
    "for element_tag in np.arange(advec_var.elements.shape[0]):\n",
    "    for edge_id in np.arange(4):\n",
    "        return_as_edge_id = int(af.sum(edge_reorder[element_tag, edge_id]))\n",
    "        new_element_edge_ordering[element_tag, return_as_edge_id * 2:(return_as_edge_id * 2 + 3)] = \\\n",
    "            edge_nodes_reordered(elements, element_tag, edge_id, return_as_edge = af.sum(edge_reorder[element_tag, edge_id]))\n",
    "\n",
    "print_with_index(new_element_edge_ordering)"
   ]
  },
  {
   "cell_type": "code",
   "execution_count": null,
   "metadata": {},
   "outputs": [],
   "source": []
  },
  {
   "cell_type": "markdown",
   "metadata": {},
   "source": [
    "# Write a formal code to get rearrange the element edges"
   ]
  },
  {
   "cell_type": "code",
   "execution_count": 14,
   "metadata": {},
   "outputs": [],
   "source": [
    "def rearrange_element_edges(elements, advec_var):\n",
    "    '''\n",
    "    In a mesh read from mesh parser none of the edge have the sense of the\n",
    "    their physical identity, i.e., they don't know whether they are left,\n",
    "    bottom, right and top edge. This function reads the original mesh and\n",
    "    rearranges the nodes of an element such that the first edge is always\n",
    "    the physically located left edge, second edge is the physically located\n",
    "    bottom edge, third edge is the physically located right edge, and the\n",
    "    fourth edge is the physically located top edge.\n",
    "    \n",
    "    Parameters\n",
    "    ----------\n",
    "    elements : np.array([N_elements 9], dtype = np.int)\n",
    "               The element array returned by\n",
    "               :py:meth:`dg_maxwell.msh_parser.read_order_2_msh`.\n",
    "\n",
    "    advec_var : :py:meth:`dg_maxwell.global_variables.advection_variables`\n",
    "\n",
    "    Returns\n",
    "    -------\n",
    "    new_element_edge_ordering : np.Array(advec_var.elements.shape, dtype = np.int64)\n",
    "                                Elements with reordered edges.\n",
    "    '''\n",
    "    new_element_edge_ordering = np.zeros(advec_var.elements.shape, dtype = np.int64)\n",
    "    edge_reorder = identify_element_physical_edges(elements, advec_var)\n",
    "\n",
    "    for element_tag in np.arange(advec_var.elements.shape[0]):\n",
    "        for edge_id in np.arange(4):\n",
    "            return_as_edge_id = int(af.sum(edge_reorder[element_tag, edge_id]))\n",
    "            new_element_edge_ordering[element_tag, return_as_edge_id * 2:(return_as_edge_id * 2 + 3)] = \\\n",
    "                edge_nodes_reordered(elements, element_tag, edge_id,\n",
    "                                     return_as_edge = af.sum(edge_reorder[element_tag, edge_id]),\n",
    "                                    advec_var = advec_var)\n",
    "    \n",
    "    return new_element_edge_ordering\n"
   ]
  },
  {
   "cell_type": "code",
   "execution_count": 28,
   "metadata": {},
   "outputs": [
    {
     "name": "stderr",
     "output_type": "stream",
     "text": [
      "/home/ubermensch/.local/anaconda3/lib/python3.6/site-packages/matplotlib/cbook/deprecation.py:106: MatplotlibDeprecationWarning: Adding an axes using the same arguments as a previous axes currently reuses the earlier instance.  In a future version, a new instance will always be created and returned.  Meanwhile, this warning can be suppressed, and the future behavior ensured, by passing a unique label to each axes instance.\n",
      "  warnings.warn(message, mplDeprecation, stacklevel=1)\n"
     ]
    },
    {
     "data": {
      "image/png": "[encoded data removed]",
      "text/plain": [
       "<matplotlib.figure.Figure at 0x7f396f553e48>"
      ]
     },
     "metadata": {},
     "output_type": "display_data"
    }
   ],
   "source": [
    "axes_handler = plt.axes()\n",
    "\n",
    "\n",
    "msh_parser.plot_mesh_grid(advec_var.nodes, advec_var.elements,\n",
    "                          advec_var.xi_LGL, advec_var.eta_LGL,\n",
    "                          axes_handler, plot_LGL_grid = False,\n",
    "                          print_element_tag = True,\n",
    "                          print_node_tag = True)\n",
    "\n",
    "# plt.title(r'Grid plot of a mesh for $N_{LGL} = 8$.'\n",
    "#           '\\n Red lines are mesh grid, and \\n'\n",
    "#           'blue lines are element boundaries.')\n",
    "plt.title(r'Plot of Mesh. The element tag is shown in red')\n",
    "plt.xlabel(r'$x$')\n",
    "plt.ylabel(r'$y$')\n",
    "\n",
    "plt.xlim(-1.1, 1.1)\n",
    "plt.ylim(-1.1, 1.1)\n",
    "plt.axes().set_aspect('equal')\n",
    "\n",
    "# plt.savefig('square.png')\n",
    "plt.show()"
   ]
  },
  {
   "cell_type": "code",
   "execution_count": 5,
   "metadata": {},
   "outputs": [
    {
     "name": "stdout",
     "output_type": "stream",
     "text": [
      "0 \t->\t0\t0\t0\t0\t0\t0\t0\t0\t-163\t\n",
      "1 \t->\t0\t0\t0\t0\t0\t0\t0\t0\t-97\t\n",
      "2 \t->\t0\t0\t0\t0\t0\t0\t0\t0\t-101\t\n",
      "3 \t->\t0\t0\t0\t0\t0\t0\t0\t0\t-105\t\n",
      "4 \t->\t0\t0\t0\t0\t0\t0\t0\t0\t-109\t\n",
      "5 \t->\t0\t0\t0\t0\t0\t0\t0\t0\t-113\t\n",
      "6 \t->\t0\t0\t0\t0\t0\t0\t0\t0\t-117\t\n",
      "7 \t->\t0\t0\t0\t0\t0\t0\t0\t0\t-121\t\n",
      "8 \t->\t0\t0\t0\t0\t0\t0\t0\t0\t-125\t\n",
      "9 \t->\t0\t0\t0\t0\t0\t0\t0\t0\t-128\t\n",
      "10 \t->\t0\t0\t0\t0\t0\t0\t0\t0\t-188\t\n",
      "11 \t->\t0\t0\t0\t0\t0\t0\t0\t0\t-115\t\n",
      "12 \t->\t0\t0\t0\t0\t0\t0\t0\t0\t-117\t\n",
      "13 \t->\t0\t0\t0\t0\t0\t0\t0\t0\t-119\t\n",
      "14 \t->\t0\t0\t0\t0\t0\t0\t0\t0\t-121\t\n",
      "15 \t->\t0\t0\t0\t0\t0\t0\t0\t0\t-123\t\n",
      "16 \t->\t0\t0\t0\t0\t0\t0\t0\t0\t-125\t\n",
      "17 \t->\t0\t0\t0\t0\t0\t0\t0\t0\t-127\t\n",
      "18 \t->\t0\t0\t0\t0\t0\t0\t0\t0\t-129\t\n",
      "19 \t->\t0\t0\t0\t0\t0\t0\t0\t0\t-130\t\n",
      "20 \t->\t0\t0\t0\t0\t0\t0\t0\t0\t-216\t\n",
      "21 \t->\t0\t0\t0\t0\t0\t0\t0\t0\t-135\t\n",
      "22 \t->\t0\t0\t0\t0\t0\t0\t0\t0\t-137\t\n",
      "23 \t->\t0\t0\t0\t0\t0\t0\t0\t0\t-139\t\n",
      "24 \t->\t0\t0\t0\t0\t0\t0\t0\t0\t-141\t\n",
      "25 \t->\t0\t0\t0\t0\t0\t0\t0\t0\t-143\t\n",
      "26 \t->\t0\t0\t0\t0\t0\t0\t0\t0\t-145\t\n",
      "27 \t->\t0\t0\t0\t0\t0\t0\t0\t0\t-147\t\n",
      "28 \t->\t0\t0\t0\t0\t0\t0\t0\t0\t-149\t\n",
      "29 \t->\t0\t0\t0\t0\t0\t0\t0\t0\t-150\t\n",
      "30 \t->\t0\t0\t0\t0\t0\t0\t0\t0\t-244\t\n",
      "31 \t->\t0\t0\t0\t0\t0\t0\t0\t0\t-155\t\n",
      "32 \t->\t0\t0\t0\t0\t0\t0\t0\t0\t-157\t\n",
      "33 \t->\t0\t0\t0\t0\t0\t0\t0\t0\t-159\t\n",
      "34 \t->\t0\t0\t0\t0\t0\t0\t0\t0\t-161\t\n",
      "35 \t->\t0\t0\t0\t0\t0\t0\t0\t0\t-163\t\n",
      "36 \t->\t0\t0\t0\t0\t0\t0\t0\t0\t-165\t\n",
      "37 \t->\t0\t0\t0\t0\t0\t0\t0\t0\t-167\t\n",
      "38 \t->\t0\t0\t0\t0\t0\t0\t0\t0\t-169\t\n",
      "39 \t->\t0\t0\t0\t0\t0\t0\t0\t0\t-170\t\n",
      "40 \t->\t0\t0\t0\t0\t0\t0\t0\t0\t-272\t\n",
      "41 \t->\t0\t0\t0\t0\t0\t0\t0\t0\t-175\t\n",
      "42 \t->\t0\t0\t0\t0\t0\t0\t0\t0\t-177\t\n",
      "43 \t->\t0\t0\t0\t0\t0\t0\t0\t0\t-179\t\n",
      "44 \t->\t0\t0\t0\t0\t0\t0\t0\t0\t-181\t\n",
      "45 \t->\t0\t0\t0\t0\t0\t0\t0\t0\t-183\t\n",
      "46 \t->\t0\t0\t0\t0\t0\t0\t0\t0\t-185\t\n",
      "47 \t->\t0\t0\t0\t0\t0\t0\t0\t0\t-187\t\n",
      "48 \t->\t0\t0\t0\t0\t0\t0\t0\t0\t-189\t\n",
      "49 \t->\t0\t0\t0\t0\t0\t0\t0\t0\t-190\t\n",
      "50 \t->\t0\t0\t0\t0\t0\t0\t0\t0\t-300\t\n",
      "51 \t->\t0\t0\t0\t0\t0\t0\t0\t0\t-195\t\n",
      "52 \t->\t0\t0\t0\t0\t0\t0\t0\t0\t-197\t\n",
      "53 \t->\t0\t0\t0\t0\t0\t0\t0\t0\t-199\t\n",
      "54 \t->\t0\t0\t0\t0\t0\t0\t0\t0\t-201\t\n",
      "55 \t->\t0\t0\t0\t0\t0\t0\t0\t0\t-203\t\n",
      "56 \t->\t0\t0\t0\t0\t0\t0\t0\t0\t-205\t\n",
      "57 \t->\t0\t0\t0\t0\t0\t0\t0\t0\t-207\t\n",
      "58 \t->\t0\t0\t0\t0\t0\t0\t0\t0\t-209\t\n",
      "59 \t->\t0\t0\t0\t0\t0\t0\t0\t0\t-210\t\n",
      "60 \t->\t0\t0\t0\t0\t0\t0\t0\t0\t-328\t\n",
      "61 \t->\t0\t0\t0\t0\t0\t0\t0\t0\t-215\t\n",
      "62 \t->\t0\t0\t0\t0\t0\t0\t0\t0\t-217\t\n",
      "63 \t->\t0\t0\t0\t0\t0\t0\t0\t0\t-219\t\n",
      "64 \t->\t0\t0\t0\t0\t0\t0\t0\t0\t-221\t\n",
      "65 \t->\t0\t0\t0\t0\t0\t0\t0\t0\t-223\t\n",
      "66 \t->\t0\t0\t0\t0\t0\t0\t0\t0\t-225\t\n",
      "67 \t->\t0\t0\t0\t0\t0\t0\t0\t0\t-227\t\n",
      "68 \t->\t0\t0\t0\t0\t0\t0\t0\t0\t-229\t\n",
      "69 \t->\t0\t0\t0\t0\t0\t0\t0\t0\t-230\t\n",
      "70 \t->\t0\t0\t0\t0\t0\t0\t0\t0\t-356\t\n",
      "71 \t->\t0\t0\t0\t0\t0\t0\t0\t0\t-235\t\n",
      "72 \t->\t0\t0\t0\t0\t0\t0\t0\t0\t-237\t\n",
      "73 \t->\t0\t0\t0\t0\t0\t0\t0\t0\t-239\t\n",
      "74 \t->\t0\t0\t0\t0\t0\t0\t0\t0\t-241\t\n",
      "75 \t->\t0\t0\t0\t0\t0\t0\t0\t0\t-243\t\n",
      "76 \t->\t0\t0\t0\t0\t0\t0\t0\t0\t-245\t\n",
      "77 \t->\t0\t0\t0\t0\t0\t0\t0\t0\t-247\t\n",
      "78 \t->\t0\t0\t0\t0\t0\t0\t0\t0\t-249\t\n",
      "79 \t->\t0\t0\t0\t0\t0\t0\t0\t0\t-250\t\n",
      "80 \t->\t0\t0\t0\t0\t0\t0\t0\t0\t-384\t\n",
      "81 \t->\t0\t0\t0\t0\t0\t0\t0\t0\t-255\t\n",
      "82 \t->\t0\t0\t0\t0\t0\t0\t0\t0\t-257\t\n",
      "83 \t->\t0\t0\t0\t0\t0\t0\t0\t0\t-259\t\n",
      "84 \t->\t0\t0\t0\t0\t0\t0\t0\t0\t-261\t\n",
      "85 \t->\t0\t0\t0\t0\t0\t0\t0\t0\t-263\t\n",
      "86 \t->\t0\t0\t0\t0\t0\t0\t0\t0\t-265\t\n",
      "87 \t->\t0\t0\t0\t0\t0\t0\t0\t0\t-267\t\n",
      "88 \t->\t0\t0\t0\t0\t0\t0\t0\t0\t-269\t\n",
      "89 \t->\t0\t0\t0\t0\t0\t0\t0\t0\t-270\t\n",
      "90 \t->\t0\t0\t0\t0\t0\t0\t0\t0\t-411\t\n",
      "91 \t->\t0\t0\t0\t0\t0\t0\t0\t0\t-273\t\n",
      "92 \t->\t0\t0\t0\t0\t0\t0\t0\t0\t-274\t\n",
      "93 \t->\t0\t0\t0\t0\t0\t0\t0\t0\t-275\t\n",
      "94 \t->\t0\t0\t0\t0\t0\t0\t0\t0\t-276\t\n",
      "95 \t->\t0\t0\t0\t0\t0\t0\t0\t0\t-277\t\n",
      "96 \t->\t0\t0\t0\t0\t0\t0\t0\t0\t-278\t\n",
      "97 \t->\t0\t0\t0\t0\t0\t0\t0\t0\t-279\t\n",
      "98 \t->\t0\t0\t0\t0\t0\t0\t0\t0\t-280\t\n",
      "99 \t->\t0\t0\t0\t0\t0\t0\t0\t0\t-280\t\n",
      "\n"
     ]
    }
   ],
   "source": [
    "print_with_index(msh_parser.rearrange_element_edges(advec_var.elements, advec_var) - advec_var.elements)"
   ]
  },
  {
   "cell_type": "code",
   "execution_count": null,
   "metadata": {},
   "outputs": [],
   "source": []
  }
 ],
 "metadata": {
  "kernelspec": {
   "display_name": "Python 3",
   "language": "python",
   "name": "python3"
  },
  "language_info": {
   "codemirror_mode": {
    "name": "ipython",
    "version": 3
   },
   "file_extension": ".py",
   "mimetype": "text/x-python",
   "name": "python",
   "nbconvert_exporter": "python",
   "pygments_lexer": "ipython3",
   "version": "3.6.3"
  }
 },
 "nbformat": 4,
 "nbformat_minor": 2
}
