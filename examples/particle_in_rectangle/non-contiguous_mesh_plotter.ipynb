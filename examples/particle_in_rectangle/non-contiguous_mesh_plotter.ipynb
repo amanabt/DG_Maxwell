{
 "cells": [
  {
   "cell_type": "code",
   "execution_count": 1,
   "metadata": {},
   "outputs": [
    {
     "name": "stdout",
     "output_type": "stream",
     "text": [
      "gmshtranslator friendly reminder: rules and actions prototypes\n",
      "\n",
      "\n",
      "def node_condition(tag,x,y,z,physgroups): \n",
      "def node_action(tag,x,y,z):\n",
      "def element_condition(eletag,eletype,physgrp,nodes):\n",
      "def element_action(eletag,eletype,physgrp,nodes):\n"
     ]
    }
   ],
   "source": [
    "import os\n",
    "import sys\n",
    "sys.path.insert(0, os.path.abspath('../../'))\n",
    "\n",
    "import numpy as np\n",
    "import arrayfire as af\n",
    "from matplotlib import pyplot as plt\n",
    "import h5py\n",
    "\n",
    "from dg_maxwell import params\n",
    "from dg_maxwell import msh_parser\n",
    "from dg_maxwell import advection_2d\n",
    "from dg_maxwell import global_variables as gvar\n",
    "from dg_maxwell import utils\n",
    "from dg_maxwell import wave_equation_2d\n",
    "from dg_maxwell import isoparam\n",
    "from dg_maxwell import lagrange\n",
    "from dg_maxwell import advection_2d_arbit_mesh as a2d_arbit_mesh\n",
    "\n",
    "af.set_backend(params.backend)\n",
    "af.set_device(params.device)\n",
    "\n",
    "plt.rcParams['figure.figsize']     = 12, 7.5\n",
    "plt.rcParams['lines.linewidth']    = 1.5\n",
    "plt.rcParams['font.family']        = 'serif'\n",
    "plt.rcParams['font.weight']        = 'bold'\n",
    "plt.rcParams['font.size']          = 20  \n",
    "plt.rcParams['font.sans-serif']    = 'serif'\n",
    "plt.rcParams['text.usetex']        = True\n",
    "plt.rcParams['axes.linewidth']     = 1.5\n",
    "plt.rcParams['axes.titlesize']     = 'medium'\n",
    "plt.rcParams['axes.labelsize']     = 'medium'\n",
    "\n",
    "plt.rcParams['xtick.major.size']   = 8\n",
    "plt.rcParams['xtick.minor.size']   = 4\n",
    "plt.rcParams['xtick.major.pad']    = 8\n",
    "plt.rcParams['xtick.minor.pad']    = 8\n",
    "plt.rcParams['xtick.color']        = 'k'\n",
    "plt.rcParams['xtick.labelsize']    = 'medium'\n",
    "plt.rcParams['xtick.direction']    = 'in'    \n",
    "\n",
    "plt.rcParams['ytick.major.size']   = 8\n",
    "plt.rcParams['ytick.minor.size']   = 4\n",
    "plt.rcParams['ytick.major.pad']    = 8\n",
    "plt.rcParams['ytick.minor.pad']    = 8\n",
    "plt.rcParams['ytick.color']        = 'k'\n",
    "plt.rcParams['ytick.labelsize']    = 'medium'\n",
    "plt.rcParams['ytick.direction']    = 'in'\n",
    "plt.rcParams['text.usetex']        = True\n",
    "plt.rcParams['text.latex.unicode'] = True"
   ]
  },
  {
   "cell_type": "code",
   "execution_count": 2,
   "metadata": {},
   "outputs": [
    {
     "name": "stdout",
     "output_type": "stream",
     "text": [
      "gmshTranslator: Initializing...\n",
      "gmshTranslator: Mesh has 441 nodes.\n",
      "gmshTranslator: Mesh has 169 elements.\n",
      "gmshTranslator: Processed 614 lines.\n",
      "gmshTranslator: There are 1 physical groups available: \n",
      "gmshTranslator:      > 0\n",
      "gmshTranslator: Parsing nodes\n",
      "gmshTranslator: Parsing elements\n",
      "gmshTranslator: No rules for elements... skipping elements.\n",
      "gmshTranslator: Parsing nodes\n",
      "gmshTranslator: No rules for nodes... skipping nodes.\n",
      "gmshTranslator: Parsing elements\n"
     ]
    },
    {
     "name": "stderr",
     "output_type": "stream",
     "text": [
      "/home/ubermensch/.local/anaconda3/lib/python3.6/site-packages/numpy/lib/polynomial.py:1193: FutureWarning: In the future extra properties will not be copied across when constructing one poly1d from another\n",
      "  other = poly1d(other)\n",
      "/home/ubermensch/.local/anaconda3/lib/python3.6/site-packages/numpy/lib/polynomial.py:1220: FutureWarning: In the future extra properties will not be copied across when constructing one poly1d from another\n",
      "  other = poly1d(other)\n"
     ]
    },
    {
     "name": "stdout",
     "output_type": "stream",
     "text": [
      "advection_variables __init__ completed\n",
      "arrayfire.Array()\n",
      "Type: int\n",
      "\n",
      "[100 4 1 1]\n",
      "        99          5          1         45 \n",
      "         0          6          2         46 \n",
      "         1          7          3         47 \n",
      "         2          8          4         48 \n",
      "         3          9         95         49 \n",
      "        94         10          6          0 \n",
      "         5         11          7          1 \n",
      "         6         12          8          2 \n",
      "         7         13          9          3 \n",
      "         8         14         90          4 \n",
      "        89         15         11          5 \n",
      "        10         16         12          6 \n",
      "        11         17         13          7 \n",
      "        12         18         14          8 \n",
      "        13         19         85          9 \n",
      "        84         20         16         10 \n",
      "        15         21         17         11 \n",
      "        16         22         18         12 \n",
      "        17         23         19         13 \n",
      "        18         24         80         14 \n",
      "        79         25         21         15 \n",
      "        20         26         22         16 \n",
      "        21         27         23         17 \n",
      "        22         28         24         18 \n",
      "        23         29         75         19 \n",
      "        74         30         26         20 \n",
      "        25         31         27         21 \n",
      "        26         32         28         22 \n",
      "        27         33         29         23 \n",
      "        28         34         54         24 \n",
      "        73         35         31         25 \n",
      "        30         36         32         26 \n",
      "        31         37         33         27 \n",
      "        32         38         34         28 \n",
      "        33         39         53         29 \n",
      "        72         40         36         30 \n",
      "        35         41         37         31 \n",
      "        36         42         38         32 \n",
      "        37         43         39         33 \n",
      "        38         44         52         34 \n",
      "        71         45         41         35 \n",
      "        40         46         42         36 \n",
      "        41         47         43         37 \n",
      "        42         48         44         38 \n",
      "        43         49         51         39 \n",
      "        70          0         46         40 \n",
      "        45          1         47         41 \n",
      "        46          2         48         42 \n",
      "        47          3         49         43 \n",
      "        48          4         50         44 \n",
      "        49         95         55         51 \n",
      "        44         50         56         52 \n",
      "        39         51         57         53 \n",
      "        34         52         58         54 \n",
      "        29         53         59         75 \n",
      "        50         96         60         56 \n",
      "        51         55         61         57 \n",
      "        52         56         62         58 \n",
      "        53         57         63         59 \n",
      "        54         58         64         76 \n",
      "        55         97         65         61 \n",
      "        56         60         66         62 \n",
      "        57         61         67         63 \n",
      "        58         62         68         64 \n",
      "        59         63         69         77 \n",
      "        60         98         70         66 \n",
      "        61         65         71         67 \n",
      "        62         66         72         68 \n",
      "        63         67         73         69 \n",
      "        64         68         74         78 \n",
      "        65         99         45         71 \n",
      "        66         70         40         72 \n",
      "        67         71         35         73 \n",
      "        68         72         30         74 \n",
      "        69         73         25         79 \n",
      "        24         54         76         80 \n",
      "        75         59         77         81 \n",
      "        76         64         78         82 \n",
      "        77         69         79         83 \n",
      "        78         74         20         84 \n",
      "        19         75         81         85 \n",
      "        80         76         82         86 \n",
      "        81         77         83         87 \n",
      "        82         78         84         88 \n",
      "        83         79         15         89 \n",
      "        14         80         86         90 \n",
      "        85         81         87         91 \n",
      "        86         82         88         92 \n",
      "        87         83         89         93 \n",
      "        88         84         10         94 \n",
      "         9         85         91         95 \n",
      "        90         86         92         96 \n",
      "        91         87         93         97 \n",
      "        92         88         94         98 \n",
      "        93         89          5         99 \n",
      "         4         90         96         50 \n",
      "        95         91         97         55 \n",
      "        96         92         98         60 \n",
      "        97         93         99         65 \n",
      "        98         94          0         70 \n",
      "\n",
      "\n"
     ]
    }
   ],
   "source": [
    "params.mesh_file = '../read_and_plot_mesh/mesh/square_mesh_4_parts.msh'\n",
    "advec_var = gvar.advection_variables(params.N_LGL, params.N_quad,\n",
    "                                     params.x_nodes, params.N_Elements,\n",
    "                                     params.c, params.total_time, params.wave,\n",
    "                                     params.c_x, params.c_y, params.courant,\n",
    "                                     params.mesh_file, params.total_time_2d)\n",
    "\n",
    "edge_reorded_mesh = msh_parser.rearrange_element_edges(advec_var.elements, advec_var)\n",
    "advec_var.reassign_2d_elements(edge_reorded_mesh)"
   ]
  },
  {
   "cell_type": "code",
   "execution_count": null,
   "metadata": {},
   "outputs": [],
   "source": []
  },
  {
   "cell_type": "code",
   "execution_count": 15,
   "metadata": {},
   "outputs": [],
   "source": [
    "# for i in np.arange():\n",
    "index = 1400\n",
    "h5py_data = h5py.File('../../results/2d_hdf5_%02d/dump_timestep_%06d' %(int(params.N_LGL), int(1 * index)) + '.hdf5', 'r')\n",
    "u_LGL     = af.np_to_af_array(h5py_data['u_i'][:])\n",
    "#     contour_2d(u_LGL, i)\n"
   ]
  },
  {
   "cell_type": "code",
   "execution_count": 5,
   "metadata": {},
   "outputs": [
    {
     "name": "stderr",
     "output_type": "stream",
     "text": [
      "/home/ubermensch/.local/anaconda3/lib/python3.6/site-packages/matplotlib/cbook/deprecation.py:106: MatplotlibDeprecationWarning: Adding an axes using the same arguments as a previous axes currently reuses the earlier instance.  In a future version, a new instance will always be created and returned.  Meanwhile, this warning can be suppressed, and the future behavior ensured, by passing a unique label to each axes instance.\n",
      "  warnings.warn(message, mplDeprecation, stacklevel=1)\n"
     ]
    },
    {
     "data": {
      "image/png": "[encoded data removed]",
      "text/plain": [
       "<matplotlib.figure.Figure at 0x7f04212f0cf8>"
      ]
     },
     "metadata": {},
     "output_type": "display_data"
    }
   ],
   "source": [
    "axes_handler = plt.axes()\n",
    "\n",
    "\n",
    "msh_parser.plot_mesh_grid(advec_var.nodes, advec_var.elements,\n",
    "                          advec_var.xi_LGL, advec_var.eta_LGL,\n",
    "                          axes_handler, plot_LGL_grid = False,\n",
    "                          print_element_tag = True,\n",
    "                          print_node_tag = False)\n",
    "\n",
    "# plt.title(r'Grid plot of a mesh for $N_{LGL} = 8$.'\n",
    "#           '\\n Red lines are mesh grid, and \\n'\n",
    "#           'blue lines are element boundaries.')\n",
    "plt.title(r'Plot of Mesh. The element tag is shown in red')\n",
    "plt.xlabel(r'$x$')\n",
    "plt.ylabel(r'$y$')\n",
    "\n",
    "plt.xlim(-1.1, 1.1)\n",
    "plt.ylim(-1.1, 1.1)\n",
    "plt.axes().set_aspect('equal')\n",
    "\n",
    "plt.savefig('square.png')\n",
    "plt.show()"
   ]
  },
  {
   "cell_type": "code",
   "execution_count": 14,
   "metadata": {},
   "outputs": [
    {
     "name": "stdout",
     "output_type": "stream",
     "text": [
      "arrayfire.Array()\n",
      "Type: double\n",
      "\n",
      "[8 8 1 1]\n",
      "    0.7788     0.7780     0.7707     0.7490     0.7108     0.6647     0.6257     0.6065 \n",
      "    0.7534     0.7527     0.7456     0.7246     0.6876     0.6431     0.6053     0.5868 \n",
      "    0.6959     0.6952     0.6887     0.6693     0.6351     0.5940     0.5591     0.5420 \n",
      "    0.6146     0.6140     0.6082     0.5911     0.5609     0.5246     0.4938     0.4787 \n",
      "    0.5253     0.5248     0.5199     0.5052     0.4794     0.4484     0.4220     0.4091 \n",
      "    0.4465     0.4461     0.4419     0.4294     0.4075     0.3811     0.3587     0.3478 \n",
      "    0.3918     0.3914     0.3878     0.3768     0.3576     0.3345     0.3148     0.3052 \n",
      "    0.3679     0.3675     0.3641     0.3538     0.3357     0.3140     0.2955     0.2865 \n",
      "\n",
      "\n"
     ]
    }
   ],
   "source": [
    "print(contour(u_LGL, 80, advec_var)[2])"
   ]
  },
  {
   "cell_type": "code",
   "execution_count": 4,
   "metadata": {},
   "outputs": [],
   "source": [
    "def contour(u_e_ij, element_tag, advec_var):\n",
    "    '''\n",
    "    '''\n",
    "    x_mesh = af.moddims(advec_var.x_e_ij[:, element_tag], d0 = params.N_LGL, d1 = params.N_LGL)\n",
    "    y_mesh = af.moddims(advec_var.y_e_ij[:, element_tag], d0 = params.N_LGL, d1 = params.N_LGL)\n",
    "    u_mesh = af.moddims(u_e_ij[:, element_tag], d0 = params.N_LGL, d1 = params.N_LGL)\n",
    "    \n",
    "    return (x_mesh, y_mesh, u_mesh)"
   ]
  },
  {
   "cell_type": "code",
   "execution_count": null,
   "metadata": {},
   "outputs": [
    {
     "name": "stdout",
     "output_type": "stream",
     "text": [
      "0\n",
      "1\n",
      "2\n",
      "3\n",
      "4\n",
      "5\n",
      "6\n",
      "7\n",
      "8\n",
      "9\n",
      "10\n",
      "11\n",
      "12\n",
      "13\n",
      "14\n",
      "15\n",
      "16\n",
      "17\n",
      "18\n"
     ]
    }
   ],
   "source": [
    "color_levels = np.linspace(0, 1, 100)\n",
    "\n",
    "for index in np.arange(1400):\n",
    "    print(index)\n",
    "    h5py_data = h5py.File('../../results/2d_hdf5_%02d/dump_timestep_%06d' %(int(params.N_LGL), int(20 * index)) + '.hdf5', 'r')\n",
    "    u_LGL     = af.np_to_af_array(h5py_data['u_i'][:])\n",
    "\n",
    "    fig = plt.figure()\n",
    "\n",
    "    for element_tag in np.arange(advec_var.elements.shape[0]):\n",
    "        x_contour, y_contour, u_contour = contour(u_LGL, element_tag, advec_var)\n",
    "        plt.contourf(np.array(x_contour), np.array(y_contour), np.array(u_contour),\n",
    "                     200, levels = color_levels, cmap = 'jet')\n",
    "\n",
    "    plt.gca().set_aspect('equal')\n",
    "    plt.colorbar()\n",
    "    plt.title(r'$t_n$ = %f' % (index * advec_var.delta_t_2d))\n",
    "    fig.savefig('../../results/2D_Wave_images/%04d' %(index) + '.png', dpi = 100)\n",
    "#     plt.show()\n",
    "    plt.close('all')"
   ]
  },
  {
   "cell_type": "code",
   "execution_count": null,
   "metadata": {},
   "outputs": [],
   "source": []
  }
 ],
 "metadata": {
  "kernelspec": {
   "display_name": "Python 3",
   "language": "python",
   "name": "python3"
  },
  "language_info": {
   "codemirror_mode": {
    "name": "ipython",
    "version": 3
   },
   "file_extension": ".py",
   "mimetype": "text/x-python",
   "name": "python",
   "nbconvert_exporter": "python",
   "pygments_lexer": "ipython3",
   "version": "3.6.3"
  }
 },
 "nbformat": 4,
 "nbformat_minor": 2
}
