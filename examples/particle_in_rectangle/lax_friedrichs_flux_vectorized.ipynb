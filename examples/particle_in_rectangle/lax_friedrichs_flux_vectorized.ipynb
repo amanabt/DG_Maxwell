{
 "cells": [
  {
   "cell_type": "code",
   "execution_count": 2,
   "metadata": {},
   "outputs": [],
   "source": [
    "import os\n",
    "import sys\n",
    "sys.path.insert(0, os.path.abspath('../../'))\n",
    "\n",
    "import numpy as np\n",
    "import arrayfire as af\n",
    "from matplotlib import pyplot as plt\n",
    "\n",
    "from dg_maxwell import params\n",
    "from dg_maxwell import msh_parser\n",
    "from dg_maxwell import advection_2d\n",
    "from dg_maxwell import global_variables as gvar\n",
    "from dg_maxwell import utils\n",
    "from dg_maxwell import wave_equation_2d as w2d\n",
    "from dg_maxwell import isoparam\n",
    "from dg_maxwell import lagrange\n",
    "from dg_maxwell import advection_2d_arbit_mesh as a2d_arbit_mesh\n",
    "\n",
    "af.set_backend(params.backend)\n",
    "af.set_device(params.device)\n",
    "\n",
    "plt.rcParams['figure.figsize']     = 12, 7.5\n",
    "plt.rcParams['lines.linewidth']    = 1.5\n",
    "plt.rcParams['font.family']        = 'serif'\n",
    "plt.rcParams['font.weight']        = 'bold'\n",
    "plt.rcParams['font.size']          = 20  \n",
    "plt.rcParams['font.sans-serif']    = 'serif'\n",
    "plt.rcParams['text.usetex']        = True\n",
    "plt.rcParams['axes.linewidth']     = 1.5\n",
    "plt.rcParams['axes.titlesize']     = 'medium'\n",
    "plt.rcParams['axes.labelsize']     = 'medium'\n",
    "\n",
    "plt.rcParams['xtick.major.size']   = 8\n",
    "plt.rcParams['xtick.minor.size']   = 4\n",
    "plt.rcParams['xtick.major.pad']    = 8\n",
    "plt.rcParams['xtick.minor.pad']    = 8\n",
    "plt.rcParams['xtick.color']        = 'k'\n",
    "plt.rcParams['xtick.labelsize']    = 'medium'\n",
    "plt.rcParams['xtick.direction']    = 'in'    \n",
    "\n",
    "plt.rcParams['ytick.major.size']   = 8\n",
    "plt.rcParams['ytick.minor.size']   = 4\n",
    "plt.rcParams['ytick.major.pad']    = 8\n",
    "plt.rcParams['ytick.minor.pad']    = 8\n",
    "plt.rcParams['ytick.color']        = 'k'\n",
    "plt.rcParams['ytick.labelsize']    = 'medium'\n",
    "plt.rcParams['ytick.direction']    = 'in'\n",
    "plt.rcParams['text.usetex']        = True\n",
    "plt.rcParams['text.latex.unicode'] = True"
   ]
  },
  {
   "cell_type": "code",
   "execution_count": 3,
   "metadata": {},
   "outputs": [
    {
     "name": "stderr",
     "output_type": "stream",
     "text": [
      "/home/ubermensch/.local/anaconda3/lib/python3.6/site-packages/numpy/lib/polynomial.py:1193: FutureWarning: In the future extra properties will not be copied across when constructing one poly1d from another\n",
      "  other = poly1d(other)\n",
      "/home/ubermensch/.local/anaconda3/lib/python3.6/site-packages/numpy/lib/polynomial.py:1220: FutureWarning: In the future extra properties will not be copied across when constructing one poly1d from another\n",
      "  other = poly1d(other)\n"
     ]
    },
    {
     "name": "stdout",
     "output_type": "stream",
     "text": [
      "gmshTranslator: Initializing...\n",
      "gmshTranslator: Mesh has 988 nodes.\n",
      "gmshTranslator: Mesh has 374 elements.\n",
      "gmshTranslator: Processed 1366 lines.\n",
      "gmshTranslator: There are 1 physical groups available: \n",
      "gmshTranslator:      > 0\n",
      "gmshTranslator: Parsing nodes\n",
      "gmshTranslator: Parsing elements\n",
      "gmshTranslator: No rules for elements... skipping elements.\n",
      "gmshTranslator: Parsing nodes\n",
      "gmshTranslator: No rules for nodes... skipping nodes.\n",
      "gmshTranslator: Parsing elements\n",
      "advection_variables __init__ completed\n"
     ]
    }
   ],
   "source": [
    "params.mesh_file = '../read_and_plot_mesh/mesh/particle_in_rectangle.msh'\n",
    "advec_var = gvar.advection_variables(params.N_LGL, params.N_quad,\n",
    "                                     params.x_nodes, params.N_Elements,\n",
    "                                     params.c, params.total_time, params.wave,\n",
    "                                     params.c_x, params.c_y, params.courant,\n",
    "                                     params.mesh_file, params.total_time_2d)"
   ]
  },
  {
   "cell_type": "markdown",
   "metadata": {},
   "source": [
    "# Vectorise the Lax-Friedrichs flux"
   ]
  },
  {
   "cell_type": "code",
   "execution_count": 8,
   "metadata": {},
   "outputs": [
    {
     "name": "stdout",
     "output_type": "stream",
     "text": [
      "Element 59 Tag at edge 2 = -1\n",
      "Element 114 Tag at edge 1 = -1\n",
      "Element 165 Tag at edge 0 = -1\n",
      "Element 229 Tag at edge 1 = -1\n",
      "Done\n"
     ]
    }
   ],
   "source": [
    "element_lf_flux = af.np_to_af_array(np.zeros([advec_var.elements.shape[0],\n",
    "                                              4, params.N_LGL]))\n",
    "\n",
    "for element_0_tag in np.arange(advec_var.u_e_ij.shape[1]):\n",
    "    for element_0_edge_id, element_1_tag in enumerate(\n",
    "        advec_var.interelement_relations[element_0_tag]):\n",
    "        if element_1_tag != -1:\n",
    "            element_1_tag = advec_var.interelement_relations[element_0_tag,\n",
    "                                                             element_0_edge_id]\n",
    "\n",
    "            element_1_edge_id = np.where(\n",
    "                advec_var.interelement_relations[element_1_tag] \\\n",
    "                == element_0_tag)[0][0]\n",
    "\n",
    "            u_element_0 = advec_var.u_e_ij[:, element_0_tag]\n",
    "            u_element_1 = advec_var.u_e_ij[:, element_1_tag]\n",
    "\n",
    "            u_element_0_at_edge = af.flat(a2d_arbit_mesh.u_at_edge(u_element_0,\n",
    "                                                                   element_0_edge_id))\n",
    "            u_element_1_at_edge = af.flat(a2d_arbit_mesh.u_at_edge(u_element_1,\n",
    "                                                                   element_1_edge_id))\n",
    "\n",
    "            element_lf_flux[element_0_tag,\n",
    "                            element_0_edge_id] = a2d_arbit_mesh.lax_friedrichs_flux(\n",
    "                                u_element_0_at_edge,\n",
    "                                u_element_1_at_edge)\n",
    "\n",
    "        if element_1_tag == -1:\n",
    "            print('Element {} Tag at edge {} = -1'.format(element_0_tag,\n",
    "                                                          element_0_edge_id))\n",
    "            u_element_0 = advec_var.u_e_ij[:, element_0_tag]\n",
    "\n",
    "            u_element_0_at_edge = af.flat(a2d_arbit_mesh.u_at_edge(u_element_0,\n",
    "                                                    element_0_edge_id))\n",
    "            u_element_1_at_edge = af.np_to_af_array(np.zeros([params.N_LGL]))\n",
    "\n",
    "            element_lf_flux[element_0_tag,\n",
    "                            element_0_edge_id] = a2d_arbit_mesh.lax_friedrichs_flux(\n",
    "                                u_element_0_at_edge,\n",
    "                                u_element_1_at_edge)\n",
    "\n",
    "print('Done')\n"
   ]
  },
  {
   "cell_type": "code",
   "execution_count": null,
   "metadata": {},
   "outputs": [],
   "source": []
  }
 ],
 "metadata": {
  "kernelspec": {
   "display_name": "Python 3",
   "language": "python",
   "name": "python3"
  },
  "language_info": {
   "codemirror_mode": {
    "name": "ipython",
    "version": 3
   },
   "file_extension": ".py",
   "mimetype": "text/x-python",
   "name": "python",
   "nbconvert_exporter": "python",
   "pygments_lexer": "ipython3",
   "version": "3.6.3"
  }
 },
 "nbformat": 4,
 "nbformat_minor": 2
}
