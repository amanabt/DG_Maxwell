{
 "cells": [
  {
   "cell_type": "code",
   "execution_count": 1,
   "metadata": {},
   "outputs": [
    {
     "name": "stdout",
     "output_type": "stream",
     "text": [
      "gmshtranslator friendly reminder: rules and actions prototypes\n",
      "\n",
      "\n",
      "def node_condition(tag,x,y,z,physgroups): \n",
      "def node_action(tag,x,y,z):\n",
      "def element_condition(eletag,eletype,physgrp,nodes):\n",
      "def element_action(eletag,eletype,physgrp,nodes):\n"
     ]
    }
   ],
   "source": [
    "import os\n",
    "import sys\n",
    "sys.path.insert(0, os.path.abspath('../../'))\n",
    "\n",
    "import numpy as np\n",
    "import arrayfire as af\n",
    "from matplotlib import pyplot as plt\n",
    "\n",
    "from dg_maxwell import params\n",
    "from dg_maxwell import msh_parser\n",
    "from dg_maxwell import advection_2d\n",
    "from dg_maxwell import global_variables as gvar\n",
    "from dg_maxwell import utils\n",
    "from dg_maxwell import wave_equation_2d as w2d\n",
    "from dg_maxwell import isoparam\n",
    "from dg_maxwell import lagrange\n",
    "from dg_maxwell import advection_2d_arbit_mesh as a2d_arbit_mesh\n",
    "\n",
    "af.set_backend(params.backend)\n",
    "af.set_device(params.device)\n",
    "\n",
    "plt.rcParams['figure.figsize']     = 12, 7.5\n",
    "plt.rcParams['lines.linewidth']    = 1.5\n",
    "plt.rcParams['font.family']        = 'serif'\n",
    "plt.rcParams['font.weight']        = 'bold'\n",
    "plt.rcParams['font.size']          = 20  \n",
    "plt.rcParams['font.sans-serif']    = 'serif'\n",
    "plt.rcParams['text.usetex']        = True\n",
    "plt.rcParams['axes.linewidth']     = 1.5\n",
    "plt.rcParams['axes.titlesize']     = 'medium'\n",
    "plt.rcParams['axes.labelsize']     = 'medium'\n",
    "\n",
    "plt.rcParams['xtick.major.size']   = 8\n",
    "plt.rcParams['xtick.minor.size']   = 4\n",
    "plt.rcParams['xtick.major.pad']    = 8\n",
    "plt.rcParams['xtick.minor.pad']    = 8\n",
    "plt.rcParams['xtick.color']        = 'k'\n",
    "plt.rcParams['xtick.labelsize']    = 'medium'\n",
    "plt.rcParams['xtick.direction']    = 'in'    \n",
    "\n",
    "plt.rcParams['ytick.major.size']   = 8\n",
    "plt.rcParams['ytick.minor.size']   = 4\n",
    "plt.rcParams['ytick.major.pad']    = 8\n",
    "plt.rcParams['ytick.minor.pad']    = 8\n",
    "plt.rcParams['ytick.color']        = 'k'\n",
    "plt.rcParams['ytick.labelsize']    = 'medium'\n",
    "plt.rcParams['ytick.direction']    = 'in'\n",
    "plt.rcParams['text.usetex']        = True\n",
    "plt.rcParams['text.latex.unicode'] = True"
   ]
  },
  {
   "cell_type": "code",
   "execution_count": 2,
   "metadata": {},
   "outputs": [
    {
     "name": "stderr",
     "output_type": "stream",
     "text": [
      "/home/ubermensch/.local/anaconda3/lib/python3.6/site-packages/numpy/lib/polynomial.py:1193: FutureWarning: In the future extra properties will not be copied across when constructing one poly1d from another\n",
      "  other = poly1d(other)\n",
      "/home/ubermensch/.local/anaconda3/lib/python3.6/site-packages/numpy/lib/polynomial.py:1220: FutureWarning: In the future extra properties will not be copied across when constructing one poly1d from another\n",
      "  other = poly1d(other)\n"
     ]
    },
    {
     "name": "stdout",
     "output_type": "stream",
     "text": [
      "gmshTranslator: Initializing...\n",
      "gmshTranslator: Mesh has 988 nodes.\n",
      "gmshTranslator: Mesh has 374 elements.\n",
      "gmshTranslator: Processed 1366 lines.\n",
      "gmshTranslator: There are 1 physical groups available: \n",
      "gmshTranslator:      > 0\n",
      "gmshTranslator: Parsing nodes\n",
      "gmshTranslator: Parsing elements\n",
      "gmshTranslator: No rules for elements... skipping elements.\n",
      "gmshTranslator: Parsing nodes\n",
      "gmshTranslator: No rules for nodes... skipping nodes.\n",
      "gmshTranslator: Parsing elements\n",
      "advection_variables __init__ completed\n"
     ]
    }
   ],
   "source": [
    "params.mesh_file = '../read_and_plot_mesh/mesh/particle_in_rectangle.msh'\n",
    "advec_var = gvar.advection_variables(params.N_LGL, params.N_quad,\n",
    "                                     params.x_nodes, params.N_Elements,\n",
    "                                     params.c, params.total_time, params.wave,\n",
    "                                     params.c_x, params.c_y, params.courant,\n",
    "                                     params.mesh_file, params.total_time_2d)"
   ]
  },
  {
   "cell_type": "markdown",
   "metadata": {},
   "source": [
    "# Vectorized Surface term developmental Stage"
   ]
  },
  {
   "cell_type": "code",
   "execution_count": 3,
   "metadata": {},
   "outputs": [],
   "source": [
    "# 1. Find L_p(1) and L_p(-1)\n",
    "Lp = advec_var.lagrange_coeffs\n",
    "Lq = advec_var.lagrange_coeffs\n",
    "\n",
    "Lp_1           = utils.polyval_1d(Lp, af.constant(1, d0 = 1, dtype = af.Dtype.f64))\n",
    "Lp_1_slow_tile = af.moddims(af.transpose(af.tile(Lp_1, d0 = 1, d1 = params.N_LGL,\n",
    "                                                 d2 = params.N_LGL)),\n",
    "                            d0 = params.N_LGL * params.N_LGL, d1 = params.N_LGL)\n",
    "\n",
    "Lp_minus_1           = utils.polyval_1d(Lp, af.constant(-1, d0 = 1, dtype = af.Dtype.f64))\n",
    "Lp_minus_1_slow_tile = af.moddims(af.transpose(af.tile(Lp_minus_1, d0 = 1, d1 = params.N_LGL,\n",
    "                                                       d2 = params.N_LGL)),\n",
    "                                  d0 = params.N_LGL * params.N_LGL, d1 = params.N_LGL)\n",
    "\n",
    "Lq_1 = Lp_1.copy()\n",
    "Lq_1_quick_tile = af.tile(Lq_1, d0 = params.N_LGL, d1 = params.N_LGL)\n",
    "\n",
    "Lq_minus_1 = Lp_minus_1.copy()\n",
    "Lq_minus_1_quick_tile = af.tile(Lq_minus_1, d0 = params.N_LGL, d1 = params.N_LGL)\n",
    "\n",
    "# [LOOKS FINE]"
   ]
  },
  {
   "cell_type": "code",
   "execution_count": 4,
   "metadata": {},
   "outputs": [],
   "source": [
    "# 2. Find Lp(xi) and Lq(eta) [N_LGL * N_LGL, N_LGL]\n",
    "\n",
    "Lp_xi_i = utils.polyval_1d(Lp, advec_var.xi_LGL)\n",
    "Lp_xi_i_slow_tile = af.tile(af.reorder(Lp_xi_i, d0 = 2, d1 = 0, d2 = 1),\n",
    "                            d0 = params.N_LGL)\n",
    "Lp_xi_i_slow_tile = af.moddims(Lp_xi_i_slow_tile, d0 = params.N_LGL * params.N_LGL,\n",
    "                               d1 = params.N_LGL, d2 = 1)\n",
    "\n",
    "\n",
    "Lq_eta_j = utils.polyval_1d(Lq, advec_var.eta_LGL)\n",
    "Lq_eta_j_quick_tile = af.tile(Lq_eta_j, d0 = params.N_LGL)\n",
    "\n",
    "# [LOOKS FINE]"
   ]
  },
  {
   "cell_type": "code",
   "execution_count": 5,
   "metadata": {},
   "outputs": [
    {
     "name": "stdout",
     "output_type": "stream",
     "text": [
      "(64, 8)\n"
     ]
    }
   ],
   "source": [
    "# 3. Find F(xi, eta)\n",
    "\n",
    "F_xi_1_eta_j = af.constant(w2d.F_x(1), d0 = params.N_LGL * params.N_LGL, d1 = params.N_LGL)\n",
    "F_xi_minus_1_eta_j = af.constant(w2d.F_x(-1), d0 = params.N_LGL * params.N_LGL, d1 = params.N_LGL)\n",
    "F_xi_i_eta_1 = af.constant(w2d.F_y(1), d0 = params.N_LGL * params.N_LGL, d1 = params.N_LGL)\n",
    "F_xi_i_eta_minus_1 = af.constant(w2d.F_y(-1), d0 = params.N_LGL * params.N_LGL, d1 = params.N_LGL)\n",
    "\n",
    "print(F_xi_1_eta_j.shape)\n",
    "# [LOOKS FINE]"
   ]
  },
  {
   "cell_type": "code",
   "execution_count": 6,
   "metadata": {},
   "outputs": [
    {
     "name": "stdout",
     "output_type": "stream",
     "text": [
      "Element 59 Tag at edge 2 = -1\n",
      "Element 114 Tag at edge 1 = -1\n",
      "Element 165 Tag at edge 0 = -1\n",
      "Element 229 Tag at edge 1 = -1\n",
      "Done\n",
      "(64, 8)\n"
     ]
    }
   ],
   "source": [
    "# 3. Find lax friedrichs flux\n",
    "\n",
    "element_tag = 0\n",
    "element_lf_flux = a2d_arbit_mesh.lf_flux_all_edges(advec_var)\n",
    "\n",
    "F_xi_minus_1_eta_j = af.transpose(af.tile(w2d.F_x(af.flat(element_lf_flux[element_tag, 0])), d0 = 1,\n",
    "                                          d1 = params.N_LGL * params.N_LGL))\n",
    "F_xi_i_eta_minus_1 = af.transpose(af.tile(w2d.F_y(af.flat(element_lf_flux[element_tag, 1])), d0 = 1,\n",
    "                                          d1 = params.N_LGL * params.N_LGL))\n",
    "F_xi_1_eta_j       = af.transpose(af.tile(w2d.F_x(af.flat(element_lf_flux[element_tag, 2])), d0 = 1,\n",
    "                                          d1 = params.N_LGL * params.N_LGL))\n",
    "F_xi_i_eta_1       = af.transpose(af.tile(w2d.F_y(af.flat(element_lf_flux[element_tag, 3])), d0 = 1,\n",
    "                                          d1 = params.N_LGL * params.N_LGL))\n",
    "\n",
    "print(F_xi_i_eta_1.shape)"
   ]
  },
  {
   "cell_type": "code",
   "execution_count": 7,
   "metadata": {},
   "outputs": [],
   "source": [
    "# 4. Find isoparametric derivatives dx_dxi and dy_dxi\n",
    "\n",
    "dx_dxi = 0.1\n",
    "dy_deta = 0.1\n",
    "\n",
    "dx_dxi_tile = af.constant(dx_dxi, d0 = params.N_LGL * params.N_LGL, d1 = params.N_LGL)\n",
    "dy_deta_tile = af.constant(dy_deta, d0 = params.N_LGL * params.N_LGL, d1 = params.N_LGL)\n",
    "\n",
    "# [LOOKS FINE]"
   ]
  },
  {
   "cell_type": "code",
   "execution_count": 8,
   "metadata": {},
   "outputs": [],
   "source": [
    "# 5. Calculate the surface term intergal for the left edge\n",
    "\n",
    "integrand_left_edge = Lp_minus_1_slow_tile * Lq_eta_j_quick_tile * F_xi_minus_1_eta_j * dy_deta_tile\n",
    "integrand_left_edge = lagrange.lagrange_interpolation(integrand_left_edge, advec_var)\n",
    "integral_left_edge  = utils.integrate_1d(integrand_left_edge, order = params.N_LGL + 1,\n",
    "                                         scheme = 'gauss')\n",
    "\n",
    "# 6. Calculate the surface term intergal for the bottom edge\n",
    "integrand_bottom_edge = Lp_xi_i_slow_tile * Lq_minus_1_quick_tile * F_xi_i_eta_minus_1 * dx_dxi_tile\n",
    "integrand_bottom_edge = lagrange.lagrange_interpolation(integrand_bottom_edge, advec_var)\n",
    "integral_bottom_edge  = utils.integrate_1d(integrand_bottom_edge, order = params.N_LGL + 1,\n",
    "                                           scheme = 'gauss')\n",
    "\n",
    "# 7. Calculate the surface term intergal for the right edge\n",
    "integrand_right_edge = Lp_1_slow_tile * Lq_eta_j_quick_tile * F_xi_1_eta_j * dy_deta_tile\n",
    "integrand_right_edge = lagrange.lagrange_interpolation(integrand_right_edge, advec_var)\n",
    "integral_right_edge  = utils.integrate_1d(integrand_right_edge, order = params.N_LGL + 1,\n",
    "                                          scheme = 'gauss')\n",
    "\n",
    "# 8. Calculate the surface term intergal for the top edge\n",
    "integrand_top_edge = Lp_xi_i_slow_tile * Lq_1_quick_tile * F_xi_i_eta_1 * dx_dxi_tile\n",
    "integrand_top_edge = lagrange.lagrange_interpolation(integrand_top_edge, advec_var)\n",
    "integral_top_edge  = utils.integrate_1d(integrand_top_edge, order = params.N_LGL + 1,\n",
    "                                        scheme = 'gauss')\n"
   ]
  },
  {
   "cell_type": "code",
   "execution_count": 9,
   "metadata": {},
   "outputs": [],
   "source": [
    "# 9. Calculate the surface term\n",
    "\n",
    "surface_term = - integral_left_edge - integral_bottom_edge + integral_right_edge + integral_top_edge"
   ]
  },
  {
   "cell_type": "code",
   "execution_count": 3,
   "metadata": {},
   "outputs": [
    {
     "name": "stdout",
     "output_type": "stream",
     "text": [
      "Element 59 Tag at edge 2 = -1\n",
      "Element 114 Tag at edge 1 = -1\n",
      "Element 165 Tag at edge 0 = -1\n",
      "Element 229 Tag at edge 1 = -1\n",
      "Done\n"
     ]
    },
    {
     "data": {
      "text/plain": [
       "arrayfire.Array()\n",
       "Type: float\n",
       "Dims: (64, 230)"
      ]
     },
     "execution_count": 3,
     "metadata": {},
     "output_type": "execute_result"
    }
   ],
   "source": [
    "a2d_arbit_mesh.surface_term_vectorized(advec_var.u_e_ij, advec_var)"
   ]
  },
  {
   "cell_type": "markdown",
   "metadata": {},
   "source": [
    "# Tests related to the different modules in the developmental code"
   ]
  },
  {
   "cell_type": "code",
   "execution_count": 37,
   "metadata": {},
   "outputs": [],
   "source": [
    "# Different modes of tiling Lp\n",
    "\n",
    "# Quick tiling\n",
    "\n",
    "foo = af.range(params.N_LGL)\n",
    "\n",
    "foo_quick_tile = af.tile(foo, d0 = params.N_LGL, d1 = params.N_LGL)\n",
    "# print(foo_quick_tile)\n",
    "\n",
    "foo_slow_tile = af.moddims(af.transpose(af.tile(foo, d0 = 1, d1 = params.N_LGL, d2 = params.N_LGL)),\n",
    "                           d0 = params.N_LGL * params.N_LGL, d1 = params.N_LGL)\n",
    "# print(foo_slow_tile)"
   ]
  },
  {
   "cell_type": "code",
   "execution_count": 67,
   "metadata": {},
   "outputs": [],
   "source": [
    "# Quick/slow tiling for foo_1\n",
    "\n",
    "# foo_1 = foo_quick_tile[:params.N_LGL]\n",
    "foo_1 = af.transpose(af.moddims(af.range(params.N_LGL * params.N_LGL),\n",
    "                                d0 = params.N_LGL, d1 = params.N_LGL))\n",
    "\n",
    "# print(foo_1)\n",
    "# Quick tile\n",
    "foo_1_quick_tile = af.tile(foo_1, d0 = params.N_LGL)\n",
    "# print(foo_1_quick_tile)\n",
    "\n",
    "# slow tile\n",
    "foo_1_slow_tile = af.tile(af.reorder(foo_1, d0 = 2, d1 = 0, d2 = 1), d0 = params.N_LGL)\n",
    "foo_1_slow_tile = af.moddims(foo_1_slow_tile, d0 = params.N_LGL * params.N_LGL, d1 = params.N_LGL, d2 = 1)\n",
    "# print(foo_1_slow_tile)\n",
    "\n",
    "# Looks fine"
   ]
  },
  {
   "cell_type": "code",
   "execution_count": null,
   "metadata": {},
   "outputs": [],
   "source": []
  }
 ],
 "metadata": {
  "kernelspec": {
   "display_name": "Python 3",
   "language": "python",
   "name": "python3"
  },
  "language_info": {
   "codemirror_mode": {
    "name": "ipython",
    "version": 3
   },
   "file_extension": ".py",
   "mimetype": "text/x-python",
   "name": "python",
   "nbconvert_exporter": "python",
   "pygments_lexer": "ipython3",
   "version": "3.6.3"
  }
 },
 "nbformat": 4,
 "nbformat_minor": 2
}
