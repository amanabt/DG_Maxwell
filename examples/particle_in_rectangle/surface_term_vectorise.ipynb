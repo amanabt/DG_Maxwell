{
 "cells": [
  {
   "cell_type": "code",
   "execution_count": 2,
   "metadata": {},
   "outputs": [
    {
     "name": "stdout",
     "output_type": "stream",
     "text": [
      "gmshtranslator friendly reminder: rules and actions prototypes\n",
      "\n",
      "\n",
      "def node_condition(tag,x,y,z,physgroups): \n",
      "def node_action(tag,x,y,z):\n",
      "def element_condition(eletag,eletype,physgrp,nodes):\n",
      "def element_action(eletag,eletype,physgrp,nodes):\n"
     ]
    }
   ],
   "source": [
    "import os\n",
    "import sys\n",
    "sys.path.insert(0, os.path.abspath('../../'))\n",
    "\n",
    "import numpy as np\n",
    "import arrayfire as af\n",
    "from matplotlib import pyplot as plt\n",
    "\n",
    "from dg_maxwell import params\n",
    "from dg_maxwell import msh_parser\n",
    "from dg_maxwell import advection_2d\n",
    "from dg_maxwell import global_variables as gvar\n",
    "from dg_maxwell import utils\n",
    "from dg_maxwell import wave_equation_2d as w2d\n",
    "from dg_maxwell import isoparam\n",
    "from dg_maxwell import lagrange\n",
    "from dg_maxwell import advection_2d_arbit_mesh as a2d_arbit_mesh\n",
    "\n",
    "af.set_backend(params.backend)\n",
    "af.set_device(params.device)\n",
    "\n",
    "plt.rcParams['figure.figsize']     = 12, 7.5\n",
    "plt.rcParams['lines.linewidth']    = 1.5\n",
    "plt.rcParams['font.family']        = 'serif'\n",
    "plt.rcParams['font.weight']        = 'bold'\n",
    "plt.rcParams['font.size']          = 20  \n",
    "plt.rcParams['font.sans-serif']    = 'serif'\n",
    "plt.rcParams['text.usetex']        = True\n",
    "plt.rcParams['axes.linewidth']     = 1.5\n",
    "plt.rcParams['axes.titlesize']     = 'medium'\n",
    "plt.rcParams['axes.labelsize']     = 'medium'\n",
    "\n",
    "plt.rcParams['xtick.major.size']   = 8\n",
    "plt.rcParams['xtick.minor.size']   = 4\n",
    "plt.rcParams['xtick.major.pad']    = 8\n",
    "plt.rcParams['xtick.minor.pad']    = 8\n",
    "plt.rcParams['xtick.color']        = 'k'\n",
    "plt.rcParams['xtick.labelsize']    = 'medium'\n",
    "plt.rcParams['xtick.direction']    = 'in'    \n",
    "\n",
    "plt.rcParams['ytick.major.size']   = 8\n",
    "plt.rcParams['ytick.minor.size']   = 4\n",
    "plt.rcParams['ytick.major.pad']    = 8\n",
    "plt.rcParams['ytick.minor.pad']    = 8\n",
    "plt.rcParams['ytick.color']        = 'k'\n",
    "plt.rcParams['ytick.labelsize']    = 'medium'\n",
    "plt.rcParams['ytick.direction']    = 'in'\n",
    "plt.rcParams['text.usetex']        = True\n",
    "plt.rcParams['text.latex.unicode'] = True"
   ]
  },
  {
   "cell_type": "code",
   "execution_count": 3,
   "metadata": {},
   "outputs": [
    {
     "name": "stderr",
     "output_type": "stream",
     "text": [
      "/home/ubermensch/.local/anaconda3/lib/python3.6/site-packages/numpy/lib/polynomial.py:1193: FutureWarning: In the future extra properties will not be copied across when constructing one poly1d from another\n",
      "  other = poly1d(other)\n",
      "/home/ubermensch/.local/anaconda3/lib/python3.6/site-packages/numpy/lib/polynomial.py:1220: FutureWarning: In the future extra properties will not be copied across when constructing one poly1d from another\n",
      "  other = poly1d(other)\n"
     ]
    },
    {
     "name": "stdout",
     "output_type": "stream",
     "text": [
      "gmshTranslator: Initializing...\n",
      "gmshTranslator: Mesh has 988 nodes.\n",
      "gmshTranslator: Mesh has 374 elements.\n",
      "gmshTranslator: Processed 1366 lines.\n",
      "gmshTranslator: There are 1 physical groups available: \n",
      "gmshTranslator:      > 0\n",
      "gmshTranslator: Parsing nodes\n",
      "gmshTranslator: Parsing elements\n",
      "gmshTranslator: No rules for elements... skipping elements.\n",
      "gmshTranslator: Parsing nodes\n",
      "gmshTranslator: No rules for nodes... skipping nodes.\n",
      "gmshTranslator: Parsing elements\n",
      "advection_variables __init__ completed\n"
     ]
    }
   ],
   "source": [
    "params.mesh_file = '../read_and_plot_mesh/mesh/particle_in_rectangle.msh'\n",
    "advec_var = gvar.advection_variables(params.N_LGL, params.N_quad,\n",
    "                                     params.x_nodes, params.N_Elements,\n",
    "                                     params.c, params.total_time, params.wave,\n",
    "                                     params.c_x, params.c_y, params.courant,\n",
    "                                     params.mesh_file, params.total_time_2d)"
   ]
  },
  {
   "cell_type": "markdown",
   "metadata": {},
   "source": [
    "# Vectorized Surface term developmental Stage"
   ]
  },
  {
   "cell_type": "code",
   "execution_count": 32,
   "metadata": {},
   "outputs": [],
   "source": [
    "# 1. Find L_p(1) and L_p(-1)\n",
    "Lp = advec_var.lagrange_coeffs\n",
    "Lq = advec_var.lagrange_coeffs\n",
    "\n",
    "Lp_1           = utils.polyval_1d(Lp, af.constant(1, d0 = 1, dtype = af.Dtype.f64))\n",
    "Lp_1_slow_tile = af.moddims(af.transpose(af.tile(Lp_1, d0 = 1, d1 = params.N_LGL,\n",
    "                                                 d2 = params.N_LGL)),\n",
    "                            d0 = params.N_LGL * params.N_LGL, d1 = params.N_LGL)\n",
    "\n",
    "Lp_minus_1           = utils.polyval_1d(Lp, af.constant(-1, d0 = 1, dtype = af.Dtype.f64))\n",
    "Lp_minus_1_slow_tile = af.moddims(af.transpose(af.tile(Lp_minus_1, d0 = 1, d1 = params.N_LGL,\n",
    "                                                       d2 = params.N_LGL)),\n",
    "                                  d0 = params.N_LGL * params.N_LGL, d1 = params.N_LGL)\n",
    "\n",
    "Lq_1 = Lp_1.copy()\n",
    "Lq_1_quick_tile = af.tile(Lq_1, d0 = params.N_LGL, d1 = params.N_LGL)\n",
    "\n",
    "Lq_minus_1 = Lp_minus_1.copy()\n",
    "Lq_minus_1_quick_tile = af.tile(Lq_minus_1, d0 = params.N_LGL, d1 = params.N_LGL)\n",
    "# [LOOKS FINE]\n"
   ]
  },
  {
   "cell_type": "code",
   "execution_count": 33,
   "metadata": {},
   "outputs": [
    {
     "name": "stdout",
     "output_type": "stream",
     "text": [
      "arrayfire.Array()\n",
      "Type: double\n",
      "\n",
      "[8 8 1 1]\n",
      "    1.0000     0.0000     0.0000     0.0000     0.0000     0.0000    -0.0000     0.0000 \n",
      "    0.0000     1.0000     0.0000     0.0000    -0.0000    -0.0000    -0.0000     0.0000 \n",
      "   -0.0000    -0.0000     1.0000     0.0000    -0.0000    -0.0000     0.0000     0.0000 \n",
      "    0.0000     0.0000     0.0000     1.0000    -0.0000    -0.0000    -0.0000    -0.0000 \n",
      "   -0.0000    -0.0000    -0.0000    -0.0000     1.0000     0.0000     0.0000     0.0000 \n",
      "   -0.0000    -0.0000    -0.0000    -0.0000     0.0000     1.0000    -0.0000     0.0000 \n",
      "   -0.0000    -0.0000    -0.0000    -0.0000    -0.0000    -0.0000     1.0000    -0.0000 \n",
      "    0.0000     0.0000     0.0000     0.0000     0.0000    -0.0000    -0.0000     1.0000 \n",
      "\n",
      "\n"
     ]
    }
   ],
   "source": [
    "# 2. Find Lp(xi) and Lq(eta) [N_LGL * N_LGL, N_LGL]\n",
    "\n",
    "Lp_xi_i = utils.polyval_1d(Lp, advec_var.xi_LGL)\n",
    "\n",
    "# print(Lp_xi_i)\n",
    "\n",
    "Lq_eta_j = utils.polyval_1d(Lq, advec_var.eta_LGL)\n",
    "# print(Lq_eta_j)"
   ]
  },
  {
   "cell_type": "code",
   "execution_count": 37,
   "metadata": {},
   "outputs": [],
   "source": [
    "# Different modes of tiling Lp\n",
    "\n",
    "# Quick tiling\n",
    "\n",
    "foo = af.range(params.N_LGL)\n",
    "\n",
    "foo_quick_tile = af.tile(foo, d0 = params.N_LGL, d1 = params.N_LGL)\n",
    "# print(foo_quick_tile)\n",
    "\n",
    "foo_slow_tile = af.moddims(af.transpose(af.tile(foo, d0 = 1, d1 = params.N_LGL, d2 = params.N_LGL)),\n",
    "                           d0 = params.N_LGL * params.N_LGL, d1 = params.N_LGL)\n",
    "# print(foo_slow_tile)"
   ]
  },
  {
   "cell_type": "code",
   "execution_count": 42,
   "metadata": {},
   "outputs": [
    {
     "name": "stdout",
     "output_type": "stream",
     "text": [
      "arrayfire.Array()\n",
      "Type: float\n",
      "\n",
      "[1 8 8 1]\n",
      "    0.0000     1.0000     2.0000     3.0000     4.0000     5.0000     6.0000     7.0000 \n",
      "\n",
      "    0.0000     1.0000     2.0000     3.0000     4.0000     5.0000     6.0000     7.0000 \n",
      "\n",
      "    0.0000     1.0000     2.0000     3.0000     4.0000     5.0000     6.0000     7.0000 \n",
      "\n",
      "    0.0000     1.0000     2.0000     3.0000     4.0000     5.0000     6.0000     7.0000 \n",
      "\n",
      "    0.0000     1.0000     2.0000     3.0000     4.0000     5.0000     6.0000     7.0000 \n",
      "\n",
      "    0.0000     1.0000     2.0000     3.0000     4.0000     5.0000     6.0000     7.0000 \n",
      "\n",
      "    0.0000     1.0000     2.0000     3.0000     4.0000     5.0000     6.0000     7.0000 \n",
      "\n",
      "    0.0000     1.0000     2.0000     3.0000     4.0000     5.0000     6.0000     7.0000 \n",
      "\n",
      "\n",
      "\n"
     ]
    }
   ],
   "source": [
    "# Quick/slow tiling for foo_1\n",
    "\n",
    "foo_1 = foo_quick_tile[:params.N_LGL]\n",
    "\n",
    "# Quick tile\n",
    "foo_1_quick_tile = af.tile(foo_1, d0 = params.N_LGL)\n",
    "\n",
    "foo_1_slow_tile = af.tile(af.reorder(foo_1, d0 = 2, d1 = 0, d2 = 1), d1 = )\n",
    "print(foo_1_slow_tile)"
   ]
  },
  {
   "cell_type": "code",
   "execution_count": null,
   "metadata": {},
   "outputs": [],
   "source": []
  }
 ],
 "metadata": {
  "kernelspec": {
   "display_name": "Python 3",
   "language": "python",
   "name": "python3"
  },
  "language_info": {
   "codemirror_mode": {
    "name": "ipython",
    "version": 3
   },
   "file_extension": ".py",
   "mimetype": "text/x-python",
   "name": "python",
   "nbconvert_exporter": "python",
   "pygments_lexer": "ipython3",
   "version": "3.6.3"
  }
 },
 "nbformat": 4,
 "nbformat_minor": 2
}
