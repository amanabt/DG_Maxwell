{
 "cells": [
  {
   "cell_type": "code",
   "execution_count": 2,
   "metadata": {},
   "outputs": [],
   "source": [
    "import os\n",
    "import sys\n",
    "sys.path.insert(0, os.path.abspath('../'))\n",
    "\n",
    "import numpy as np\n",
    "from matplotlib import pyplot as plt\n",
    "from mpl_toolkits.mplot3d import Axes3D as ax\n",
    "import arrayfire as af\n",
    "\n",
    "from dg_maxwell import params\n",
    "from dg_maxwell import utils\n",
    "from dg_maxwell import lagrange\n",
    "from dg_maxwell import wave_equation_2d as w2d\n",
    "from dg_maxwell import msh_parser\n",
    "from dg_maxwell import isoparam\n",
    "\n",
    "af.set_backend(params.backend)"
   ]
  },
  {
   "cell_type": "code",
   "execution_count": 3,
   "metadata": {},
   "outputs": [
    {
     "name": "stderr",
     "output_type": "stream",
     "text": [
      "/home/ubermensch/.local/anaconda3/lib/python3.6/site-packages/numpy/lib/polynomial.py:1193: FutureWarning: In the future extra properties will not be copied across when constructing one poly1d from another\n",
      "  other = poly1d(other)\n",
      "/home/ubermensch/.local/anaconda3/lib/python3.6/site-packages/numpy/lib/polynomial.py:1220: FutureWarning: In the future extra properties will not be copied across when constructing one poly1d from another\n",
      "  other = poly1d(other)\n"
     ]
    }
   ],
   "source": [
    "N_LGL = 8\n",
    "xi_LGL  = af.np_to_af_array(np.array(lagrange.LGL_points(N_LGL)))\n",
    "eta_LGL = af.np_to_af_array(np.array(lagrange.LGL_points(N_LGL)))\n",
    "\n",
    "Xi, Eta = utils.af_meshgrid(xi_LGL, eta_LGL)\n",
    "\n",
    "eta = af.tile(eta_LGL, N_LGL)\n",
    "xi = af.flat(af.transpose(af.tile(xi_LGL, 1, N_LGL)))\n",
    "\n",
    "_, L_p = lagrange.lagrange_polynomials(xi_LGL)\n",
    "_, L_q = lagrange.lagrange_polynomials(eta_LGL)\n",
    "\n",
    "L_p = af.np_to_af_array(L_p)\n",
    "L_q = af.np_to_af_array(L_q)"
   ]
  },
  {
   "cell_type": "code",
   "execution_count": 4,
   "metadata": {},
   "outputs": [],
   "source": [
    "dLp_dxi  = utils.polynomial_derivative(L_p)\n",
    "dLq_deta = utils.polynomial_derivative(L_q)"
   ]
  },
  {
   "cell_type": "code",
   "execution_count": 5,
   "metadata": {},
   "outputs": [
    {
     "name": "stdout",
     "output_type": "stream",
     "text": [
      "gmshTranslator: Initializing...\n",
      "gmshTranslator: Mesh has 49 nodes.\n",
      "gmshTranslator: Mesh has 25 elements.\n",
      "gmshTranslator: Processed 78 lines.\n",
      "gmshTranslator: There are 1 physical groups available: \n",
      "gmshTranslator:      > 0\n",
      "gmshTranslator: Parsing nodes\n",
      "gmshTranslator: Parsing elements\n",
      "gmshTranslator: No rules for elements... skipping elements.\n",
      "gmshTranslator: Parsing nodes\n",
      "gmshTranslator: No rules for nodes... skipping nodes.\n",
      "gmshTranslator: Parsing elements\n"
     ]
    }
   ],
   "source": [
    "nodes, elements = msh_parser.read_order_2_msh('read_and_plot_mesh/mesh/square.msh')"
   ]
  },
  {
   "cell_type": "code",
   "execution_count": 6,
   "metadata": {},
   "outputs": [
    {
     "name": "stdout",
     "output_type": "stream",
     "text": [
      "gmshTranslator: Ending\n"
     ]
    }
   ],
   "source": [
    "def F_xi(u):\n",
    "    '''\n",
    "    '''\n",
    "    dxi_dx  = w2d.dxi_dx(nodes[elements[0]][:, 0], nodes[elements[0]][:, 1], xi, eta)\n",
    "    dxi_dy  = w2d.dxi_dy(nodes[elements[0]][:, 0], nodes[elements[0]][:, 1], xi, eta)\n",
    "    \n",
    "    return w2d.F_x(u) * dxi_dx + w2d.F_y(u) * dxi_dy\n",
    "\n",
    "def F_eta(u):\n",
    "    '''\n",
    "    '''\n",
    "    deta_dx = w2d.deta_dx(nodes[elements[0]][:, 0], nodes[elements[0]][:, 1], xi, eta)\n",
    "    deta_dy = w2d.deta_dy(nodes[elements[0]][:, 0], nodes[elements[0]][:, 1], xi, eta)\n",
    "    \n",
    "    return w2d.F_x(u) * deta_dx + w2d.F_y(u) * deta_dy"
   ]
  },
  {
   "cell_type": "code",
   "execution_count": 7,
   "metadata": {},
   "outputs": [],
   "source": [
    "def g_dd(x_nodes, y_nodes, xi, eta):\n",
    "    '''\n",
    "    '''\n",
    "    ans00  =   (w2d.dx_dxi(x_nodes, xi, eta))**2 \\\n",
    "             + (w2d.dy_dxi(y_nodes, xi, eta))**2\n",
    "    ans11  =   (w2d.dx_deta(x_nodes, xi, eta))**2 \\\n",
    "             + (w2d.dy_deta(y_nodes, xi, eta))**2\n",
    "    \n",
    "    ans01  =  (w2d.dx_dxi(x_nodes, xi, eta))  \\\n",
    "            * (w2d.dx_deta(x_nodes, xi, eta)) \\\n",
    "            + (w2d.dy_dxi(y_nodes, xi, eta))  \\\n",
    "            * (w2d.dy_deta(y_nodes, xi, eta))\n",
    "    \n",
    "    ans =  [[ans00, ans01],\n",
    "            [ans01, ans11]\n",
    "           ]\n",
    "    \n",
    "    return ans\n",
    "\n",
    "\n",
    "def g_uu(x_nodes, y_nodes, xi, eta):\n",
    "    gCov = g_dd(x_nodes, y_nodes, xi, eta)\n",
    "    \n",
    "    \n",
    "    a = gCov[0][0]\n",
    "    b = gCov[0][1]\n",
    "    c = gCov[1][0]\n",
    "    d = gCov[1][1]\n",
    "    \n",
    "    det = (a*d - b*c)\n",
    "    \n",
    "    ans = [[d / det, -b / det],\n",
    "           [-c / det, a / det]]\n",
    "    \n",
    "    return ans\n",
    "\n",
    "\n",
    "def sqrtgDet(x_nodes, y_nodes, xi, eta):\n",
    "    '''\n",
    "    '''\n",
    "    gCov = g_dd(x_nodes, y_nodes, xi, eta)\n",
    "    \n",
    "    a = gCov[0][0]\n",
    "    b = gCov[0][1]\n",
    "    c = gCov[1][0]\n",
    "    d = gCov[1][1]\n",
    "    \n",
    "    return (a*d - b*c)**0.5\n"
   ]
  },
  {
   "cell_type": "code",
   "execution_count": 8,
   "metadata": {},
   "outputs": [],
   "source": [
    "g_ab = g_uu(nodes[elements[0]][:, 0], nodes[elements[0]][:, 1], xi, eta)"
   ]
  },
  {
   "cell_type": "code",
   "execution_count": 9,
   "metadata": {},
   "outputs": [],
   "source": [
    "x = []\n",
    "y = []\n",
    "\n",
    "X = []\n",
    "Y = []\n",
    "\n",
    "u_init = []\n",
    "u_init_mesh = []\n",
    "F_xi_LGL  = []\n",
    "F_eta_LGL = []\n",
    "F_xi_LGL_mesh  = []\n",
    "F_eta_LGL_mesh = []\n",
    "\n",
    "\n",
    "for idx, element in enumerate(elements):\n",
    "    x.append(af.np_to_af_array(isoparam.isoparam_x_2D(nodes[element][:, 0], np.array(Xi), np.array(Eta))))\n",
    "    y.append(af.np_to_af_array(isoparam.isoparam_x_2D(nodes[element][:, 1], np.array(Xi), np.array(Eta))))\n",
    "\n",
    "    X.append(af.np_to_af_array(isoparam.isoparam_x_2D(nodes[element][:, 0], np.array(Xi), np.array(Eta))))\n",
    "    Y.append(af.np_to_af_array(isoparam.isoparam_x_2D(nodes[element][:, 1], np.array(Xi), np.array(Eta))))\n",
    "\n",
    "    x[-1] = af.moddims(x[-1], d0 = N_LGL * N_LGL, d1 = 1)\n",
    "    y[-1] = af.moddims(y[-1], d0 = N_LGL * N_LGL, d1 = 1)\n",
    "\n",
    "    u_init.append(np.e ** (-(x[-1]**2 + y[-1]**2) / 0.4**2))\n",
    "    u_init_mesh.append(af.np_to_af_array(np.array(af.moddims(u_init[-1], d0 = N_LGL, d1 = N_LGL)))) # Temporary numpy fix for the bug.\n",
    "    \n",
    "    F_xi_LGL.append(F_xi(u_init[idx]))\n",
    "    F_eta_LGL.append(F_eta(u_init[idx]))\n",
    "    \n",
    "    F_xi_LGL_mesh.append(af.np_to_af_array(np.array(af.moddims(F_xi_LGL[-1], d0 = N_LGL, d1 = N_LGL))))\n",
    "    F_eta_LGL_mesh.append(af.np_to_af_array(np.array(af.moddims(F_eta_LGL[-1], d0 = N_LGL, d1 = N_LGL))))\n"
   ]
  },
  {
   "cell_type": "code",
   "execution_count": 10,
   "metadata": {},
   "outputs": [
    {
     "name": "stderr",
     "output_type": "stream",
     "text": [
      "/home/ubermensch/.local/anaconda3/lib/python3.6/site-packages/matplotlib/cbook/deprecation.py:106: MatplotlibDeprecationWarning: Adding an axes using the same arguments as a previous axes currently reuses the earlier instance.  In a future version, a new instance will always be created and returned.  Meanwhile, this warning can be suppressed, and the future behavior ensured, by passing a unique label to each axes instance.\n",
      "  warnings.warn(message, mplDeprecation, stacklevel=1)\n"
     ]
    },
    {
     "data": {
      "image/png": "[encoded data removed]",
      "text/plain": [
       "<matplotlib.figure.Figure at 0x7fee188e1b00>"
      ]
     },
     "metadata": {},
     "output_type": "display_data"
    }
   ],
   "source": [
    "# fig = plt.figure()\n",
    "# ax = fig.add_subplot(111, projection='3d')\n",
    "color_levels = np.linspace(0., 1., 100)\n",
    "\n",
    "for idx in np.arange(len(u_init_mesh)):\n",
    "#     ax.plot_surface(np.array(X[idx]), np.array(Y[idx]), np.array(u_init_mesh[idx]))\n",
    "    plt.contourf(np.array(X[idx]), np.array(Y[idx]), np.array(u_init_mesh[idx]),\n",
    "                 200, levels = color_levels, cmap = 'jet')\n",
    "\n",
    "plt.axes().set_aspect('equal')\n",
    "plt.xlabel(r\"$x$\")\n",
    "plt.ylabel(r\"$y$\")\n",
    "plt.colorbar()\n",
    "\n",
    "# plt.savefig('u_init.png')\n",
    "plt.show()"
   ]
  },
  {
   "cell_type": "code",
   "execution_count": 11,
   "metadata": {},
   "outputs": [],
   "source": [
    "L_p_array = af.moddims(af.tile(af.transpose(af.reorder(L_p, d0 = 0, d1 = 2, d2 = 1)),\n",
    "                               d0 = N_LGL), d0 = N_LGL * N_LGL, d1 = 1, d2 = N_LGL)\n",
    "L_p_array = af.reorder(L_p_array, d0 = 0, d1 = 2, d2 = 1)\n",
    "\n",
    "L_q_array = af.tile(L_p, d0 = N_LGL)"
   ]
  },
  {
   "cell_type": "code",
   "execution_count": 12,
   "metadata": {},
   "outputs": [],
   "source": [
    "u_af = af.np_to_af_array(np.zeros([len(u_init_mesh), N_LGL, N_LGL]))\n",
    "\n",
    "for idx, u in enumerate(u_init_mesh):\n",
    "    u_af[idx] = af.reorder(u, d0 = 2, d1 = 0, d2 = 1)\n",
    "    \n",
    "u_af = af.np_to_af_array(np.array(u_af))"
   ]
  },
  {
   "cell_type": "code",
   "execution_count": 13,
   "metadata": {},
   "outputs": [
    {
     "name": "stdout",
     "output_type": "stream",
     "text": [
      "1.0\n",
      "1.0\n",
      "1.0\n",
      "1.0\n",
      "1.0\n",
      "1.0\n",
      "1.0\n",
      "1.0\n",
      "1.0\n"
     ]
    }
   ],
   "source": [
    "for idx in np.arange(len(u_init_mesh)):\n",
    "    print(af.all_true(u_init_mesh[idx] - af.reorder(u_af[idx], d0 = 1, d1 = 2, d2 = 0) == 0))"
   ]
  },
  {
   "cell_type": "code",
   "execution_count": 14,
   "metadata": {},
   "outputs": [],
   "source": [
    "u_af_grid = af.transpose(af.moddims(af.reorder(u_af, d0 = 0, d1 = 3, d2 = 1, d3 = 2), d0 = 3, d1 = 3, d2 = N_LGL, d3 = N_LGL))"
   ]
  },
  {
   "cell_type": "code",
   "execution_count": 15,
   "metadata": {},
   "outputs": [
    {
     "name": "stdout",
     "output_type": "stream",
     "text": [
      "1.0\n",
      "1.0\n",
      "1.0\n",
      "1.0\n",
      "1.0\n",
      "1.0\n",
      "1.0\n",
      "1.0\n",
      "1.0\n"
     ]
    }
   ],
   "source": [
    "print(af.all_true(u_init_mesh[0] - af.reorder(u_af_grid[0, 0], d0 = 2, d1 = 3, d2 = 1, d3 = 0) == 0))\n",
    "print(af.all_true(u_init_mesh[1] - af.reorder(u_af_grid[0, 1], d0 = 2, d1 = 3, d2 = 1, d3 = 0) == 0))\n",
    "print(af.all_true(u_init_mesh[2] - af.reorder(u_af_grid[0, 2], d0 = 2, d1 = 3, d2 = 1, d3 = 0) == 0))\n",
    "print(af.all_true(u_init_mesh[3] - af.reorder(u_af_grid[1, 0], d0 = 2, d1 = 3, d2 = 1, d3 = 0) == 0))\n",
    "print(af.all_true(u_init_mesh[4] - af.reorder(u_af_grid[1, 1], d0 = 2, d1 = 3, d2 = 1, d3 = 0) == 0))\n",
    "print(af.all_true(u_init_mesh[5] - af.reorder(u_af_grid[1, 2], d0 = 2, d1 = 3, d2 = 1, d3 = 0) == 0))\n",
    "print(af.all_true(u_init_mesh[6] - af.reorder(u_af_grid[2, 0], d0 = 2, d1 = 3, d2 = 1, d3 = 0) == 0))\n",
    "print(af.all_true(u_init_mesh[7] - af.reorder(u_af_grid[2, 1], d0 = 2, d1 = 3, d2 = 1, d3 = 0) == 0))\n",
    "print(af.all_true(u_init_mesh[8] - af.reorder(u_af_grid[2, 2], d0 = 2, d1 = 3, d2 = 1, d3 = 0) == 0))"
   ]
  },
  {
   "cell_type": "code",
   "execution_count": 16,
   "metadata": {},
   "outputs": [
    {
     "name": "stdout",
     "output_type": "stream",
     "text": [
      "arrayfire.Array()\n",
      "Type: double\n",
      "\n",
      "[1 1 8 1]\n",
      "    0.0047 \n",
      "\n",
      "    0.0039 \n",
      "\n",
      "    0.0024 \n",
      "\n",
      "    0.0010 \n",
      "\n",
      "    0.0003 \n",
      "\n",
      "    0.0001 \n",
      "\n",
      "    0.0000 \n",
      "\n",
      "    0.0000 \n",
      "\n",
      "\n",
      "\n"
     ]
    }
   ],
   "source": [
    "print(u_af_grid[0, 0, :, 2])"
   ]
  },
  {
   "cell_type": "code",
   "execution_count": 17,
   "metadata": {},
   "outputs": [
    {
     "name": "stderr",
     "output_type": "stream",
     "text": [
      "/home/ubermensch/.local/anaconda3/lib/python3.6/site-packages/matplotlib/cbook/deprecation.py:106: MatplotlibDeprecationWarning: Adding an axes using the same arguments as a previous axes currently reuses the earlier instance.  In a future version, a new instance will always be created and returned.  Meanwhile, this warning can be suppressed, and the future behavior ensured, by passing a unique label to each axes instance.\n",
      "  warnings.warn(message, mplDeprecation, stacklevel=1)\n"
     ]
    },
    {
     "data": {
      "image/png": "[encoded data removed]",
      "text/plain": [
       "<matplotlib.figure.Figure at 0x7fee0c59dc18>"
      ]
     },
     "metadata": {},
     "output_type": "display_data"
    }
   ],
   "source": [
    "# plt.contourf(np.array(X[0]), np.array(Y[0]), np.array(af.reorder(u_af_grid[0, 0], 2, 3, 0, 1)),\n",
    "#              200, levels = color_levels, cmap = 'jet')\n",
    "\n",
    "plt.contourf(np.array(X[0]), np.array(Y[0]), np.array(af.reorder(u_af_grid[0, 0], 2, 3, 0, 1)), 200, levels = color_levels, cmap = 'jet')\n",
    "plt.contourf(np.array(X[1]), np.array(Y[1]), np.array(af.reorder(u_af_grid[0, 1], 2, 3, 0, 1)), 200, levels = color_levels, cmap = 'jet')\n",
    "plt.contourf(np.array(X[2]), np.array(Y[2]), np.array(af.reorder(u_af_grid[0, 2], 2, 3, 0, 1)), 200, levels = color_levels, cmap = 'jet')\n",
    "plt.contourf(np.array(X[3]), np.array(Y[3]), np.array(af.reorder(u_af_grid[1, 0], 2, 3, 0, 1)), 200, levels = color_levels, cmap = 'jet')\n",
    "plt.contourf(np.array(X[4]), np.array(Y[4]), np.array(af.reorder(u_af_grid[1, 1], 2, 3, 0, 1)), 200, levels = color_levels, cmap = 'jet')\n",
    "plt.contourf(np.array(X[5]), np.array(Y[5]), np.array(af.reorder(u_af_grid[1, 2], 2, 3, 0, 1)), 200, levels = color_levels, cmap = 'jet')\n",
    "plt.contourf(np.array(X[6]), np.array(Y[6]), np.array(af.reorder(u_af_grid[2, 0], 2, 3, 0, 1)), 200, levels = color_levels, cmap = 'jet')\n",
    "plt.contourf(np.array(X[7]), np.array(Y[7]), np.array(af.reorder(u_af_grid[2, 1], 2, 3, 0, 1)), 200, levels = color_levels, cmap = 'jet')\n",
    "plt.contourf(np.array(X[8]), np.array(Y[8]), np.array(af.reorder(u_af_grid[2, 2], 2, 3, 0, 1)), 200, levels = color_levels, cmap = 'jet')\n",
    "\n",
    "plt.axes().set_aspect('equal')\n",
    "plt.xlabel(r\"$x$\")\n",
    "plt.ylabel(r\"$y$\")\n",
    "plt.colorbar()\n",
    "\n",
    "# plt.savefig('u_init.png')\n",
    "plt.show()"
   ]
  },
  {
   "cell_type": "code",
   "execution_count": 18,
   "metadata": {},
   "outputs": [],
   "source": [
    "u_vertical_boundary = []\n",
    "\n",
    "for i in np.arange(u_af_grid.shape[0]):\n",
    "    for j in np.arange(u_af_grid.shape[1]):\n",
    "#         print(i, (j + 1) % 3, '->', end = '')\n",
    "#         print(i, j)\n",
    "        u_vertical_boundary.append([])\n",
    "        u_vertical_boundary[-1].append(af.reorder((u_af_grid[i, (j + 1) % 3, :, 0] - u_af_grid[i, j, :, N_LGL - 1]) / 2,\n",
    "                                                  d0 = 2, d1 = 1, d2 = 0))\n",
    "\n",
    "# u_vertical_boundary[-1].append(af.reorder((u_af_grid[0, 1, :, 0] - u_af_grid[0, 0, :, N_LGL - 1]) / 2, d0 = 2, d1 = 1, d2 = 0))\n",
    "# u_vertical_boundary[-1].append(af.reorder((u_af_grid[0, 2, :, 0] - u_af_grid[0, 1, :, N_LGL - 1]) / 2, d0 = 2, d1 = 1, d2 = 0))\n",
    "# u_vertical_boundary[-1].append(af.reorder((u_af_grid[0, 0, :, 0] - u_af_grid[0, 2, :, N_LGL - 1]) / 2, d0 = 2, d1 = 1, d2 = 0))\n",
    "\n",
    "# u_vertical_boundary.append([])\n",
    "# u_vertical_boundary[-1].append(af.reorder((u_af_grid[1, 1, :, 0] - u_af_grid[1, 0, :, N_LGL - 1]) / 2, d0 = 2, d1 = 1, d2 = 0))\n",
    "# u_vertical_boundary[-1].append(af.reorder((u_af_grid[1, 2, :, 0] - u_af_grid[1, 1, :, N_LGL - 1]) / 2, d0 = 2, d1 = 1, d2 = 0))\n",
    "# u_vertical_boundary[-1].append(af.reorder((u_af_grid[1, 0, :, 0] - u_af_grid[1, 2, :, N_LGL - 1]) / 2, d0 = 2, d1 = 1, d2 = 0))\n",
    "\n",
    "# u_vertical_boundary.append([])\n",
    "# u_vertical_boundary[-1].append(af.reorder((u_af_grid[2, 1, :, 0] - u_af_grid[2, 0, :, N_LGL - 1]) / 2, d0 = 2, d1 = 1, d2 = 0))\n",
    "# u_vertical_boundary[-1].append(af.reorder((u_af_grid[2, 2, :, 0] - u_af_grid[2, 1, :, N_LGL - 1]) / 2, d0 = 2, d1 = 1, d2 = 0))\n",
    "# u_vertical_boundary[-1].append(af.reorder((u_af_grid[2, 0, :, 0] - u_af_grid[2, 2, :, N_LGL - 1]) / 2, d0 = 2, d1 = 1, d2 = 0))\n"
   ]
  },
  {
   "cell_type": "code",
   "execution_count": 19,
   "metadata": {},
   "outputs": [],
   "source": [
    "u_horizontal_boundary = []\n",
    "\n",
    "for i in np.arange(u_af_grid.shape[0]):\n",
    "    for j in np.arange(u_af_grid.shape[1]):\n",
    "        u_horizontal_boundary.append([])\n",
    "        u_horizontal_boundary[-1].append(af.reorder((u_af_grid[(j + 1) % 3, i, N_LGL - 1, :] - u_af_grid[j, i, 0, :]) / 2,\n",
    "                                                    d0 = 3, d1 = 1, d2 = 2, d3 = 0))"
   ]
  },
  {
   "cell_type": "code",
   "execution_count": 20,
   "metadata": {},
   "outputs": [],
   "source": [
    "for row in u_vertical_boundary:\n",
    "    for u in row:\n",
    "        af.display(u, 14)"
   ]
  },
  {
   "cell_type": "code",
   "execution_count": 21,
   "metadata": {},
   "outputs": [],
   "source": [
    "for row in u_horizontal_boundary:\n",
    "    for u in row:\n",
    "        af.display(u, 14)"
   ]
  },
  {
   "cell_type": "code",
   "execution_count": 22,
   "metadata": {},
   "outputs": [],
   "source": [
    "F_xi_af = af.np_to_af_array(np.zeros([len(F_xi_LGL_mesh), N_LGL, N_LGL]))\n",
    "\n",
    "for idx, F in enumerate(F_xi_LGL_mesh):\n",
    "    F_xi_af[idx] = af.reorder(F, d0 = 2, d1 = 0, d2 = 1)\n",
    "    \n",
    "F_xi_af = af.np_to_af_array(np.array(F_xi_af))\n",
    "F_xi_af_grid = af.transpose(af.moddims(af.reorder(F_xi_af, d0 = 0, d1 = 3, d2 = 1, d3 = 2), d0 = 3, d1 = 3, d2 = N_LGL, d3 = N_LGL))\n",
    "\n",
    "\n",
    "\n",
    "F_eta_af = af.np_to_af_array(np.zeros([len(F_eta_LGL_mesh), N_LGL, N_LGL]))\n",
    "\n",
    "for idx, F in enumerate(F_xi_LGL_mesh):\n",
    "    F_eta_af[idx] = af.reorder(F, d0 = 2, d1 = 0, d2 = 1)\n",
    "    \n",
    "F_eta_af = af.np_to_af_array(np.array(F_eta_af))\n",
    "F_eta_af_grid = af.transpose(af.moddims(af.reorder(F_eta_af, d0 = 0, d1 = 3, d2 = 1, d3 = 2), d0 = 3, d1 = 3, d2 = N_LGL, d3 = N_LGL))"
   ]
  },
  {
   "cell_type": "code",
   "execution_count": 23,
   "metadata": {},
   "outputs": [],
   "source": [
    "F_eta_vertical_boundary = []\n",
    "\n",
    "for i in np.arange(F_eta_af_grid.shape[0]):\n",
    "    for j in np.arange(F_xi_af_grid.shape[1]):\n",
    "        F_eta_vertical_boundary.append([])\n",
    "        F_eta_vertical_boundary[-1].append(af.reorder((F_eta_af_grid[i, (j + 1) % 3, :, 0] + F_eta_af_grid[i, j, :, N_LGL - 1]) / 2,\n",
    "                                                      d0 = 2, d1 = 1, d2 = 0))"
   ]
  },
  {
   "cell_type": "code",
   "execution_count": 30,
   "metadata": {},
   "outputs": [],
   "source": [
    "F_xi_horizontal_boundary = []\n",
    "\n",
    "for i in np.arange(F_xi_af_grid.shape[0]):\n",
    "    F_xi_horizontal_boundary.append([])\n",
    "    for j in np.arange(F_xi_af_grid.shape[1]):\n",
    "        F_xi_horizontal_boundary[-1].append(af.reorder((F_xi_af_grid[(j + 1) % 3, i, N_LGL - 1, :] + F_xi_af_grid[j, i, 0, :]) / 2,\n",
    "                                                       d0 = 3, d1 = 1, d2 = 2, d3 = 0))"
   ]
  },
  {
   "cell_type": "code",
   "execution_count": 32,
   "metadata": {},
   "outputs": [
    {
     "name": "stdout",
     "output_type": "stream",
     "text": [
      "arrayfire.Array()\n",
      "Type: double\n",
      "\n",
      "[8 1 1 1]\n",
      "    0.0029 \n",
      "    0.0049 \n",
      "    0.0141 \n",
      "    0.0505 \n",
      "    0.1616 \n",
      "    0.3779 \n",
      "    0.6189 \n",
      "    0.7481 \n",
      "\n",
      "\n"
     ]
    }
   ],
   "source": [
    "print(F_xi_horizontal_boundary[0][0])"
   ]
  },
  {
   "cell_type": "code",
   "execution_count": 25,
   "metadata": {},
   "outputs": [],
   "source": [
    "f_horizontal = []\n",
    "f_vertical   = []\n",
    "\n",
    "for idx in np.arange(len(F_xi_horizontal_boundary)):\n",
    "    f_horizontal.append(F_xi_horizontal_boundary[idx] + u_horizontal_boundary[idx])\n",
    "    f_vertical.append(F_eta_vertical_boundary[idx] + u_vertical_boundary[idx])\n"
   ]
  },
  {
   "cell_type": "code",
   "execution_count": null,
   "metadata": {},
   "outputs": [],
   "source": []
  }
 ],
 "metadata": {
  "kernelspec": {
   "display_name": "Python 3",
   "language": "python",
   "name": "python3"
  },
  "language_info": {
   "codemirror_mode": {
    "name": "ipython",
    "version": 3
   },
   "file_extension": ".py",
   "mimetype": "text/x-python",
   "name": "python",
   "nbconvert_exporter": "python",
   "pygments_lexer": "ipython3",
   "version": "3.6.3"
  }
 },
 "nbformat": 4,
 "nbformat_minor": 2
}
